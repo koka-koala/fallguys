{
 "cells": [
  {
   "cell_type": "code",
   "execution_count": 1,
   "metadata": {
    "ExecuteTime": {
     "end_time": "2020-12-03T05:30:01.129338Z",
     "start_time": "2020-12-03T05:29:56.585843Z"
    }
   },
   "outputs": [],
   "source": [
    "import pandas as pd\n",
    "import numpy as np\n",
    "import matplotlib.pyplot as plt"
   ]
  },
  {
   "cell_type": "markdown",
   "metadata": {
    "heading_collapsed": true
   },
   "source": [
    "### Function"
   ]
  },
  {
   "cell_type": "code",
   "execution_count": 2,
   "metadata": {
    "ExecuteTime": {
     "end_time": "2020-12-03T05:30:01.155598Z",
     "start_time": "2020-12-03T05:30:01.151255Z"
    },
    "hidden": true
   },
   "outputs": [],
   "source": [
    "def an_filename(name):\n",
    "    '''Get the real file name not the path from csv file'''\n",
    "    filename = \"a_\" + name.split(\"a_\")[1]\n",
    "    return filename\n",
    "\n",
    "def sen_filename(name):\n",
    "    '''Get the real file name not the path from csv file'''\n",
    "    filename = \"s_\" + name.split(\"s_\")[1]\n",
    "    return filename"
   ]
  },
  {
   "cell_type": "code",
   "execution_count": 3,
   "metadata": {
    "ExecuteTime": {
     "end_time": "2020-12-03T05:30:01.181835Z",
     "start_time": "2020-12-03T05:30:01.177869Z"
    },
    "hidden": true
   },
   "outputs": [],
   "source": [
    "def convert(seconds): \n",
    "    milli = (seconds % 1) * 100\n",
    "    seconds = seconds % (24 * 3600) \n",
    "    hour = seconds // 3600\n",
    "    seconds %= 3600\n",
    "    minutes = seconds // 60\n",
    "    seconds %= 60\n",
    "      \n",
    "    return \"%d:%02d:%02d:%02d\" % (hour, minutes, seconds, milli)"
   ]
  },
  {
   "cell_type": "code",
   "execution_count": 4,
   "metadata": {
    "ExecuteTime": {
     "end_time": "2020-12-03T05:30:01.204999Z",
     "start_time": "2020-12-03T05:30:01.199288Z"
    },
    "hidden": true
   },
   "outputs": [],
   "source": [
    "def key(X):\n",
    "    key, value = list(X.items())[0]\n",
    "    return key.strip(\"()\")\n",
    "\n",
    "def value(X):\n",
    "    key, value = list(X.items())[0]\n",
    "    key2, value2 = list(value[0].items())[0]\n",
    "    return value2\n",
    "\n",
    "def process(X):\n",
    "    key, value = list(X.items())[0]\n",
    "    key2, value2 = list(value[0].items())[0]\n",
    "    return key2"
   ]
  },
  {
   "cell_type": "code",
   "execution_count": 5,
   "metadata": {
    "ExecuteTime": {
     "end_time": "2020-12-03T05:30:01.227021Z",
     "start_time": "2020-12-03T05:30:01.222997Z"
    },
    "hidden": true
   },
   "outputs": [],
   "source": [
    "def check_between(time_stamp):\n",
    "    for i in range(fall_anclean1.shape[0]):\n",
    "        if fall_anclean1.loc[i,\"start\"] < time_stamp and time_stamp < fall_anclean1.loc[i,\"end\"]:\n",
    "            return fall_anclean1.loc[i,\"activitiy\"] + \" \" + str(fall_anclean1.loc[i,\"batch\"])   \n",
    "    return None"
   ]
  },
  {
   "cell_type": "markdown",
   "metadata": {
    "heading_collapsed": true
   },
   "source": [
    "### Prepare Annotation dataframe"
   ]
  },
  {
   "cell_type": "code",
   "execution_count": null,
   "metadata": {
    "ExecuteTime": {
     "end_time": "2020-12-02T07:28:30.117315Z",
     "start_time": "2020-12-02T07:28:29.393719Z"
    },
    "hidden": true
   },
   "outputs": [],
   "source": [
    "anno_basepath = \"../raw_data/full_data/\" # using for iterate path\n",
    "anno_csvpath = \"../raw_data/sample/annotations.csv\"\n",
    "an_csv = pd.read_csv(anno_csvpath)\n",
    "an_csv[\"real_filename\"] = an_csv[\"filename\"].apply(an_filename)\n",
    "an_csv # make real file name for iterate path"
   ]
  },
  {
   "cell_type": "code",
   "execution_count": null,
   "metadata": {
    "ExecuteTime": {
     "end_time": "2020-12-02T07:28:47.495102Z",
     "start_time": "2020-12-02T07:28:30.162262Z"
    },
    "hidden": true
   },
   "outputs": [],
   "source": [
    "an_df = pd.read_json(\"../raw_data/sample/annot/\" + an_csv[\"real_filename\"][0])"
   ]
  },
  {
   "cell_type": "code",
   "execution_count": null,
   "metadata": {
    "ExecuteTime": {
     "end_time": "2020-12-02T07:28:47.670685Z",
     "start_time": "2020-12-02T07:28:47.658269Z"
    },
    "hidden": true
   },
   "outputs": [],
   "source": [
    "an_df[\"activities\"] = an_df[\"dt\"].apply(key)\n",
    "an_df[\"process\"] = an_df[\"dt\"].apply(process)\n",
    "an_df[\"time\"] = an_df[\"dt\"].apply(value)\n",
    "an_df = an_df[an_df.columns[-3:]]"
   ]
  },
  {
   "cell_type": "code",
   "execution_count": null,
   "metadata": {
    "ExecuteTime": {
     "end_time": "2020-12-02T07:28:47.753039Z",
     "start_time": "2020-12-02T07:28:47.737217Z"
    },
    "hidden": true
   },
   "outputs": [],
   "source": [
    "row = an_df.shape[0]\n",
    "n = 0\n",
    "list_begin = []\n",
    "list_end = []\n",
    "list_act = []\n",
    "for row in range(int(row/2)):\n",
    "    list_begin.append(an_df[\"time\"][n])\n",
    "    list_act.append(an_df[\"activities\"][n])\n",
    "    list_end.append(an_df[\"time\"][n+1])\n",
    "    n +=2"
   ]
  },
  {
   "cell_type": "code",
   "execution_count": null,
   "metadata": {
    "ExecuteTime": {
     "end_time": "2020-12-02T07:28:47.833636Z",
     "start_time": "2020-12-02T07:28:47.827892Z"
    },
    "hidden": true
   },
   "outputs": [],
   "source": [
    "an_dict_clean = {\"activitiy\" : list_act, \"start\" : list_begin, \"end\" : list_end}\n",
    "an_df_clean = pd.DataFrame(an_dict_clean)"
   ]
  },
  {
   "cell_type": "code",
   "execution_count": null,
   "metadata": {
    "ExecuteTime": {
     "end_time": "2020-12-02T07:28:47.943130Z",
     "start_time": "2020-12-02T07:28:47.931790Z"
    },
    "hidden": true,
    "scrolled": true
   },
   "outputs": [],
   "source": [
    "an_df_clean.head()"
   ]
  },
  {
   "cell_type": "code",
   "execution_count": null,
   "metadata": {
    "ExecuteTime": {
     "end_time": "2020-12-02T07:28:48.070580Z",
     "start_time": "2020-12-02T07:28:48.055003Z"
    },
    "hidden": true
   },
   "outputs": [],
   "source": [
    "batch = []\n",
    "batch_no = 0\n",
    "start = []\n",
    "end = []\n",
    "activitiy = []\n",
    "for row in range(an_df_clean.shape[0]):\n",
    "    start_an = an_df_clean.loc[row, \"start\"]\n",
    "    end_an = start_an + 2000\n",
    "    if end_an > an_df_clean.loc[row, \"end\"]:\n",
    "        continue\n",
    "    start.append(start_an)\n",
    "    end.append(end_an)\n",
    "    activitiy.append(an_df_clean.loc[row, \"activitiy\"])\n",
    "    batch.append(batch_no)\n",
    "    batch_no += 1\n",
    "    start_an += 2000"
   ]
  },
  {
   "cell_type": "code",
   "execution_count": null,
   "metadata": {
    "ExecuteTime": {
     "end_time": "2020-12-02T07:28:48.173775Z",
     "start_time": "2020-12-02T07:28:48.167669Z"
    },
    "hidden": true
   },
   "outputs": [],
   "source": [
    "an_dict_clean = {\"activitiy\" : activitiy, \"start\" : start, \"end\" : end, \"batch\" : batch}\n",
    "an_df_clean = pd.DataFrame(an_dict_clean)"
   ]
  },
  {
   "cell_type": "code",
   "execution_count": null,
   "metadata": {
    "ExecuteTime": {
     "end_time": "2020-12-02T07:29:15.567079Z",
     "start_time": "2020-12-02T07:29:15.552978Z"
    },
    "hidden": true
   },
   "outputs": [],
   "source": [
    "an_df_clean.head()"
   ]
  },
  {
   "cell_type": "markdown",
   "metadata": {
    "heading_collapsed": true
   },
   "source": [
    "### Prepare Sensor dataframe"
   ]
  },
  {
   "cell_type": "code",
   "execution_count": null,
   "metadata": {
    "ExecuteTime": {
     "end_time": "2020-12-02T07:29:25.025287Z",
     "start_time": "2020-12-02T07:29:24.666298Z"
    },
    "hidden": true
   },
   "outputs": [],
   "source": [
    "sensor_csvpath = \"../raw_data/sample/sensors.csv\"\n",
    "sen_csv = pd.read_csv(sensor_csvpath)\n",
    "sen_csv[\"real_filename\"] = sen_csv[\"filename\"].apply(sen_filename)\n",
    "sen_csv.head()"
   ]
  },
  {
   "cell_type": "code",
   "execution_count": null,
   "metadata": {
    "ExecuteTime": {
     "end_time": "2020-12-02T07:29:25.157850Z",
     "start_time": "2020-12-02T07:29:25.154722Z"
    },
    "hidden": true
   },
   "outputs": [],
   "source": [
    "sen_path_base = \"../raw_data/sample/sens/\""
   ]
  },
  {
   "cell_type": "code",
   "execution_count": null,
   "metadata": {
    "ExecuteTime": {
     "end_time": "2020-12-02T07:29:26.853632Z",
     "start_time": "2020-12-02T07:29:26.848821Z"
    },
    "hidden": true
   },
   "outputs": [],
   "source": [
    "sample_path = sen_path_base + sen_csv[\"real_filename\"][50];sample_path"
   ]
  },
  {
   "cell_type": "code",
   "execution_count": null,
   "metadata": {
    "ExecuteTime": {
     "end_time": "2020-12-02T07:29:27.245090Z",
     "start_time": "2020-12-02T07:29:27.073240Z"
    },
    "hidden": true,
    "scrolled": true
   },
   "outputs": [],
   "source": [
    "sen_json = pd.read_json(sample_path)\n",
    "sen_json.head()"
   ]
  },
  {
   "cell_type": "code",
   "execution_count": null,
   "metadata": {
    "ExecuteTime": {
     "end_time": "2020-12-02T07:29:27.423779Z",
     "start_time": "2020-12-02T07:29:27.418812Z"
    },
    "hidden": true
   },
   "outputs": [],
   "source": [
    "sen_acc = np.array(sen_json.dt[\"a\"])\n",
    "acc_df = pd.DataFrame(sen_acc, columns=[\"time_stamp\", \"sensor_time_stamp\",\"X\",\"Y\",\"Z\"])"
   ]
  },
  {
   "cell_type": "code",
   "execution_count": null,
   "metadata": {
    "ExecuteTime": {
     "end_time": "2020-12-02T07:29:28.903026Z",
     "start_time": "2020-12-02T07:29:28.895704Z"
    },
    "hidden": true
   },
   "outputs": [],
   "source": [
    "def check_between(time_stamp):\n",
    "    for i in range(an_df_clean.shape[0]):\n",
    "        if an_df_clean.loc[i,\"start\"] < time_stamp and time_stamp < an_df_clean.loc[i,\"end\"]:\n",
    "            return an_df_clean.loc[i,\"activitiy\"] + \" \" + str(an_df_clean.loc[i,\"batch\"])   \n",
    "    return None"
   ]
  },
  {
   "cell_type": "code",
   "execution_count": null,
   "metadata": {
    "ExecuteTime": {
     "end_time": "2020-12-02T07:30:08.735686Z",
     "start_time": "2020-12-02T07:29:29.160789Z"
    },
    "hidden": true
   },
   "outputs": [],
   "source": [
    "#All file in the folder\n",
    "all_jason_df = pd.DataFrame(columns=[\"time_stamp\",\"sensor_time_stamp\",\"X\",\"Y\",\"Z\"])\n",
    "for sen_jsonpath in sen_csv[\"real_filename\"]:\n",
    "    sensor_path = sen_path_base + sen_jsonpath\n",
    "    sen_json = pd.read_json(sensor_path)\n",
    "    if sen_json.dt[\"a\"] == []:\n",
    "        continue\n",
    "    sen_acc = np.array(sen_json.dt[\"a\"])\n",
    "    acc_df = pd.DataFrame(sen_acc, columns=[\"time_stamp\", \"sensor_time_stamp\",\"X\",\"Y\",\"Z\"])\n",
    "    all_jason_df = pd.concat([all_jason_df,acc_df])"
   ]
  },
  {
   "cell_type": "code",
   "execution_count": null,
   "metadata": {
    "ExecuteTime": {
     "end_time": "2020-12-02T07:40:25.198940Z",
     "start_time": "2020-12-02T07:30:12.400505Z"
    },
    "hidden": true
   },
   "outputs": [],
   "source": [
    "all_jason_df[\"activity\"] = all_jason_df[\"time_stamp\"].apply(check_between)"
   ]
  },
  {
   "cell_type": "code",
   "execution_count": null,
   "metadata": {
    "ExecuteTime": {
     "end_time": "2020-12-02T07:41:07.342436Z",
     "start_time": "2020-12-02T07:41:07.314970Z"
    },
    "hidden": true,
    "scrolled": false
   },
   "outputs": [],
   "source": [
    "all_jason_df.isnull().sum()"
   ]
  },
  {
   "cell_type": "code",
   "execution_count": null,
   "metadata": {
    "ExecuteTime": {
     "end_time": "2020-12-02T07:41:28.160291Z",
     "start_time": "2020-12-02T07:41:26.002051Z"
    },
    "hidden": true
   },
   "outputs": [],
   "source": [
    "all_jason_df.drop(\"sensor_time_stamp\",axis = 1,inplace=True)\n",
    "all_jason_df.to_csv(\"sample.csv\", index=False)"
   ]
  },
  {
   "cell_type": "markdown",
   "metadata": {},
   "source": [
    "### Fall data"
   ]
  },
  {
   "cell_type": "code",
   "execution_count": 6,
   "metadata": {
    "ExecuteTime": {
     "end_time": "2020-12-03T05:30:15.780264Z",
     "start_time": "2020-12-03T05:30:05.156230Z"
    }
   },
   "outputs": [
    {
     "data": {
      "text/html": [
       "<div>\n",
       "<style scoped>\n",
       "    .dataframe tbody tr th:only-of-type {\n",
       "        vertical-align: middle;\n",
       "    }\n",
       "\n",
       "    .dataframe tbody tr th {\n",
       "        vertical-align: top;\n",
       "    }\n",
       "\n",
       "    .dataframe thead th {\n",
       "        text-align: right;\n",
       "    }\n",
       "</style>\n",
       "<table border=\"1\" class=\"dataframe\">\n",
       "  <thead>\n",
       "    <tr style=\"text-align: right;\">\n",
       "      <th></th>\n",
       "      <th>dt</th>\n",
       "      <th>os</th>\n",
       "      <th>p</th>\n",
       "      <th>pf</th>\n",
       "      <th>uid</th>\n",
       "      <th>v</th>\n",
       "    </tr>\n",
       "  </thead>\n",
       "  <tbody>\n",
       "    <tr>\n",
       "      <th>0</th>\n",
       "      <td>{'walk': [{'Begin': 1606746577754}]}</td>\n",
       "      <td>29</td>\n",
       "      <td>SM-G960F</td>\n",
       "      <td>1</td>\n",
       "      <td>W6Ex5DZKnuMe8eiFIsbSutgVLV72</td>\n",
       "      <td>1</td>\n",
       "    </tr>\n",
       "    <tr>\n",
       "      <th>1</th>\n",
       "      <td>{'walk': [{'End': 1606746581344}]}</td>\n",
       "      <td>29</td>\n",
       "      <td>SM-G960F</td>\n",
       "      <td>1</td>\n",
       "      <td>W6Ex5DZKnuMe8eiFIsbSutgVLV72</td>\n",
       "      <td>1</td>\n",
       "    </tr>\n",
       "    <tr>\n",
       "      <th>2</th>\n",
       "      <td>{'fall': [{'Begin': 1606746581354}]}</td>\n",
       "      <td>29</td>\n",
       "      <td>SM-G960F</td>\n",
       "      <td>1</td>\n",
       "      <td>W6Ex5DZKnuMe8eiFIsbSutgVLV72</td>\n",
       "      <td>1</td>\n",
       "    </tr>\n",
       "    <tr>\n",
       "      <th>3</th>\n",
       "      <td>{'fall': [{'End': 1606746582904}]}</td>\n",
       "      <td>29</td>\n",
       "      <td>SM-G960F</td>\n",
       "      <td>1</td>\n",
       "      <td>W6Ex5DZKnuMe8eiFIsbSutgVLV72</td>\n",
       "      <td>1</td>\n",
       "    </tr>\n",
       "    <tr>\n",
       "      <th>4</th>\n",
       "      <td>{'fall': [{'Begin': 1606746600253}]}</td>\n",
       "      <td>29</td>\n",
       "      <td>SM-G960F</td>\n",
       "      <td>1</td>\n",
       "      <td>W6Ex5DZKnuMe8eiFIsbSutgVLV72</td>\n",
       "      <td>1</td>\n",
       "    </tr>\n",
       "  </tbody>\n",
       "</table>\n",
       "</div>"
      ],
      "text/plain": [
       "                                     dt  os         p  pf  \\\n",
       "0  {'walk': [{'Begin': 1606746577754}]}  29  SM-G960F   1   \n",
       "1    {'walk': [{'End': 1606746581344}]}  29  SM-G960F   1   \n",
       "2  {'fall': [{'Begin': 1606746581354}]}  29  SM-G960F   1   \n",
       "3    {'fall': [{'End': 1606746582904}]}  29  SM-G960F   1   \n",
       "4  {'fall': [{'Begin': 1606746600253}]}  29  SM-G960F   1   \n",
       "\n",
       "                            uid  v  \n",
       "0  W6Ex5DZKnuMe8eiFIsbSutgVLV72  1  \n",
       "1  W6Ex5DZKnuMe8eiFIsbSutgVLV72  1  \n",
       "2  W6Ex5DZKnuMe8eiFIsbSutgVLV72  1  \n",
       "3  W6Ex5DZKnuMe8eiFIsbSutgVLV72  1  \n",
       "4  W6Ex5DZKnuMe8eiFIsbSutgVLV72  1  "
      ]
     },
     "execution_count": 6,
     "metadata": {},
     "output_type": "execute_result"
    }
   ],
   "source": [
    "fall_path_csv1 = \"../raw_data/20201130-sg9-y-fall/a_2020-11-30-W6Ex5DZKnuMe8eiFIsbSutgVLV72.json\"\n",
    "fall_an_1 = pd.read_json(fall_path_csv1)\n",
    "fall_an_1.head()"
   ]
  },
  {
   "cell_type": "code",
   "execution_count": 7,
   "metadata": {
    "ExecuteTime": {
     "end_time": "2020-12-03T05:30:15.857564Z",
     "start_time": "2020-12-03T05:30:15.849264Z"
    }
   },
   "outputs": [],
   "source": [
    "fall_an_1[\"activities\"] = fall_an_1[\"dt\"].apply(key)\n",
    "fall_an_1[\"process\"] = fall_an_1[\"dt\"].apply(process)\n",
    "fall_an_1[\"time\"] = fall_an_1[\"dt\"].apply(value)\n",
    "fall_an_1 = fall_an_1[fall_an_1.columns[-3:]]"
   ]
  },
  {
   "cell_type": "code",
   "execution_count": 8,
   "metadata": {
    "ExecuteTime": {
     "end_time": "2020-12-03T05:30:15.905065Z",
     "start_time": "2020-12-03T05:30:15.900290Z"
    }
   },
   "outputs": [],
   "source": [
    "row = fall_an_1.shape[0]\n",
    "n = 0\n",
    "list_begin = []\n",
    "list_end = []\n",
    "list_act = []\n",
    "for row in range(int(row/2)):\n",
    "    list_begin.append(fall_an_1[\"time\"][n])\n",
    "    list_act.append(fall_an_1[\"activities\"][n])\n",
    "    list_end.append(fall_an_1[\"time\"][n+1])\n",
    "    n +=2"
   ]
  },
  {
   "cell_type": "code",
   "execution_count": 9,
   "metadata": {
    "ExecuteTime": {
     "end_time": "2020-12-03T05:30:15.940315Z",
     "start_time": "2020-12-03T05:30:15.936884Z"
    }
   },
   "outputs": [],
   "source": [
    "fall_an_dict1 = {\"activitiy\" : list_act, \"start\" : list_begin, \"end\" : list_end}\n",
    "fall_an_1 = pd.DataFrame(fall_an_dict1)"
   ]
  },
  {
   "cell_type": "code",
   "execution_count": 10,
   "metadata": {
    "ExecuteTime": {
     "end_time": "2020-12-03T05:30:16.016743Z",
     "start_time": "2020-12-03T05:30:15.974522Z"
    }
   },
   "outputs": [],
   "source": [
    "fall_an_1[\"interval\"] = (fall_an_1[\"end\"] - fall_an_1[\"start\"])//2000"
   ]
  },
  {
   "cell_type": "code",
   "execution_count": null,
   "metadata": {
    "ExecuteTime": {
     "end_time": "2020-12-03T03:47:46.630268Z",
     "start_time": "2020-12-03T03:47:46.620157Z"
    }
   },
   "outputs": [],
   "source": [
    "fall_an_1"
   ]
  },
  {
   "cell_type": "code",
   "execution_count": 11,
   "metadata": {
    "ExecuteTime": {
     "end_time": "2020-12-03T05:30:16.058445Z",
     "start_time": "2020-12-03T05:30:16.051687Z"
    }
   },
   "outputs": [],
   "source": [
    "batch = []\n",
    "batch_no = 0\n",
    "start = []\n",
    "end = []\n",
    "activitiy = []\n",
    "for row in range(fall_an_1.shape[0]):\n",
    "    start_an = fall_an_1.loc[row, \"start\"]\n",
    "    end_an = start_an + 2000\n",
    "    while end_an < fall_an_1.loc[row, \"end\"]:\n",
    "        start.append(start_an)\n",
    "        end.append(end_an)\n",
    "        activitiy.append(fall_an_1.loc[row, \"activitiy\"])\n",
    "        batch.append(batch_no)\n",
    "        batch_no += 1\n",
    "        start_an += 2000\n",
    "        end_an += 2000\n",
    "    if fall_an_1.loc[row, \"activitiy\"] == \"fall\":\n",
    "        start.append(start_an)\n",
    "        end.append(fall_an_1.loc[row, \"end\"])\n",
    "        activitiy.append(fall_an_1.loc[row, \"activitiy\"])\n",
    "        batch.append(batch_no)\n",
    "        batch_no += 1"
   ]
  },
  {
   "cell_type": "code",
   "execution_count": 12,
   "metadata": {
    "ExecuteTime": {
     "end_time": "2020-12-03T05:30:16.261219Z",
     "start_time": "2020-12-03T05:30:16.100493Z"
    },
    "scrolled": true
   },
   "outputs": [],
   "source": [
    "fall_an_dict1 = {\"activitiy\" : activitiy, \"start\" : start, \"end\" : end, \"batch\" : batch}\n",
    "fall_anclean1 = pd.DataFrame(fall_an_dict1)"
   ]
  },
  {
   "cell_type": "code",
   "execution_count": 13,
   "metadata": {
    "ExecuteTime": {
     "end_time": "2020-12-03T05:30:16.336771Z",
     "start_time": "2020-12-03T05:30:16.304457Z"
    }
   },
   "outputs": [
    {
     "data": {
      "text/html": [
       "<div>\n",
       "<style scoped>\n",
       "    .dataframe tbody tr th:only-of-type {\n",
       "        vertical-align: middle;\n",
       "    }\n",
       "\n",
       "    .dataframe tbody tr th {\n",
       "        vertical-align: top;\n",
       "    }\n",
       "\n",
       "    .dataframe thead th {\n",
       "        text-align: right;\n",
       "    }\n",
       "</style>\n",
       "<table border=\"1\" class=\"dataframe\">\n",
       "  <thead>\n",
       "    <tr style=\"text-align: right;\">\n",
       "      <th></th>\n",
       "      <th>activitiy</th>\n",
       "      <th>start</th>\n",
       "      <th>end</th>\n",
       "      <th>batch</th>\n",
       "    </tr>\n",
       "  </thead>\n",
       "  <tbody>\n",
       "    <tr>\n",
       "      <th>0</th>\n",
       "      <td>walk</td>\n",
       "      <td>1606746577754</td>\n",
       "      <td>1606746579754</td>\n",
       "      <td>0</td>\n",
       "    </tr>\n",
       "    <tr>\n",
       "      <th>1</th>\n",
       "      <td>fall</td>\n",
       "      <td>1606746581354</td>\n",
       "      <td>1606746582904</td>\n",
       "      <td>1</td>\n",
       "    </tr>\n",
       "    <tr>\n",
       "      <th>2</th>\n",
       "      <td>fall</td>\n",
       "      <td>1606746600253</td>\n",
       "      <td>1606746602253</td>\n",
       "      <td>2</td>\n",
       "    </tr>\n",
       "    <tr>\n",
       "      <th>3</th>\n",
       "      <td>fall</td>\n",
       "      <td>1606746602253</td>\n",
       "      <td>1606746602547</td>\n",
       "      <td>3</td>\n",
       "    </tr>\n",
       "    <tr>\n",
       "      <th>4</th>\n",
       "      <td>walk</td>\n",
       "      <td>1606746611805</td>\n",
       "      <td>1606746613805</td>\n",
       "      <td>4</td>\n",
       "    </tr>\n",
       "  </tbody>\n",
       "</table>\n",
       "</div>"
      ],
      "text/plain": [
       "  activitiy          start            end  batch\n",
       "0      walk  1606746577754  1606746579754      0\n",
       "1      fall  1606746581354  1606746582904      1\n",
       "2      fall  1606746600253  1606746602253      2\n",
       "3      fall  1606746602253  1606746602547      3\n",
       "4      walk  1606746611805  1606746613805      4"
      ]
     },
     "execution_count": 13,
     "metadata": {},
     "output_type": "execute_result"
    }
   ],
   "source": [
    "fall_anclean1.head()"
   ]
  },
  {
   "cell_type": "code",
   "execution_count": 14,
   "metadata": {
    "ExecuteTime": {
     "end_time": "2020-12-03T05:30:16.455301Z",
     "start_time": "2020-12-03T05:30:16.399140Z"
    }
   },
   "outputs": [],
   "source": [
    "import os\n",
    "list_json = os.listdir('../raw_data/20201130-sg9-y-fall/')\n",
    "list_json = [ s for s in list_json if \"s_\" in s]"
   ]
  },
  {
   "cell_type": "code",
   "execution_count": 15,
   "metadata": {
    "ExecuteTime": {
     "end_time": "2020-12-03T05:30:16.508557Z",
     "start_time": "2020-12-03T05:30:16.506255Z"
    }
   },
   "outputs": [],
   "source": [
    "jsonpath = \"../raw_data/20201130-sg9-y-fall/\""
   ]
  },
  {
   "cell_type": "code",
   "execution_count": 16,
   "metadata": {
    "ExecuteTime": {
     "end_time": "2020-12-03T05:30:17.200539Z",
     "start_time": "2020-12-03T05:30:16.562313Z"
    }
   },
   "outputs": [],
   "source": [
    "all_jason_df = pd.DataFrame(columns=[\"time_stamp\",\"sensor_time_stamp\",\"X\",\"Y\",\"Z\"])\n",
    "for sen_jsonpath in list_json:\n",
    "    sensor_path = jsonpath + sen_jsonpath\n",
    "    sen_json = pd.read_json(sensor_path)\n",
    "    if sen_json.dt[\"a\"] == []:\n",
    "        continue\n",
    "    sen_acc = np.array(sen_json.dt[\"a\"])\n",
    "    acc_df = pd.DataFrame(sen_acc, columns=[\"time_stamp\", \"sensor_time_stamp\",\"X\",\"Y\",\"Z\"])\n",
    "    all_jason_df = pd.concat([all_jason_df,acc_df])"
   ]
  },
  {
   "cell_type": "code",
   "execution_count": 17,
   "metadata": {
    "ExecuteTime": {
     "end_time": "2020-12-03T05:30:22.292999Z",
     "start_time": "2020-12-03T05:30:17.437922Z"
    }
   },
   "outputs": [],
   "source": [
    "all_jason_df[\"activity\"] = all_jason_df[\"time_stamp\"].apply(check_between)"
   ]
  },
  {
   "cell_type": "code",
   "execution_count": 18,
   "metadata": {
    "ExecuteTime": {
     "end_time": "2020-12-03T05:30:22.531410Z",
     "start_time": "2020-12-03T05:30:22.525193Z"
    }
   },
   "outputs": [],
   "source": [
    "all_jason_df.dropna(inplace=True)"
   ]
  },
  {
   "cell_type": "code",
   "execution_count": 19,
   "metadata": {
    "ExecuteTime": {
     "end_time": "2020-12-03T05:30:22.759294Z",
     "start_time": "2020-12-03T05:30:22.755231Z"
    }
   },
   "outputs": [],
   "source": [
    "all_jason_df[\"model\"] = \"SM_G960F\"\n",
    "all_jason_df.reset_index(inplace=True)\n"
   ]
  },
  {
   "cell_type": "code",
   "execution_count": 20,
   "metadata": {
    "ExecuteTime": {
     "end_time": "2020-12-03T05:30:23.001696Z",
     "start_time": "2020-12-03T05:30:22.995799Z"
    }
   },
   "outputs": [],
   "source": [
    "all_jason_df.drop(\"index\", axis = 1, inplace=True)"
   ]
  },
  {
   "cell_type": "code",
   "execution_count": 21,
   "metadata": {
    "ExecuteTime": {
     "end_time": "2020-12-03T05:30:23.255503Z",
     "start_time": "2020-12-03T05:30:23.242516Z"
    }
   },
   "outputs": [
    {
     "data": {
      "text/html": [
       "<div>\n",
       "<style scoped>\n",
       "    .dataframe tbody tr th:only-of-type {\n",
       "        vertical-align: middle;\n",
       "    }\n",
       "\n",
       "    .dataframe tbody tr th {\n",
       "        vertical-align: top;\n",
       "    }\n",
       "\n",
       "    .dataframe thead th {\n",
       "        text-align: right;\n",
       "    }\n",
       "</style>\n",
       "<table border=\"1\" class=\"dataframe\">\n",
       "  <thead>\n",
       "    <tr style=\"text-align: right;\">\n",
       "      <th></th>\n",
       "      <th>time_stamp</th>\n",
       "      <th>sensor_time_stamp</th>\n",
       "      <th>X</th>\n",
       "      <th>Y</th>\n",
       "      <th>Z</th>\n",
       "      <th>activity</th>\n",
       "      <th>model</th>\n",
       "    </tr>\n",
       "  </thead>\n",
       "  <tbody>\n",
       "    <tr>\n",
       "      <th>0</th>\n",
       "      <td>1.606747e+12</td>\n",
       "      <td>4.298059e+13</td>\n",
       "      <td>3.119740</td>\n",
       "      <td>6.373559</td>\n",
       "      <td>5.188394</td>\n",
       "      <td>walk 0</td>\n",
       "      <td>SM_G960F</td>\n",
       "    </tr>\n",
       "    <tr>\n",
       "      <th>1</th>\n",
       "      <td>1.606747e+12</td>\n",
       "      <td>4.298061e+13</td>\n",
       "      <td>2.650462</td>\n",
       "      <td>6.399897</td>\n",
       "      <td>5.490072</td>\n",
       "      <td>walk 0</td>\n",
       "      <td>SM_G960F</td>\n",
       "    </tr>\n",
       "    <tr>\n",
       "      <th>2</th>\n",
       "      <td>1.606747e+12</td>\n",
       "      <td>4.298063e+13</td>\n",
       "      <td>2.214704</td>\n",
       "      <td>6.428628</td>\n",
       "      <td>6.732701</td>\n",
       "      <td>walk 0</td>\n",
       "      <td>SM_G960F</td>\n",
       "    </tr>\n",
       "    <tr>\n",
       "      <th>3</th>\n",
       "      <td>1.606747e+12</td>\n",
       "      <td>4.298065e+13</td>\n",
       "      <td>1.920208</td>\n",
       "      <td>6.079064</td>\n",
       "      <td>7.604217</td>\n",
       "      <td>walk 0</td>\n",
       "      <td>SM_G960F</td>\n",
       "    </tr>\n",
       "    <tr>\n",
       "      <th>4</th>\n",
       "      <td>1.606747e+12</td>\n",
       "      <td>4.298067e+13</td>\n",
       "      <td>1.996825</td>\n",
       "      <td>6.086246</td>\n",
       "      <td>7.324087</td>\n",
       "      <td>walk 0</td>\n",
       "      <td>SM_G960F</td>\n",
       "    </tr>\n",
       "  </tbody>\n",
       "</table>\n",
       "</div>"
      ],
      "text/plain": [
       "     time_stamp  sensor_time_stamp         X         Y         Z activity  \\\n",
       "0  1.606747e+12       4.298059e+13  3.119740  6.373559  5.188394   walk 0   \n",
       "1  1.606747e+12       4.298061e+13  2.650462  6.399897  5.490072   walk 0   \n",
       "2  1.606747e+12       4.298063e+13  2.214704  6.428628  6.732701   walk 0   \n",
       "3  1.606747e+12       4.298065e+13  1.920208  6.079064  7.604217   walk 0   \n",
       "4  1.606747e+12       4.298067e+13  1.996825  6.086246  7.324087   walk 0   \n",
       "\n",
       "      model  \n",
       "0  SM_G960F  \n",
       "1  SM_G960F  \n",
       "2  SM_G960F  \n",
       "3  SM_G960F  \n",
       "4  SM_G960F  "
      ]
     },
     "execution_count": 21,
     "metadata": {},
     "output_type": "execute_result"
    }
   ],
   "source": [
    "all_jason_df.head()"
   ]
  },
  {
   "cell_type": "code",
   "execution_count": 22,
   "metadata": {
    "ExecuteTime": {
     "end_time": "2020-12-03T05:30:23.538689Z",
     "start_time": "2020-12-03T05:30:23.533530Z"
    }
   },
   "outputs": [],
   "source": [
    "test_row = all_jason_df.loc[0,\"time_stamp\":\"Z\"]\n",
    "test_row2 = all_jason_df.loc[1,\"time_stamp\":\"Z\"]"
   ]
  },
  {
   "cell_type": "code",
   "execution_count": 23,
   "metadata": {
    "ExecuteTime": {
     "end_time": "2020-12-03T05:30:23.779138Z",
     "start_time": "2020-12-03T05:30:23.776357Z"
    }
   },
   "outputs": [],
   "source": [
    "# test_row = test_row.astype('float64', raise_on_error = False)\n",
    "test_row = test_row.to_numpy(dtype = 'float64')\n",
    "test_row2 = test_row2.to_numpy(dtype = 'float64')"
   ]
  },
  {
   "cell_type": "code",
   "execution_count": 24,
   "metadata": {
    "ExecuteTime": {
     "end_time": "2020-12-03T05:30:24.013607Z",
     "start_time": "2020-12-03T05:30:24.008610Z"
    }
   },
   "outputs": [
    {
     "data": {
      "text/plain": [
       "array([[1.60674658e+12, 4.29805931e+13, 3.11974001e+00, 6.37355947e+00,\n",
       "        5.18839359e+00],\n",
       "       [1.60674658e+12, 4.29806131e+13, 2.65046215e+00, 6.39989662e+00,\n",
       "        5.49007225e+00],\n",
       "       [1.60674658e+12, 4.29806131e+13, 2.65046215e+00, 6.39989662e+00,\n",
       "        5.49007225e+00]])"
      ]
     },
     "execution_count": 24,
     "metadata": {},
     "output_type": "execute_result"
    }
   ],
   "source": [
    "test3 = np.append([test_row],[test_row2], axis = 0)\n",
    "np.append(test3,[test_row2], axis = 0)"
   ]
  },
  {
   "cell_type": "code",
   "execution_count": 25,
   "metadata": {
    "ExecuteTime": {
     "end_time": "2020-12-03T05:30:24.252907Z",
     "start_time": "2020-12-03T05:30:24.249259Z"
    }
   },
   "outputs": [],
   "source": [
    "npypath = \"../raw_data/fall_clean/\""
   ]
  },
  {
   "cell_type": "code",
   "execution_count": 27,
   "metadata": {
    "ExecuteTime": {
     "end_time": "2020-12-03T05:33:56.513624Z",
     "start_time": "2020-12-03T05:33:55.097938Z"
    }
   },
   "outputs": [],
   "source": [
    "n = 0\n",
    "for row in range(all_jason_df.shape[0]):\n",
    "    curr_act = all_jason_df.loc[row,\"activity\"]\n",
    "    curr_act = curr_act.split()[0]\n",
    "    curr_batch = all_jason_df.loc[row,\"activity\"]\n",
    "    curr_batch = curr_batch.split()[1]\n",
    "    model = all_jason_df.loc[row,\"model\"]\n",
    "    curr_time = int(all_jason_df.loc[row,\"time_stamp\"])\n",
    "    acc_value = all_jason_df.loc[row,\"time_stamp\":\"Z\"]\n",
    "    acc_value = [acc_value.to_numpy(dtype = 'float64')]\n",
    "    if row == 0:\n",
    "        acc = acc_value\n",
    "        pre_batch = curr_batch\n",
    "    else:\n",
    "        if pre_batch == curr_batch:\n",
    "            acc = np.append(acc,acc_value, axis = 0)\n",
    "            pre_batch = curr_batch\n",
    "            n += 1\n",
    "            save_path = f\"{npypath}/{curr_act}/{curr_act}_{model}_{curr_time}.npy\"\n",
    "        else:\n",
    "            if n == 0:\n",
    "                save_path = f\"{npypath}/{curr_act}/{curr_act}_{model}_{curr_time}.npy\"\n",
    "            zero = np.zeros( acc.shape, dtype=float)\n",
    "            stack_gb = np.stack((acc,zero,zero))\n",
    "            np.save(save_path, stack_gb)\n",
    "            pre_batch = curr_batch\n",
    "            acc = acc_value"
   ]
  },
  {
   "cell_type": "markdown",
   "metadata": {},
   "source": [
    "### Fall data2"
   ]
  },
  {
   "cell_type": "code",
   "execution_count": 28,
   "metadata": {
    "ExecuteTime": {
     "end_time": "2020-12-03T05:34:47.523559Z",
     "start_time": "2020-12-03T05:34:47.387836Z"
    }
   },
   "outputs": [],
   "source": [
    "fall_path_csv1 = \"../raw_data/2020-12-02-fall-only/annot/a_2020-12-02-W6Ex5DZKnuMe8eiFIsbSutgVLV72.json\"\n",
    "fall_an_1 = pd.read_json(fall_path_csv1)\n",
    "\n",
    "fall_an_1[\"activities\"] = fall_an_1[\"dt\"].apply(key)\n",
    "fall_an_1[\"process\"] = fall_an_1[\"dt\"].apply(process)\n",
    "fall_an_1[\"time\"] = fall_an_1[\"dt\"].apply(value)\n",
    "fall_an_1 = fall_an_1[fall_an_1.columns[-3:]]\n",
    "\n",
    "row = fall_an_1.shape[0]\n",
    "n = 0\n",
    "list_begin = []\n",
    "list_end = []\n",
    "list_act = []\n",
    "for row in range(int(row/2)):\n",
    "    list_begin.append(fall_an_1[\"time\"][n])\n",
    "    list_act.append(fall_an_1[\"activities\"][n])\n",
    "    list_end.append(fall_an_1[\"time\"][n+1])\n",
    "    n +=2\n",
    "    \n",
    "fall_an_dict1 = {\"activitiy\" : list_act, \"start\" : list_begin, \"end\" : list_end}\n",
    "fall_an_1 = pd.DataFrame(fall_an_dict1)"
   ]
  },
  {
   "cell_type": "code",
   "execution_count": 29,
   "metadata": {
    "ExecuteTime": {
     "end_time": "2020-12-03T05:34:47.791809Z",
     "start_time": "2020-12-03T05:34:47.785282Z"
    }
   },
   "outputs": [],
   "source": [
    "batch = []\n",
    "batch_no = 0\n",
    "start = []\n",
    "end = []\n",
    "activitiy = []\n",
    "for row in range(fall_an_1.shape[0]):\n",
    "    start_an = fall_an_1.loc[row, \"start\"]\n",
    "    end_an = start_an + 2000\n",
    "    while end_an < fall_an_1.loc[row, \"end\"]:\n",
    "        start.append(start_an)\n",
    "        end.append(end_an)\n",
    "        activitiy.append(fall_an_1.loc[row, \"activitiy\"])\n",
    "        batch.append(batch_no)\n",
    "        batch_no += 1\n",
    "        start_an += 2000\n",
    "        end_an += 2000\n",
    "    if fall_an_1.loc[row, \"activitiy\"] == \"fall\":\n",
    "        start.append(start_an)\n",
    "        end.append(fall_an_1.loc[row, \"end\"])\n",
    "        activitiy.append(fall_an_1.loc[row, \"activitiy\"])\n",
    "        batch.append(batch_no)\n",
    "        batch_no += 1"
   ]
  },
  {
   "cell_type": "code",
   "execution_count": 30,
   "metadata": {
    "ExecuteTime": {
     "end_time": "2020-12-03T05:34:48.113379Z",
     "start_time": "2020-12-03T05:34:48.094960Z"
    }
   },
   "outputs": [],
   "source": [
    "fall_an_dict1 = {\"activitiy\" : activitiy, \"start\" : start, \"end\" : end, \"batch\" : batch}\n",
    "fall_anclean1 = pd.DataFrame(fall_an_dict1)"
   ]
  },
  {
   "cell_type": "code",
   "execution_count": 31,
   "metadata": {
    "ExecuteTime": {
     "end_time": "2020-12-03T05:34:48.387989Z",
     "start_time": "2020-12-03T05:34:48.377915Z"
    }
   },
   "outputs": [
    {
     "data": {
      "text/html": [
       "<div>\n",
       "<style scoped>\n",
       "    .dataframe tbody tr th:only-of-type {\n",
       "        vertical-align: middle;\n",
       "    }\n",
       "\n",
       "    .dataframe tbody tr th {\n",
       "        vertical-align: top;\n",
       "    }\n",
       "\n",
       "    .dataframe thead th {\n",
       "        text-align: right;\n",
       "    }\n",
       "</style>\n",
       "<table border=\"1\" class=\"dataframe\">\n",
       "  <thead>\n",
       "    <tr style=\"text-align: right;\">\n",
       "      <th></th>\n",
       "      <th>activitiy</th>\n",
       "      <th>start</th>\n",
       "      <th>end</th>\n",
       "      <th>batch</th>\n",
       "    </tr>\n",
       "  </thead>\n",
       "  <tbody>\n",
       "    <tr>\n",
       "      <th>0</th>\n",
       "      <td>walk</td>\n",
       "      <td>1606911580361</td>\n",
       "      <td>1606911582361</td>\n",
       "      <td>0</td>\n",
       "    </tr>\n",
       "    <tr>\n",
       "      <th>1</th>\n",
       "      <td>walk</td>\n",
       "      <td>1606911582361</td>\n",
       "      <td>1606911584361</td>\n",
       "      <td>1</td>\n",
       "    </tr>\n",
       "    <tr>\n",
       "      <th>2</th>\n",
       "      <td>walk</td>\n",
       "      <td>1606911584361</td>\n",
       "      <td>1606911586361</td>\n",
       "      <td>2</td>\n",
       "    </tr>\n",
       "    <tr>\n",
       "      <th>3</th>\n",
       "      <td>fall</td>\n",
       "      <td>1606911587439</td>\n",
       "      <td>1606911589439</td>\n",
       "      <td>3</td>\n",
       "    </tr>\n",
       "    <tr>\n",
       "      <th>4</th>\n",
       "      <td>fall</td>\n",
       "      <td>1606911589439</td>\n",
       "      <td>1606911590411</td>\n",
       "      <td>4</td>\n",
       "    </tr>\n",
       "  </tbody>\n",
       "</table>\n",
       "</div>"
      ],
      "text/plain": [
       "  activitiy          start            end  batch\n",
       "0      walk  1606911580361  1606911582361      0\n",
       "1      walk  1606911582361  1606911584361      1\n",
       "2      walk  1606911584361  1606911586361      2\n",
       "3      fall  1606911587439  1606911589439      3\n",
       "4      fall  1606911589439  1606911590411      4"
      ]
     },
     "execution_count": 31,
     "metadata": {},
     "output_type": "execute_result"
    }
   ],
   "source": [
    "fall_anclean1.head()"
   ]
  },
  {
   "cell_type": "code",
   "execution_count": 32,
   "metadata": {
    "ExecuteTime": {
     "end_time": "2020-12-03T05:36:24.272915Z",
     "start_time": "2020-12-03T05:34:48.672947Z"
    }
   },
   "outputs": [],
   "source": [
    "import os\n",
    "jsonpath = \"../raw_data/2020-12-02-fall-only/sens/\"\n",
    "list_json = os.listdir(jsonpath)\n",
    "list_json = [ s for s in list_json if \"s_\" in s]\n",
    "\n",
    "all_jason_df = pd.DataFrame(columns=[\"time_stamp\",\"sensor_time_stamp\",\"X\",\"Y\",\"Z\"])\n",
    "for sen_jsonpath in list_json:\n",
    "    sensor_path = jsonpath + sen_jsonpath\n",
    "    sen_json = pd.read_json(sensor_path)\n",
    "    if sen_json.dt[\"a\"] == []:\n",
    "        continue\n",
    "    sen_acc = np.array(sen_json.dt[\"a\"])\n",
    "    acc_df = pd.DataFrame(sen_acc, columns=[\"time_stamp\", \"sensor_time_stamp\",\"X\",\"Y\",\"Z\"])\n",
    "    all_jason_df = pd.concat([all_jason_df,acc_df])"
   ]
  },
  {
   "cell_type": "code",
   "execution_count": 33,
   "metadata": {
    "ExecuteTime": {
     "end_time": "2020-12-03T05:41:07.042063Z",
     "start_time": "2020-12-03T05:36:24.442031Z"
    }
   },
   "outputs": [],
   "source": [
    "all_jason_df[\"activity\"] = all_jason_df[\"time_stamp\"].apply(check_between)\n"
   ]
  },
  {
   "cell_type": "code",
   "execution_count": 34,
   "metadata": {
    "ExecuteTime": {
     "end_time": "2020-12-03T05:41:07.319827Z",
     "start_time": "2020-12-03T05:41:07.207243Z"
    }
   },
   "outputs": [],
   "source": [
    "all_jason_df.dropna(inplace=True)\n",
    "all_jason_df[\"model\"] = \"ASUS_X013DB\"\n",
    "all_jason_df.reset_index(inplace=True)\n",
    "all_jason_df.drop(\"index\", axis = 1, inplace=True)"
   ]
  },
  {
   "cell_type": "code",
   "execution_count": 35,
   "metadata": {
    "ExecuteTime": {
     "end_time": "2020-12-03T05:41:07.491774Z",
     "start_time": "2020-12-03T05:41:07.480967Z"
    }
   },
   "outputs": [
    {
     "data": {
      "text/html": [
       "<div>\n",
       "<style scoped>\n",
       "    .dataframe tbody tr th:only-of-type {\n",
       "        vertical-align: middle;\n",
       "    }\n",
       "\n",
       "    .dataframe tbody tr th {\n",
       "        vertical-align: top;\n",
       "    }\n",
       "\n",
       "    .dataframe thead th {\n",
       "        text-align: right;\n",
       "    }\n",
       "</style>\n",
       "<table border=\"1\" class=\"dataframe\">\n",
       "  <thead>\n",
       "    <tr style=\"text-align: right;\">\n",
       "      <th></th>\n",
       "      <th>time_stamp</th>\n",
       "      <th>sensor_time_stamp</th>\n",
       "      <th>X</th>\n",
       "      <th>Y</th>\n",
       "      <th>Z</th>\n",
       "      <th>activity</th>\n",
       "      <th>model</th>\n",
       "    </tr>\n",
       "  </thead>\n",
       "  <tbody>\n",
       "    <tr>\n",
       "      <th>0</th>\n",
       "      <td>1.606912e+12</td>\n",
       "      <td>5.520928e+11</td>\n",
       "      <td>2.219086</td>\n",
       "      <td>10.452423</td>\n",
       "      <td>0.565140</td>\n",
       "      <td>fall 21</td>\n",
       "      <td>ASUS_X013DB</td>\n",
       "    </tr>\n",
       "    <tr>\n",
       "      <th>1</th>\n",
       "      <td>1.606912e+12</td>\n",
       "      <td>5.521130e+11</td>\n",
       "      <td>3.239151</td>\n",
       "      <td>15.479416</td>\n",
       "      <td>-4.748779</td>\n",
       "      <td>fall 21</td>\n",
       "      <td>ASUS_X013DB</td>\n",
       "    </tr>\n",
       "    <tr>\n",
       "      <th>2</th>\n",
       "      <td>1.606912e+12</td>\n",
       "      <td>5.521331e+11</td>\n",
       "      <td>2.286484</td>\n",
       "      <td>16.656570</td>\n",
       "      <td>-7.636368</td>\n",
       "      <td>fall 21</td>\n",
       "      <td>ASUS_X013DB</td>\n",
       "    </tr>\n",
       "    <tr>\n",
       "      <th>3</th>\n",
       "      <td>1.606912e+12</td>\n",
       "      <td>5.521532e+11</td>\n",
       "      <td>-0.952286</td>\n",
       "      <td>12.195251</td>\n",
       "      <td>-6.519180</td>\n",
       "      <td>fall 21</td>\n",
       "      <td>ASUS_X013DB</td>\n",
       "    </tr>\n",
       "    <tr>\n",
       "      <th>4</th>\n",
       "      <td>1.606912e+12</td>\n",
       "      <td>5.521734e+11</td>\n",
       "      <td>-2.065643</td>\n",
       "      <td>7.709763</td>\n",
       "      <td>-2.027466</td>\n",
       "      <td>fall 21</td>\n",
       "      <td>ASUS_X013DB</td>\n",
       "    </tr>\n",
       "  </tbody>\n",
       "</table>\n",
       "</div>"
      ],
      "text/plain": [
       "     time_stamp  sensor_time_stamp         X          Y         Z activity  \\\n",
       "0  1.606912e+12       5.520928e+11  2.219086  10.452423  0.565140  fall 21   \n",
       "1  1.606912e+12       5.521130e+11  3.239151  15.479416 -4.748779  fall 21   \n",
       "2  1.606912e+12       5.521331e+11  2.286484  16.656570 -7.636368  fall 21   \n",
       "3  1.606912e+12       5.521532e+11 -0.952286  12.195251 -6.519180  fall 21   \n",
       "4  1.606912e+12       5.521734e+11 -2.065643   7.709763 -2.027466  fall 21   \n",
       "\n",
       "         model  \n",
       "0  ASUS_X013DB  \n",
       "1  ASUS_X013DB  \n",
       "2  ASUS_X013DB  \n",
       "3  ASUS_X013DB  \n",
       "4  ASUS_X013DB  "
      ]
     },
     "execution_count": 35,
     "metadata": {},
     "output_type": "execute_result"
    }
   ],
   "source": [
    "all_jason_df.head()"
   ]
  },
  {
   "cell_type": "code",
   "execution_count": 36,
   "metadata": {
    "ExecuteTime": {
     "end_time": "2020-12-03T05:41:10.190782Z",
     "start_time": "2020-12-03T05:41:07.652851Z"
    }
   },
   "outputs": [],
   "source": [
    "n = 0\n",
    "npypath = \"../raw_data/fall_clean/\"\n",
    "for row in range(all_jason_df.shape[0]):\n",
    "    curr_act = all_jason_df.loc[row,\"activity\"]\n",
    "    curr_act = curr_act.split()[0]\n",
    "    curr_batch = all_jason_df.loc[row,\"activity\"]\n",
    "    curr_batch = curr_batch.split()[1]\n",
    "    model = all_jason_df.loc[row,\"model\"]\n",
    "    curr_time = int(all_jason_df.loc[row,\"time_stamp\"])\n",
    "    acc_value = all_jason_df.loc[row,\"time_stamp\":\"Z\"]\n",
    "    acc_value = [acc_value.to_numpy(dtype = 'float64')]\n",
    "    if row == 0:\n",
    "        acc = acc_value\n",
    "        pre_batch = curr_batch\n",
    "    else:\n",
    "        if pre_batch == curr_batch:\n",
    "            acc = np.append(acc,acc_value, axis = 0)\n",
    "            pre_batch = curr_batch\n",
    "            n += 1\n",
    "            save_path = f\"{npypath}/{curr_act}/{curr_act}_{model}_{curr_time}.npy\"\n",
    "        else:\n",
    "            if n == 0:\n",
    "                save_path = f\"{npypath}/{curr_act}/{curr_act}_{model}_{curr_time}.npy\"\n",
    "            zero = np.zeros( acc.shape, dtype=float)\n",
    "            stack_gb = np.stack((acc,zero,zero))\n",
    "            np.save(save_path, stack_gb)\n",
    "            pre_batch = curr_batch\n",
    "            acc = acc_value"
   ]
  },
  {
   "cell_type": "code",
   "execution_count": null,
   "metadata": {},
   "outputs": [],
   "source": []
  }
 ],
 "metadata": {
  "kernelspec": {
   "display_name": "Python 3",
   "language": "python",
   "name": "python3"
  },
  "language_info": {
   "codemirror_mode": {
    "name": "ipython",
    "version": 3
   },
   "file_extension": ".py",
   "mimetype": "text/x-python",
   "name": "python",
   "nbconvert_exporter": "python",
   "pygments_lexer": "ipython3",
   "version": "3.7.7"
  },
  "toc": {
   "base_numbering": 1,
   "nav_menu": {},
   "number_sections": true,
   "sideBar": true,
   "skip_h1_title": false,
   "title_cell": "Table of Contents",
   "title_sidebar": "Contents",
   "toc_cell": false,
   "toc_position": {},
   "toc_section_display": true,
   "toc_window_display": false
  },
  "varInspector": {
   "cols": {
    "lenName": 16,
    "lenType": 16,
    "lenVar": 40
   },
   "kernels_config": {
    "python": {
     "delete_cmd_postfix": "",
     "delete_cmd_prefix": "del ",
     "library": "var_list.py",
     "varRefreshCmd": "print(var_dic_list())"
    },
    "r": {
     "delete_cmd_postfix": ") ",
     "delete_cmd_prefix": "rm(",
     "library": "var_list.r",
     "varRefreshCmd": "cat(var_dic_list()) "
    }
   },
   "types_to_exclude": [
    "module",
    "function",
    "builtin_function_or_method",
    "instance",
    "_Feature"
   ],
   "window_display": false
  }
 },
 "nbformat": 4,
 "nbformat_minor": 4
}
