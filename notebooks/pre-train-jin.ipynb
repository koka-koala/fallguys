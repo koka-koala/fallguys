{
 "cells": [
  {
   "cell_type": "code",
   "execution_count": 1,
   "metadata": {
    "ExecuteTime": {
     "end_time": "2020-12-07T04:47:48.517389Z",
     "start_time": "2020-12-07T04:46:50.059679Z"
    }
   },
   "outputs": [],
   "source": [
    "import numpy as np\n",
    "import tensorflow as tf\n",
    "import pandas as pd\n",
    "from pathlib import Path"
   ]
  },
  {
   "cell_type": "markdown",
   "metadata": {},
   "source": [
    "### Comment"
   ]
  },
  {
   "cell_type": "markdown",
   "metadata": {},
   "source": [
    "**Generally**\n",
    "- each file is 2s of data\n",
    "- activity name and time stamp (start?) is on the file name\n",
    "\n",
    "**Data inside**\n",
    "- shape of (3,) \n",
    "- first element has 5 values - Acc ( Time stamp, sensor Time, X ,Y ,Z)\n",
    "- 2nd,3rd elements is gyroscope and barometer\n",
    "\n",
    "np.stack\n",
    "\n",
    "[ [A],\n",
    "  [G],\n",
    "  [B]\n",
    "      ]\n",
    "\n"
   ]
  },
  {
   "cell_type": "markdown",
   "metadata": {
    "heading_collapsed": true
   },
   "source": [
    "### Testing"
   ]
  },
  {
   "cell_type": "code",
   "execution_count": null,
   "metadata": {
    "ExecuteTime": {
     "start_time": "2020-12-03T23:59:23.048Z"
    },
    "hidden": true
   },
   "outputs": [],
   "source": [
    "test1 = np.load(\"../raw_data/fall_clean/fall/fall_ASUS_X013DB_1606911589384.npy\")\n",
    "test2 = np.load(\"../raw_data/fall_clean/fall/fall_SM_G960F_1606746602242.npy\")\n"
   ]
  },
  {
   "cell_type": "code",
   "execution_count": null,
   "metadata": {
    "ExecuteTime": {
     "start_time": "2020-12-03T23:59:23.051Z"
    },
    "hidden": true
   },
   "outputs": [],
   "source": [
    "list_np = []\n",
    "list_np.append(test1[0])\n",
    "list_np.append(test2[0])"
   ]
  },
  {
   "cell_type": "code",
   "execution_count": null,
   "metadata": {
    "ExecuteTime": {
     "start_time": "2020-12-03T23:59:23.053Z"
    },
    "hidden": true
   },
   "outputs": [],
   "source": [
    "np.array(list_np)[1].shape"
   ]
  },
  {
   "cell_type": "markdown",
   "metadata": {},
   "source": [
    "### Train preparation"
   ]
  },
  {
   "cell_type": "code",
   "execution_count": 2,
   "metadata": {
    "ExecuteTime": {
     "end_time": "2020-12-07T04:47:48.633953Z",
     "start_time": "2020-12-07T04:47:48.586315Z"
    }
   },
   "outputs": [],
   "source": [
    "import os\n",
    "fall_path = \"../raw_data/yann_data/dataset_2020-11-29-no-fall/fall_data/\"\n",
    "file_list = os.listdir(fall_path)"
   ]
  },
  {
   "cell_type": "code",
   "execution_count": 3,
   "metadata": {
    "ExecuteTime": {
     "end_time": "2020-12-07T04:47:48.704716Z",
     "start_time": "2020-12-07T04:47:48.701774Z"
    }
   },
   "outputs": [],
   "source": [
    "file_list.remove(\".DS_Store\")"
   ]
  },
  {
   "cell_type": "code",
   "execution_count": 4,
   "metadata": {
    "ExecuteTime": {
     "end_time": "2020-12-07T04:47:48.796095Z",
     "start_time": "2020-12-07T04:47:48.782507Z"
    }
   },
   "outputs": [
    {
     "data": {
      "text/plain": [
       "['fall']"
      ]
     },
     "execution_count": 4,
     "metadata": {},
     "output_type": "execute_result"
    }
   ],
   "source": [
    "file_list"
   ]
  },
  {
   "cell_type": "code",
   "execution_count": null,
   "metadata": {
    "ExecuteTime": {
     "end_time": "2020-12-07T04:43:43.662222Z",
     "start_time": "2020-12-07T04:37:32.208427Z"
    },
    "scrolled": true
   },
   "outputs": [],
   "source": [
    "list_np = []\n",
    "list_c = []\n",
    "file_list = ['climb-stairs', 'stay', 'down-stairs', 'walk', 'cycle', 'run']\n",
    "print(\"start\")\n",
    "for file in file_list:\n",
    "    if file == \".DS_Store\":\n",
    "        continue\n",
    "    path = os.path.join(fall_path,file)\n",
    "    npy_file = os.listdir(path)\n",
    "    category = file\n",
    "    print(f\"start {file}\")\n",
    "    for npy in npy_file:\n",
    "        if npy == \".DS_Store\":\n",
    "            continue\n",
    "        file_path = os.path.join(path,npy)\n",
    "        value = np.load(file_path, allow_pickle=True)[0][:,[2,3,4,]]\n",
    "        list_np.append(value)\n",
    "        category_int = file_list.index(category)\n",
    "        list_c.append(category_int)\n",
    "    print(f\"end {file}\")\n",
    "np.savez(\"val.npz\", value = np.array(list_np), cat = np.array(list_c))\n"
   ]
  },
  {
   "cell_type": "code",
   "execution_count": 5,
   "metadata": {
    "ExecuteTime": {
     "end_time": "2020-12-07T04:48:07.188618Z",
     "start_time": "2020-12-07T04:48:06.627737Z"
    }
   },
   "outputs": [
    {
     "name": "stdout",
     "output_type": "stream",
     "text": [
      "start\n",
      "start fall\n",
      "end fall\n"
     ]
    }
   ],
   "source": [
    "list_np = []\n",
    "list_c = []\n",
    "file_list = ['fall']\n",
    "print(\"start\")\n",
    "for file in file_list:\n",
    "    if file == \".DS_Store\":\n",
    "        continue\n",
    "    path = os.path.join(fall_path,file)\n",
    "    npy_file = os.listdir(path)\n",
    "    category = file\n",
    "    print(f\"start {file}\")\n",
    "    for npy in npy_file:\n",
    "        if npy == \".DS_Store\":\n",
    "            continue\n",
    "        file_path = os.path.join(path,npy)\n",
    "        value = np.load(file_path, allow_pickle=True)[0][:,[2,3,4,]]\n",
    "        list_np.append(value)\n",
    "        category_int = file_list.index(category)\n",
    "        list_c.append(6)\n",
    "    print(f\"end {file}\")\n",
    "np.savez(\"fall.npz\", value = np.array(list_np), cat = np.array(list_c))"
   ]
  },
  {
   "cell_type": "markdown",
   "metadata": {
    "heading_collapsed": true
   },
   "source": [
    "### Testing around"
   ]
  },
  {
   "cell_type": "code",
   "execution_count": null,
   "metadata": {
    "ExecuteTime": {
     "end_time": "2020-12-04T04:33:01.034872Z",
     "start_time": "2020-12-04T04:33:01.032343Z"
    },
    "hidden": true
   },
   "outputs": [],
   "source": [
    "test_path = \"../raw_data/yann_data/dataset_2020-11-29-no-fall/test.npz\"\n",
    "train_path = \"../raw_data/yann_data/dataset_2020-11-29-no-fall/train.npz\""
   ]
  },
  {
   "cell_type": "code",
   "execution_count": null,
   "metadata": {
    "ExecuteTime": {
     "end_time": "2020-12-04T04:33:01.192221Z",
     "start_time": "2020-12-04T04:33:01.187619Z"
    },
    "hidden": true
   },
   "outputs": [],
   "source": [
    "npzfile_train = np.load(train_path,allow_pickle=True)\n",
    "npzfile_train.files"
   ]
  },
  {
   "cell_type": "code",
   "execution_count": null,
   "metadata": {
    "ExecuteTime": {
     "end_time": "2020-12-04T04:33:05.551964Z",
     "start_time": "2020-12-04T04:33:01.349368Z"
    },
    "hidden": true
   },
   "outputs": [],
   "source": [
    "npzfile_train[\"value\"].shape"
   ]
  },
  {
   "cell_type": "code",
   "execution_count": null,
   "metadata": {
    "ExecuteTime": {
     "end_time": "2020-12-04T04:33:05.726524Z",
     "start_time": "2020-12-04T04:33:05.721655Z"
    },
    "hidden": true
   },
   "outputs": [],
   "source": [
    "npzfile_test = np.load(test_path,allow_pickle=True)\n",
    "npzfile_test.files"
   ]
  },
  {
   "cell_type": "code",
   "execution_count": null,
   "metadata": {
    "ExecuteTime": {
     "end_time": "2020-12-04T04:33:07.226734Z",
     "start_time": "2020-12-04T04:33:05.876274Z"
    },
    "hidden": true
   },
   "outputs": [],
   "source": [
    "npzfile_test[\"value\"].shape"
   ]
  },
  {
   "cell_type": "code",
   "execution_count": null,
   "metadata": {
    "ExecuteTime": {
     "end_time": "2020-12-04T04:33:19.073653Z",
     "start_time": "2020-12-04T04:33:07.388212Z"
    },
    "hidden": true
   },
   "outputs": [],
   "source": [
    "np.savez(\"fallguys.npz\", train_value = npzfile_train[\"value\"], train_cat = npzfile_train[\"cat\"],\n",
    "        test_value = npzfile_test[\"value\"], test_cat = npzfile_test[\"cat\"])"
   ]
  },
  {
   "cell_type": "markdown",
   "metadata": {
    "heading_collapsed": true
   },
   "source": [
    "### Train"
   ]
  },
  {
   "cell_type": "code",
   "execution_count": null,
   "metadata": {
    "ExecuteTime": {
     "end_time": "2020-12-04T05:36:25.768074Z",
     "start_time": "2020-12-04T05:36:21.391316Z"
    },
    "hidden": true
   },
   "outputs": [],
   "source": [
    "# load file\n",
    "\n",
    "DATA_URL = '../raw_data/yann_data/dataset_2020-11-29-no-fall/fallguys.npz'\n",
    "\n",
    "with np.load(DATA_URL, allow_pickle=True) as data:\n",
    "  train_examples = data['train_value']\n",
    "  train_labels = data['train_cat']\n",
    "  test_examples = data['test_value']\n",
    "  test_labels = data['test_cat']"
   ]
  },
  {
   "cell_type": "code",
   "execution_count": null,
   "metadata": {
    "ExecuteTime": {
     "end_time": "2020-12-04T05:36:28.564240Z",
     "start_time": "2020-12-04T05:36:25.903674Z"
    },
    "hidden": true
   },
   "outputs": [],
   "source": [
    "# datat structure is different\n",
    "padded_inputs = tf.keras.preprocessing.sequence.pad_sequences(\n",
    "    train_examples, padding=\"post\", dtype='float', value=-999.,\n",
    ")"
   ]
  },
  {
   "cell_type": "code",
   "execution_count": null,
   "metadata": {
    "ExecuteTime": {
     "end_time": "2020-12-04T05:36:29.177896Z",
     "start_time": "2020-12-04T05:36:28.702056Z"
    },
    "hidden": true
   },
   "outputs": [],
   "source": [
    "padded_outputs = tf.keras.preprocessing.sequence.pad_sequences(\n",
    "    test_examples, padding=\"post\", dtype='float32', value=-999.,\n",
    ")"
   ]
  },
  {
   "cell_type": "code",
   "execution_count": null,
   "metadata": {
    "ExecuteTime": {
     "end_time": "2020-12-04T05:36:29.990432Z",
     "start_time": "2020-12-04T05:36:29.316017Z"
    },
    "hidden": true
   },
   "outputs": [],
   "source": [
    "# label to data\n",
    "train_dataset = tf.data.Dataset.from_tensor_slices((padded_inputs, train_labels))"
   ]
  },
  {
   "cell_type": "code",
   "execution_count": null,
   "metadata": {
    "ExecuteTime": {
     "end_time": "2020-12-04T05:36:30.128524Z",
     "start_time": "2020-12-04T05:36:30.125394Z"
    },
    "hidden": true
   },
   "outputs": [],
   "source": [
    "test_dataset = tf.data.Dataset.from_tensor_slices((padded_outputs, test_labels))"
   ]
  },
  {
   "cell_type": "code",
   "execution_count": null,
   "metadata": {
    "ExecuteTime": {
     "end_time": "2020-12-04T05:36:30.274643Z",
     "start_time": "2020-12-04T05:36:30.269343Z"
    },
    "hidden": true
   },
   "outputs": [],
   "source": [
    "# shuffle batch size \n",
    "\n",
    "BATCH_SIZE = 64\n",
    "SHUFFLE_BUFFER_SIZE = 100\n",
    "\n",
    "train_dataset = train_dataset.shuffle(SHUFFLE_BUFFER_SIZE).batch(BATCH_SIZE)\n",
    "test_dataset = test_dataset.batch(BATCH_SIZE)"
   ]
  },
  {
   "cell_type": "code",
   "execution_count": null,
   "metadata": {
    "ExecuteTime": {
     "end_time": "2020-12-04T05:49:23.119115Z",
     "start_time": "2020-12-04T05:49:23.098052Z"
    },
    "hidden": true
   },
   "outputs": [],
   "source": [
    "model = tf.keras.Sequential()\n",
    "\n",
    "model.add(tf.keras.layers.Masking(mask_value=-999.))\n",
    "# Add a LSTM layer with 64 internal units.\n",
    "model.add(tf.keras.layers.LSTM(64))\n",
    "\n",
    "model.add(tf.keras.layers.Dense(7,activation='softmax' ))\n",
    "\n",
    "model.compile(loss=tf.keras.losses.SparseCategoricalCrossentropy(from_logits=True), \n",
    "                      optimizer='rmsprop', metrics=['accuracy'])\n"
   ]
  },
  {
   "cell_type": "code",
   "execution_count": null,
   "metadata": {
    "ExecuteTime": {
     "end_time": "2020-12-04T06:05:44.121090Z",
     "start_time": "2020-12-04T05:49:23.985594Z"
    },
    "hidden": true
   },
   "outputs": [],
   "source": [
    "model.fit(train_dataset, ) #model.add(tf.keras.layers.LSTM(64))"
   ]
  },
  {
   "cell_type": "code",
   "execution_count": null,
   "metadata": {
    "ExecuteTime": {
     "end_time": "2020-12-04T06:06:58.682115Z",
     "start_time": "2020-12-04T06:06:51.348915Z"
    },
    "hidden": true
   },
   "outputs": [],
   "source": [
    "model.save('../raw_data/model/model_lstm64')"
   ]
  },
  {
   "cell_type": "code",
   "execution_count": null,
   "metadata": {
    "ExecuteTime": {
     "end_time": "2020-12-04T06:15:38.510412Z",
     "start_time": "2020-12-04T06:15:38.485161Z"
    },
    "hidden": true
   },
   "outputs": [],
   "source": [
    "model2 = tf.keras.Sequential()\n",
    "\n",
    "model2.add(tf.keras.layers.Masking(mask_value=-999.))\n",
    "model2.add(tf.keras.layers.LSTM(128))\n",
    "# model2.add(tf.keras.layers.LSTM(32))\n",
    "model2.add(tf.keras.layers.Dense(7,activation='softmax' ))\n",
    "\n",
    "model2.compile(loss=tf.keras.losses.SparseCategoricalCrossentropy(from_logits=True), \n",
    "                      optimizer='rmsprop', metrics=['accuracy'])"
   ]
  },
  {
   "cell_type": "markdown",
   "metadata": {},
   "source": [
    "### Q and A"
   ]
  },
  {
   "cell_type": "code",
   "execution_count": null,
   "metadata": {
    "ExecuteTime": {
     "end_time": "2020-12-04T06:30:22.495209Z",
     "start_time": "2020-12-04T06:30:22.492065Z"
    }
   },
   "outputs": [],
   "source": [
    "#visualize data PCA\n",
    "import matplotlib.pyplot as plt\n",
    "from sklearn.manifold import TSNE"
   ]
  },
  {
   "cell_type": "code",
   "execution_count": null,
   "metadata": {
    "ExecuteTime": {
     "end_time": "2020-12-04T06:45:56.602496Z",
     "start_time": "2020-12-04T06:45:56.597697Z"
    }
   },
   "outputs": [],
   "source": [
    "train_examples.shape"
   ]
  },
  {
   "cell_type": "code",
   "execution_count": null,
   "metadata": {
    "ExecuteTime": {
     "end_time": "2020-12-04T06:44:42.807100Z",
     "start_time": "2020-12-04T06:44:42.800646Z"
    }
   },
   "outputs": [],
   "source": [
    "#sample\n",
    "X = np.array([[0, 0, 0], [0, 1, 1], [1, 0, 1], [1, 1, 1]])\n",
    "X.shape"
   ]
  },
  {
   "cell_type": "code",
   "execution_count": null,
   "metadata": {
    "ExecuteTime": {
     "end_time": "2020-12-04T06:48:12.372098Z",
     "start_time": "2020-12-04T06:48:12.367444Z"
    }
   },
   "outputs": [],
   "source": [
    "padded_inputs[0]"
   ]
  },
  {
   "cell_type": "code",
   "execution_count": null,
   "metadata": {
    "ExecuteTime": {
     "end_time": "2020-12-04T06:50:47.012196Z",
     "start_time": "2020-12-04T06:50:37.912084Z"
    }
   },
   "outputs": [],
   "source": [
    "flatted_inputs = [ r.flatten() for r in padded_inputs]"
   ]
  },
  {
   "cell_type": "code",
   "execution_count": null,
   "metadata": {
    "ExecuteTime": {
     "end_time": "2020-12-04T06:51:55.850840Z",
     "start_time": "2020-12-04T06:51:55.845597Z"
    }
   },
   "outputs": [],
   "source": [
    "len(flatted_inputs)"
   ]
  },
  {
   "cell_type": "code",
   "execution_count": null,
   "metadata": {
    "ExecuteTime": {
     "start_time": "2020-12-04T06:53:28.091Z"
    }
   },
   "outputs": [],
   "source": [
    "train_examples_embedded = TSNE(n_components=2).fit_transform(flatted_inputs)"
   ]
  },
  {
   "cell_type": "code",
   "execution_count": null,
   "metadata": {
    "ExecuteTime": {
     "end_time": "2020-12-04T06:39:32.378816Z",
     "start_time": "2020-12-04T06:39:32.373568Z"
    }
   },
   "outputs": [],
   "source": [
    "train_examples_embedded.shape"
   ]
  },
  {
   "cell_type": "code",
   "execution_count": null,
   "metadata": {},
   "outputs": [],
   "source": []
  }
 ],
 "metadata": {
  "kernelspec": {
   "display_name": "Python 3",
   "language": "python",
   "name": "python3"
  },
  "language_info": {
   "codemirror_mode": {
    "name": "ipython",
    "version": 3
   },
   "file_extension": ".py",
   "mimetype": "text/x-python",
   "name": "python",
   "nbconvert_exporter": "python",
   "pygments_lexer": "ipython3",
   "version": "3.7.7"
  },
  "toc": {
   "base_numbering": 1,
   "nav_menu": {},
   "number_sections": true,
   "sideBar": true,
   "skip_h1_title": false,
   "title_cell": "Table of Contents",
   "title_sidebar": "Contents",
   "toc_cell": false,
   "toc_position": {},
   "toc_section_display": true,
   "toc_window_display": false
  },
  "varInspector": {
   "cols": {
    "lenName": 16,
    "lenType": 16,
    "lenVar": 40
   },
   "kernels_config": {
    "python": {
     "delete_cmd_postfix": "",
     "delete_cmd_prefix": "del ",
     "library": "var_list.py",
     "varRefreshCmd": "print(var_dic_list())"
    },
    "r": {
     "delete_cmd_postfix": ") ",
     "delete_cmd_prefix": "rm(",
     "library": "var_list.r",
     "varRefreshCmd": "cat(var_dic_list()) "
    }
   },
   "types_to_exclude": [
    "module",
    "function",
    "builtin_function_or_method",
    "instance",
    "_Feature"
   ],
   "window_display": false
  }
 },
 "nbformat": 4,
 "nbformat_minor": 4
}
