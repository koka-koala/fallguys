{
 "cells": [
  {
   "cell_type": "code",
   "execution_count": 1,
   "metadata": {
    "ExecuteTime": {
     "end_time": "2020-12-02T00:42:31.761648Z",
     "start_time": "2020-12-02T00:42:26.849524Z"
    }
   },
   "outputs": [],
   "source": [
    "import pandas as pd\n",
    "import numpy as np\n",
    "import matplotlib.pyplot as plt"
   ]
  },
  {
   "cell_type": "markdown",
   "metadata": {
    "heading_collapsed": true
   },
   "source": [
    "### Function"
   ]
  },
  {
   "cell_type": "code",
   "execution_count": 2,
   "metadata": {
    "ExecuteTime": {
     "end_time": "2020-12-02T00:42:31.809663Z",
     "start_time": "2020-12-02T00:42:31.804019Z"
    },
    "hidden": true
   },
   "outputs": [],
   "source": [
    "def an_filename(name):\n",
    "    '''Get the real file name not the path from csv file'''\n",
    "    filename = \"a_\" + name.split(\"a_\")[1]\n",
    "    return filename\n",
    "\n",
    "def sen_filename(name):\n",
    "    '''Get the real file name not the path from csv file'''\n",
    "    filename = \"s_\" + name.split(\"s_\")[1]\n",
    "    return filename"
   ]
  },
  {
   "cell_type": "code",
   "execution_count": 3,
   "metadata": {
    "ExecuteTime": {
     "end_time": "2020-12-02T00:42:31.847440Z",
     "start_time": "2020-12-02T00:42:31.842550Z"
    },
    "hidden": true
   },
   "outputs": [],
   "source": [
    "def convert(seconds): \n",
    "    milli = (seconds % 1) * 100\n",
    "    seconds = seconds % (24 * 3600) \n",
    "    hour = seconds // 3600\n",
    "    seconds %= 3600\n",
    "    minutes = seconds // 60\n",
    "    seconds %= 60\n",
    "      \n",
    "    return \"%d:%02d:%02d:%02d\" % (hour, minutes, seconds, milli)"
   ]
  },
  {
   "cell_type": "code",
   "execution_count": 4,
   "metadata": {
    "ExecuteTime": {
     "end_time": "2020-12-02T00:42:31.892603Z",
     "start_time": "2020-12-02T00:42:31.886455Z"
    },
    "hidden": true
   },
   "outputs": [],
   "source": [
    "def key(X):\n",
    "    key, value = list(X.items())[0]\n",
    "    return key.strip(\"()\")\n",
    "\n",
    "def value(X):\n",
    "    key, value = list(X.items())[0]\n",
    "    key2, value2 = list(value[0].items())[0]\n",
    "    return value2\n",
    "\n",
    "def process(X):\n",
    "    key, value = list(X.items())[0]\n",
    "    key2, value2 = list(value[0].items())[0]\n",
    "    return key2"
   ]
  },
  {
   "cell_type": "markdown",
   "metadata": {
    "heading_collapsed": true
   },
   "source": [
    "### Testing around"
   ]
  },
  {
   "cell_type": "markdown",
   "metadata": {
    "hidden": true
   },
   "source": [
    "Short explanations about the data.\n",
    "There are 2 types of json files,\n",
    "* 1 starting with \"a_....\" which contains the type of activity and it's timestamp (amount of microseconds since 1st January 1970)\n",
    "* 1 starting with \"s_....\" which contains the sensors data\n",
    "I made a diagram. And I also share with you a sample data of a \"a_\" file and a \"s_\" one."
   ]
  },
  {
   "cell_type": "code",
   "execution_count": 5,
   "metadata": {
    "ExecuteTime": {
     "end_time": "2020-12-02T00:42:34.694103Z",
     "start_time": "2020-12-02T00:42:34.691284Z"
    },
    "hidden": true
   },
   "outputs": [],
   "source": [
    "sensor_csvpath = \"../raw_data/sample/sensors.csv\"\n",
    "anno_csvpath = \"../raw_data/sample/annotations.csv\"\n",
    "fall_path = \"../raw_data/20201130-sg9-y-fall/s_2020-11-30-1606746627268-SMG960F-W6Ex5DZKnuMe8eiFIsbSutgVLV72.json\""
   ]
  },
  {
   "cell_type": "code",
   "execution_count": 6,
   "metadata": {
    "ExecuteTime": {
     "end_time": "2020-12-02T00:42:35.784939Z",
     "start_time": "2020-12-02T00:42:35.174505Z"
    },
    "hidden": true
   },
   "outputs": [
    {
     "data": {
      "text/html": [
       "<div>\n",
       "<style scoped>\n",
       "    .dataframe tbody tr th:only-of-type {\n",
       "        vertical-align: middle;\n",
       "    }\n",
       "\n",
       "    .dataframe tbody tr th {\n",
       "        vertical-align: top;\n",
       "    }\n",
       "\n",
       "    .dataframe thead th {\n",
       "        text-align: right;\n",
       "    }\n",
       "</style>\n",
       "<table border=\"1\" class=\"dataframe\">\n",
       "  <thead>\n",
       "    <tr style=\"text-align: right;\">\n",
       "      <th></th>\n",
       "      <th>time</th>\n",
       "      <th>filename</th>\n",
       "    </tr>\n",
       "  </thead>\n",
       "  <tbody>\n",
       "    <tr>\n",
       "      <th>0</th>\n",
       "      <td>2020-08-05 22:21:03</td>\n",
       "      <td>data/raw/2020-08-05-asa/a_2020-08-05-W6Ex5DZKn...</td>\n",
       "    </tr>\n",
       "  </tbody>\n",
       "</table>\n",
       "</div>"
      ],
      "text/plain": [
       "                  time                                           filename\n",
       "0  2020-08-05 22:21:03  data/raw/2020-08-05-asa/a_2020-08-05-W6Ex5DZKn..."
      ]
     },
     "execution_count": 6,
     "metadata": {},
     "output_type": "execute_result"
    }
   ],
   "source": [
    "an_csv = pd.read_csv(anno_csvpath)\n",
    "an_csv"
   ]
  },
  {
   "cell_type": "code",
   "execution_count": 7,
   "metadata": {
    "ExecuteTime": {
     "end_time": "2020-12-02T00:42:35.957606Z",
     "start_time": "2020-12-02T00:42:35.818788Z"
    },
    "hidden": true
   },
   "outputs": [],
   "source": [
    "an_csv[\"real_filename\"] = an_csv[\"filename\"].apply(an_filename)"
   ]
  },
  {
   "cell_type": "code",
   "execution_count": 8,
   "metadata": {
    "ExecuteTime": {
     "end_time": "2020-12-02T00:42:38.579134Z",
     "start_time": "2020-12-02T00:42:38.570626Z"
    },
    "hidden": true
   },
   "outputs": [
    {
     "data": {
      "text/html": [
       "<div>\n",
       "<style scoped>\n",
       "    .dataframe tbody tr th:only-of-type {\n",
       "        vertical-align: middle;\n",
       "    }\n",
       "\n",
       "    .dataframe tbody tr th {\n",
       "        vertical-align: top;\n",
       "    }\n",
       "\n",
       "    .dataframe thead th {\n",
       "        text-align: right;\n",
       "    }\n",
       "</style>\n",
       "<table border=\"1\" class=\"dataframe\">\n",
       "  <thead>\n",
       "    <tr style=\"text-align: right;\">\n",
       "      <th></th>\n",
       "      <th>time</th>\n",
       "      <th>filename</th>\n",
       "      <th>real_filename</th>\n",
       "    </tr>\n",
       "  </thead>\n",
       "  <tbody>\n",
       "    <tr>\n",
       "      <th>0</th>\n",
       "      <td>2020-08-05 22:21:03</td>\n",
       "      <td>data/raw/2020-08-05-asa/a_2020-08-05-W6Ex5DZKn...</td>\n",
       "      <td>a_2020-08-05-W6Ex5DZKnuMe8eiFIsbSutgVLV72.json</td>\n",
       "    </tr>\n",
       "  </tbody>\n",
       "</table>\n",
       "</div>"
      ],
      "text/plain": [
       "                  time                                           filename  \\\n",
       "0  2020-08-05 22:21:03  data/raw/2020-08-05-asa/a_2020-08-05-W6Ex5DZKn...   \n",
       "\n",
       "                                    real_filename  \n",
       "0  a_2020-08-05-W6Ex5DZKnuMe8eiFIsbSutgVLV72.json  "
      ]
     },
     "execution_count": 8,
     "metadata": {},
     "output_type": "execute_result"
    }
   ],
   "source": [
    "an_csv"
   ]
  },
  {
   "cell_type": "code",
   "execution_count": 9,
   "metadata": {
    "ExecuteTime": {
     "end_time": "2020-12-02T00:42:52.038603Z",
     "start_time": "2020-12-02T00:42:51.903842Z"
    },
    "hidden": true
   },
   "outputs": [
    {
     "data": {
      "text/html": [
       "<div>\n",
       "<style scoped>\n",
       "    .dataframe tbody tr th:only-of-type {\n",
       "        vertical-align: middle;\n",
       "    }\n",
       "\n",
       "    .dataframe tbody tr th {\n",
       "        vertical-align: top;\n",
       "    }\n",
       "\n",
       "    .dataframe thead th {\n",
       "        text-align: right;\n",
       "    }\n",
       "</style>\n",
       "<table border=\"1\" class=\"dataframe\">\n",
       "  <thead>\n",
       "    <tr style=\"text-align: right;\">\n",
       "      <th></th>\n",
       "      <th>time</th>\n",
       "      <th>filename</th>\n",
       "      <th>real_filename</th>\n",
       "    </tr>\n",
       "  </thead>\n",
       "  <tbody>\n",
       "    <tr>\n",
       "      <th>0</th>\n",
       "      <td>2020-08-05 22:21:01</td>\n",
       "      <td>data/raw/2020-08-05-asa/s_2020-08-05-159661889...</td>\n",
       "      <td>s_2020-08-05-1596618899641-ASUS_X013DB-W6Ex5DZ...</td>\n",
       "    </tr>\n",
       "    <tr>\n",
       "      <th>1</th>\n",
       "      <td>2020-08-05 22:21:01</td>\n",
       "      <td>data/raw/2020-08-05-asa/s_2020-08-05-159661890...</td>\n",
       "      <td>s_2020-08-05-1596618902316-SHV40-W6Ex5DZKnuMe8...</td>\n",
       "    </tr>\n",
       "    <tr>\n",
       "      <th>2</th>\n",
       "      <td>2020-08-05 22:21:01</td>\n",
       "      <td>data/raw/2020-08-05-asa/s_2020-08-05-159661890...</td>\n",
       "      <td>s_2020-08-05-1596618909689-ASUS_X013DB-W6Ex5DZ...</td>\n",
       "    </tr>\n",
       "    <tr>\n",
       "      <th>3</th>\n",
       "      <td>2020-08-05 22:21:01</td>\n",
       "      <td>data/raw/2020-08-05-asa/s_2020-08-05-159661891...</td>\n",
       "      <td>s_2020-08-05-1596618912434-SHV40-W6Ex5DZKnuMe8...</td>\n",
       "    </tr>\n",
       "    <tr>\n",
       "      <th>4</th>\n",
       "      <td>2020-08-05 22:21:01</td>\n",
       "      <td>data/raw/2020-08-05-asa/s_2020-08-05-159661891...</td>\n",
       "      <td>s_2020-08-05-1596618919758-ASUS_X013DB-W6Ex5DZ...</td>\n",
       "    </tr>\n",
       "  </tbody>\n",
       "</table>\n",
       "</div>"
      ],
      "text/plain": [
       "                  time                                           filename  \\\n",
       "0  2020-08-05 22:21:01  data/raw/2020-08-05-asa/s_2020-08-05-159661889...   \n",
       "1  2020-08-05 22:21:01  data/raw/2020-08-05-asa/s_2020-08-05-159661890...   \n",
       "2  2020-08-05 22:21:01  data/raw/2020-08-05-asa/s_2020-08-05-159661890...   \n",
       "3  2020-08-05 22:21:01  data/raw/2020-08-05-asa/s_2020-08-05-159661891...   \n",
       "4  2020-08-05 22:21:01  data/raw/2020-08-05-asa/s_2020-08-05-159661891...   \n",
       "\n",
       "                                       real_filename  \n",
       "0  s_2020-08-05-1596618899641-ASUS_X013DB-W6Ex5DZ...  \n",
       "1  s_2020-08-05-1596618902316-SHV40-W6Ex5DZKnuMe8...  \n",
       "2  s_2020-08-05-1596618909689-ASUS_X013DB-W6Ex5DZ...  \n",
       "3  s_2020-08-05-1596618912434-SHV40-W6Ex5DZKnuMe8...  \n",
       "4  s_2020-08-05-1596618919758-ASUS_X013DB-W6Ex5DZ...  "
      ]
     },
     "execution_count": 9,
     "metadata": {},
     "output_type": "execute_result"
    }
   ],
   "source": [
    "sen_csv = pd.read_csv(sensor_csvpath)\n",
    "sen_csv[\"real_filename\"] = sen_csv[\"filename\"].apply(sen_filename)\n",
    "sen_csv.head()"
   ]
  },
  {
   "cell_type": "code",
   "execution_count": 10,
   "metadata": {
    "ExecuteTime": {
     "end_time": "2020-12-02T00:43:06.946813Z",
     "start_time": "2020-12-02T00:42:52.174389Z"
    },
    "hidden": true
   },
   "outputs": [
    {
     "data": {
      "text/html": [
       "<div>\n",
       "<style scoped>\n",
       "    .dataframe tbody tr th:only-of-type {\n",
       "        vertical-align: middle;\n",
       "    }\n",
       "\n",
       "    .dataframe tbody tr th {\n",
       "        vertical-align: top;\n",
       "    }\n",
       "\n",
       "    .dataframe thead th {\n",
       "        text-align: right;\n",
       "    }\n",
       "</style>\n",
       "<table border=\"1\" class=\"dataframe\">\n",
       "  <thead>\n",
       "    <tr style=\"text-align: right;\">\n",
       "      <th></th>\n",
       "      <th>dt</th>\n",
       "      <th>os</th>\n",
       "      <th>p</th>\n",
       "      <th>pf</th>\n",
       "      <th>uid</th>\n",
       "      <th>v</th>\n",
       "    </tr>\n",
       "  </thead>\n",
       "  <tbody>\n",
       "    <tr>\n",
       "      <th>0</th>\n",
       "      <td>{'down_stairs': [{'Begin': 1596618985598}]}</td>\n",
       "      <td>26</td>\n",
       "      <td>SHV40</td>\n",
       "      <td>1</td>\n",
       "      <td>W6Ex5DZKnuMe8eiFIsbSutgVLV72</td>\n",
       "      <td>1</td>\n",
       "    </tr>\n",
       "    <tr>\n",
       "      <th>1</th>\n",
       "      <td>{'down_stairs': [{'End': 1596618989833}]}</td>\n",
       "      <td>26</td>\n",
       "      <td>SHV40</td>\n",
       "      <td>1</td>\n",
       "      <td>W6Ex5DZKnuMe8eiFIsbSutgVLV72</td>\n",
       "      <td>1</td>\n",
       "    </tr>\n",
       "    <tr>\n",
       "      <th>2</th>\n",
       "      <td>{'down_stairs': [{'Begin': 1596618995255}]}</td>\n",
       "      <td>26</td>\n",
       "      <td>SHV40</td>\n",
       "      <td>1</td>\n",
       "      <td>W6Ex5DZKnuMe8eiFIsbSutgVLV72</td>\n",
       "      <td>1</td>\n",
       "    </tr>\n",
       "    <tr>\n",
       "      <th>3</th>\n",
       "      <td>{'down_stairs': [{'End': 1596618997833}]}</td>\n",
       "      <td>26</td>\n",
       "      <td>SHV40</td>\n",
       "      <td>1</td>\n",
       "      <td>W6Ex5DZKnuMe8eiFIsbSutgVLV72</td>\n",
       "      <td>1</td>\n",
       "    </tr>\n",
       "    <tr>\n",
       "      <th>4</th>\n",
       "      <td>{'down_stairs': [{'Begin': 1596619066247}]}</td>\n",
       "      <td>26</td>\n",
       "      <td>SHV40</td>\n",
       "      <td>1</td>\n",
       "      <td>W6Ex5DZKnuMe8eiFIsbSutgVLV72</td>\n",
       "      <td>1</td>\n",
       "    </tr>\n",
       "  </tbody>\n",
       "</table>\n",
       "</div>"
      ],
      "text/plain": [
       "                                            dt  os      p  pf  \\\n",
       "0  {'down_stairs': [{'Begin': 1596618985598}]}  26  SHV40   1   \n",
       "1    {'down_stairs': [{'End': 1596618989833}]}  26  SHV40   1   \n",
       "2  {'down_stairs': [{'Begin': 1596618995255}]}  26  SHV40   1   \n",
       "3    {'down_stairs': [{'End': 1596618997833}]}  26  SHV40   1   \n",
       "4  {'down_stairs': [{'Begin': 1596619066247}]}  26  SHV40   1   \n",
       "\n",
       "                            uid  v  \n",
       "0  W6Ex5DZKnuMe8eiFIsbSutgVLV72  1  \n",
       "1  W6Ex5DZKnuMe8eiFIsbSutgVLV72  1  \n",
       "2  W6Ex5DZKnuMe8eiFIsbSutgVLV72  1  \n",
       "3  W6Ex5DZKnuMe8eiFIsbSutgVLV72  1  \n",
       "4  W6Ex5DZKnuMe8eiFIsbSutgVLV72  1  "
      ]
     },
     "execution_count": 10,
     "metadata": {},
     "output_type": "execute_result"
    }
   ],
   "source": [
    "anno_jsonpath = \"../raw_data/sample/annot/a_2020-08-05-W6Ex5DZKnuMe8eiFIsbSutgVLV72.json\"\n",
    "an_json = pd.read_json(anno_jsonpath)\n",
    "an_json.head()"
   ]
  },
  {
   "cell_type": "code",
   "execution_count": 12,
   "metadata": {
    "ExecuteTime": {
     "end_time": "2020-12-02T00:44:31.469438Z",
     "start_time": "2020-12-02T00:44:31.417186Z"
    },
    "hidden": true
   },
   "outputs": [],
   "source": [
    "an_json[\"activities\"] = an_json[\"dt\"].apply(key)\n",
    "an_json[\"process\"] = an_json[\"dt\"].apply(process)\n",
    "an_json[\"time\"] = an_json[\"dt\"].apply(value)"
   ]
  },
  {
   "cell_type": "code",
   "execution_count": 13,
   "metadata": {
    "ExecuteTime": {
     "end_time": "2020-12-02T00:44:43.964022Z",
     "start_time": "2020-12-02T00:44:43.944615Z"
    },
    "hidden": true,
    "scrolled": true
   },
   "outputs": [
    {
     "data": {
      "text/html": [
       "<div>\n",
       "<style scoped>\n",
       "    .dataframe tbody tr th:only-of-type {\n",
       "        vertical-align: middle;\n",
       "    }\n",
       "\n",
       "    .dataframe tbody tr th {\n",
       "        vertical-align: top;\n",
       "    }\n",
       "\n",
       "    .dataframe thead th {\n",
       "        text-align: right;\n",
       "    }\n",
       "</style>\n",
       "<table border=\"1\" class=\"dataframe\">\n",
       "  <thead>\n",
       "    <tr style=\"text-align: right;\">\n",
       "      <th></th>\n",
       "      <th>dt</th>\n",
       "      <th>os</th>\n",
       "      <th>p</th>\n",
       "      <th>pf</th>\n",
       "      <th>uid</th>\n",
       "      <th>v</th>\n",
       "      <th>activities</th>\n",
       "      <th>process</th>\n",
       "      <th>time</th>\n",
       "    </tr>\n",
       "  </thead>\n",
       "  <tbody>\n",
       "    <tr>\n",
       "      <th>0</th>\n",
       "      <td>{'down_stairs': [{'Begin': 1596618985598}]}</td>\n",
       "      <td>26</td>\n",
       "      <td>SHV40</td>\n",
       "      <td>1</td>\n",
       "      <td>W6Ex5DZKnuMe8eiFIsbSutgVLV72</td>\n",
       "      <td>1</td>\n",
       "      <td>down_stairs</td>\n",
       "      <td>Begin</td>\n",
       "      <td>1596618985598</td>\n",
       "    </tr>\n",
       "    <tr>\n",
       "      <th>1</th>\n",
       "      <td>{'down_stairs': [{'End': 1596618989833}]}</td>\n",
       "      <td>26</td>\n",
       "      <td>SHV40</td>\n",
       "      <td>1</td>\n",
       "      <td>W6Ex5DZKnuMe8eiFIsbSutgVLV72</td>\n",
       "      <td>1</td>\n",
       "      <td>down_stairs</td>\n",
       "      <td>End</td>\n",
       "      <td>1596618989833</td>\n",
       "    </tr>\n",
       "    <tr>\n",
       "      <th>2</th>\n",
       "      <td>{'down_stairs': [{'Begin': 1596618995255}]}</td>\n",
       "      <td>26</td>\n",
       "      <td>SHV40</td>\n",
       "      <td>1</td>\n",
       "      <td>W6Ex5DZKnuMe8eiFIsbSutgVLV72</td>\n",
       "      <td>1</td>\n",
       "      <td>down_stairs</td>\n",
       "      <td>Begin</td>\n",
       "      <td>1596618995255</td>\n",
       "    </tr>\n",
       "    <tr>\n",
       "      <th>3</th>\n",
       "      <td>{'down_stairs': [{'End': 1596618997833}]}</td>\n",
       "      <td>26</td>\n",
       "      <td>SHV40</td>\n",
       "      <td>1</td>\n",
       "      <td>W6Ex5DZKnuMe8eiFIsbSutgVLV72</td>\n",
       "      <td>1</td>\n",
       "      <td>down_stairs</td>\n",
       "      <td>End</td>\n",
       "      <td>1596618997833</td>\n",
       "    </tr>\n",
       "    <tr>\n",
       "      <th>4</th>\n",
       "      <td>{'down_stairs': [{'Begin': 1596619066247}]}</td>\n",
       "      <td>26</td>\n",
       "      <td>SHV40</td>\n",
       "      <td>1</td>\n",
       "      <td>W6Ex5DZKnuMe8eiFIsbSutgVLV72</td>\n",
       "      <td>1</td>\n",
       "      <td>down_stairs</td>\n",
       "      <td>Begin</td>\n",
       "      <td>1596619066247</td>\n",
       "    </tr>\n",
       "  </tbody>\n",
       "</table>\n",
       "</div>"
      ],
      "text/plain": [
       "                                            dt  os      p  pf  \\\n",
       "0  {'down_stairs': [{'Begin': 1596618985598}]}  26  SHV40   1   \n",
       "1    {'down_stairs': [{'End': 1596618989833}]}  26  SHV40   1   \n",
       "2  {'down_stairs': [{'Begin': 1596618995255}]}  26  SHV40   1   \n",
       "3    {'down_stairs': [{'End': 1596618997833}]}  26  SHV40   1   \n",
       "4  {'down_stairs': [{'Begin': 1596619066247}]}  26  SHV40   1   \n",
       "\n",
       "                            uid  v   activities process           time  \n",
       "0  W6Ex5DZKnuMe8eiFIsbSutgVLV72  1  down_stairs   Begin  1596618985598  \n",
       "1  W6Ex5DZKnuMe8eiFIsbSutgVLV72  1  down_stairs     End  1596618989833  \n",
       "2  W6Ex5DZKnuMe8eiFIsbSutgVLV72  1  down_stairs   Begin  1596618995255  \n",
       "3  W6Ex5DZKnuMe8eiFIsbSutgVLV72  1  down_stairs     End  1596618997833  \n",
       "4  W6Ex5DZKnuMe8eiFIsbSutgVLV72  1  down_stairs   Begin  1596619066247  "
      ]
     },
     "execution_count": 13,
     "metadata": {},
     "output_type": "execute_result"
    }
   ],
   "source": [
    "an_json.head()"
   ]
  },
  {
   "cell_type": "code",
   "execution_count": 14,
   "metadata": {
    "ExecuteTime": {
     "end_time": "2020-12-02T00:44:45.255212Z",
     "start_time": "2020-12-02T00:44:45.192310Z"
    },
    "hidden": true
   },
   "outputs": [],
   "source": [
    "final_an_csv = an_json[an_json.columns[-4:]]"
   ]
  },
  {
   "cell_type": "code",
   "execution_count": 15,
   "metadata": {
    "ExecuteTime": {
     "end_time": "2020-12-02T00:45:01.867078Z",
     "start_time": "2020-12-02T00:45:01.864140Z"
    },
    "hidden": true
   },
   "outputs": [],
   "source": [
    "# final_an_csv.to_csv(\"clean_an.csv\",index=False)"
   ]
  },
  {
   "cell_type": "code",
   "execution_count": 16,
   "metadata": {
    "ExecuteTime": {
     "end_time": "2020-12-02T00:45:02.767260Z",
     "start_time": "2020-12-02T00:45:02.462500Z"
    },
    "hidden": true
   },
   "outputs": [
    {
     "data": {
      "text/html": [
       "<div>\n",
       "<style scoped>\n",
       "    .dataframe tbody tr th:only-of-type {\n",
       "        vertical-align: middle;\n",
       "    }\n",
       "\n",
       "    .dataframe tbody tr th {\n",
       "        vertical-align: top;\n",
       "    }\n",
       "\n",
       "    .dataframe thead th {\n",
       "        text-align: right;\n",
       "    }\n",
       "</style>\n",
       "<table border=\"1\" class=\"dataframe\">\n",
       "  <thead>\n",
       "    <tr style=\"text-align: right;\">\n",
       "      <th></th>\n",
       "      <th>dt</th>\n",
       "      <th>os</th>\n",
       "      <th>pm</th>\n",
       "      <th>p</th>\n",
       "      <th>uid</th>\n",
       "      <th>v</th>\n",
       "    </tr>\n",
       "  </thead>\n",
       "  <tbody>\n",
       "    <tr>\n",
       "      <th>a</th>\n",
       "      <td>[[1596618912439.9998, 864412474877.0, 1.177947...</td>\n",
       "      <td>26</td>\n",
       "      <td>SHV40</td>\n",
       "      <td>0</td>\n",
       "      <td>W6Ex5DZKnuMe8eiFIsbSutgVLV72</td>\n",
       "      <td>1</td>\n",
       "    </tr>\n",
       "    <tr>\n",
       "      <th>g</th>\n",
       "      <td>[[1596618912441.0, 864413379825.0, 0.021991148...</td>\n",
       "      <td>26</td>\n",
       "      <td>SHV40</td>\n",
       "      <td>0</td>\n",
       "      <td>W6Ex5DZKnuMe8eiFIsbSutgVLV72</td>\n",
       "      <td>1</td>\n",
       "    </tr>\n",
       "    <tr>\n",
       "      <th>p</th>\n",
       "      <td>[]</td>\n",
       "      <td>26</td>\n",
       "      <td>SHV40</td>\n",
       "      <td>0</td>\n",
       "      <td>W6Ex5DZKnuMe8eiFIsbSutgVLV72</td>\n",
       "      <td>1</td>\n",
       "    </tr>\n",
       "  </tbody>\n",
       "</table>\n",
       "</div>"
      ],
      "text/plain": [
       "                                                  dt  os     pm  p  \\\n",
       "a  [[1596618912439.9998, 864412474877.0, 1.177947...  26  SHV40  0   \n",
       "g  [[1596618912441.0, 864413379825.0, 0.021991148...  26  SHV40  0   \n",
       "p                                                 []  26  SHV40  0   \n",
       "\n",
       "                            uid  v  \n",
       "a  W6Ex5DZKnuMe8eiFIsbSutgVLV72  1  \n",
       "g  W6Ex5DZKnuMe8eiFIsbSutgVLV72  1  \n",
       "p  W6Ex5DZKnuMe8eiFIsbSutgVLV72  1  "
      ]
     },
     "execution_count": 16,
     "metadata": {},
     "output_type": "execute_result"
    }
   ],
   "source": [
    "sen_jsonpath = \"../raw_data/sample/sens/s_2020-08-05-1596618922655-SHV40-W6Ex5DZKnuMe8eiFIsbSutgVLV72.json\"\n",
    "sen_json = pd.read_json(sen_jsonpath)\n",
    "sen_json.head()"
   ]
  },
  {
   "cell_type": "code",
   "execution_count": 17,
   "metadata": {
    "ExecuteTime": {
     "end_time": "2020-12-02T00:47:25.367393Z",
     "start_time": "2020-12-02T00:47:25.271471Z"
    },
    "hidden": true
   },
   "outputs": [
    {
     "data": {
      "text/html": [
       "<div>\n",
       "<style scoped>\n",
       "    .dataframe tbody tr th:only-of-type {\n",
       "        vertical-align: middle;\n",
       "    }\n",
       "\n",
       "    .dataframe tbody tr th {\n",
       "        vertical-align: top;\n",
       "    }\n",
       "\n",
       "    .dataframe thead th {\n",
       "        text-align: right;\n",
       "    }\n",
       "</style>\n",
       "<table border=\"1\" class=\"dataframe\">\n",
       "  <thead>\n",
       "    <tr style=\"text-align: right;\">\n",
       "      <th></th>\n",
       "      <th>time_stamp</th>\n",
       "      <th>sensor_time_stamp</th>\n",
       "      <th>X</th>\n",
       "      <th>Y</th>\n",
       "      <th>Z</th>\n",
       "    </tr>\n",
       "  </thead>\n",
       "  <tbody>\n",
       "    <tr>\n",
       "      <th>0</th>\n",
       "      <td>1.596619e+12</td>\n",
       "      <td>8.644125e+11</td>\n",
       "      <td>1.177947</td>\n",
       "      <td>2.901772</td>\n",
       "      <td>9.040505</td>\n",
       "    </tr>\n",
       "    <tr>\n",
       "      <th>1</th>\n",
       "      <td>1.596619e+12</td>\n",
       "      <td>8.644323e+11</td>\n",
       "      <td>1.359907</td>\n",
       "      <td>2.873042</td>\n",
       "      <td>9.212888</td>\n",
       "    </tr>\n",
       "    <tr>\n",
       "      <th>2</th>\n",
       "      <td>1.596619e+12</td>\n",
       "      <td>8.644523e+11</td>\n",
       "      <td>1.359907</td>\n",
       "      <td>2.920926</td>\n",
       "      <td>9.117120</td>\n",
       "    </tr>\n",
       "    <tr>\n",
       "      <th>3</th>\n",
       "      <td>1.596619e+12</td>\n",
       "      <td>8.644725e+11</td>\n",
       "      <td>1.455675</td>\n",
       "      <td>2.987964</td>\n",
       "      <td>9.097966</td>\n",
       "    </tr>\n",
       "    <tr>\n",
       "      <th>4</th>\n",
       "      <td>1.596619e+12</td>\n",
       "      <td>8.644925e+11</td>\n",
       "      <td>1.446098</td>\n",
       "      <td>3.045424</td>\n",
       "      <td>9.184157</td>\n",
       "    </tr>\n",
       "  </tbody>\n",
       "</table>\n",
       "</div>"
      ],
      "text/plain": [
       "     time_stamp  sensor_time_stamp         X         Y         Z\n",
       "0  1.596619e+12       8.644125e+11  1.177947  2.901772  9.040505\n",
       "1  1.596619e+12       8.644323e+11  1.359907  2.873042  9.212888\n",
       "2  1.596619e+12       8.644523e+11  1.359907  2.920926  9.117120\n",
       "3  1.596619e+12       8.644725e+11  1.455675  2.987964  9.097966\n",
       "4  1.596619e+12       8.644925e+11  1.446098  3.045424  9.184157"
      ]
     },
     "execution_count": 17,
     "metadata": {},
     "output_type": "execute_result"
    }
   ],
   "source": [
    "sen_acc = np.array(sen_json.dt[\"a\"])\n",
    "acc_df = pd.DataFrame(sen_acc, columns=[\"time_stamp\", \"sensor_time_stamp\",\"X\",\"Y\",\"Z\"])\n",
    "acc_df.head()"
   ]
  },
  {
   "cell_type": "code",
   "execution_count": null,
   "metadata": {
    "ExecuteTime": {
     "end_time": "2020-12-01T05:06:31.554046Z",
     "start_time": "2020-12-01T05:06:31.547646Z"
    },
    "hidden": true
   },
   "outputs": [],
   "source": [
    "acc_df.time_stamp[0]"
   ]
  },
  {
   "cell_type": "code",
   "execution_count": null,
   "metadata": {
    "ExecuteTime": {
     "end_time": "2020-12-01T05:25:00.046132Z",
     "start_time": "2020-12-01T05:25:00.030681Z"
    },
    "hidden": true
   },
   "outputs": [],
   "source": [
    "sen_gyro = np.array(sen_json.dt[\"g\"])\n",
    "gyro_df = pd.DataFrame(sen_gyro, columns=[\"time_stamp\", \"sensor_time_stamp\",\"X\",\"Y\",\"Z\"])\n",
    "gyro_df.head()"
   ]
  },
  {
   "cell_type": "code",
   "execution_count": null,
   "metadata": {
    "ExecuteTime": {
     "end_time": "2020-12-01T05:06:44.219129Z",
     "start_time": "2020-12-01T05:06:44.211878Z"
    },
    "hidden": true
   },
   "outputs": [],
   "source": [
    "gyro_df.time_stamp[0]"
   ]
  },
  {
   "cell_type": "code",
   "execution_count": null,
   "metadata": {
    "ExecuteTime": {
     "end_time": "2020-12-01T02:23:39.354737Z",
     "start_time": "2020-12-01T02:23:39.351236Z"
    },
    "hidden": true
   },
   "outputs": [],
   "source": [
    "def convert(seconds): \n",
    "    milli = (seconds % 1) * 100\n",
    "    seconds = seconds % (24 * 3600) \n",
    "    hour = seconds // 3600\n",
    "    seconds %= 3600\n",
    "    minutes = seconds // 60\n",
    "    seconds %= 60\n",
    "      \n",
    "    return \"%d:%02d:%02d:%02d\" % (hour, minutes, seconds, milli)"
   ]
  },
  {
   "cell_type": "code",
   "execution_count": null,
   "metadata": {
    "ExecuteTime": {
     "end_time": "2020-12-01T03:23:38.337543Z",
     "start_time": "2020-12-01T03:23:38.331682Z"
    },
    "hidden": true
   },
   "outputs": [],
   "source": [
    "def convert_to_realtime(timestamp): \n",
    "    seconds = timestamp/100000\n",
    "    milli = (seconds % 1) * 100\n",
    "    seconds = seconds % (24 * 3600) \n",
    "    hour = seconds // 3600\n",
    "    seconds %= 3600\n",
    "    minutes = seconds // 60 \n",
    "    seconds %= 60 \n",
    "    return \"%d:%02d:%02d:%02d\" % (hour, minutes, seconds, milli) \n",
    "    #return \"%d:%02d:%02d\" % (hour, minutes, seconds)"
   ]
  },
  {
   "cell_type": "code",
   "execution_count": null,
   "metadata": {
    "ExecuteTime": {
     "end_time": "2020-12-01T07:14:54.718077Z",
     "start_time": "2020-12-01T07:14:54.711423Z"
    },
    "hidden": true
   },
   "outputs": [],
   "source": [
    "gyro_df[\"real_time_stamp\"] = gyro_df[\"time_stamp\"].apply(convert_to_realtime)\n",
    "gyro_df[\"start_2s\"] = gyro_df[\"time_stamp\"]//200000"
   ]
  },
  {
   "cell_type": "code",
   "execution_count": null,
   "metadata": {
    "ExecuteTime": {
     "end_time": "2020-12-01T07:14:02.649267Z",
     "start_time": "2020-12-01T07:14:02.636001Z"
    },
    "hidden": true
   },
   "outputs": [],
   "source": [
    "gyro_df.head()"
   ]
  },
  {
   "cell_type": "code",
   "execution_count": null,
   "metadata": {
    "ExecuteTime": {
     "end_time": "2020-12-01T03:45:35.747826Z",
     "start_time": "2020-12-01T03:45:35.732663Z"
    },
    "hidden": true,
    "scrolled": true
   },
   "outputs": [],
   "source": [
    "final_an_csv.tail(20)\n",
    "# go for the most frequence ? one if overlap "
   ]
  },
  {
   "cell_type": "code",
   "execution_count": null,
   "metadata": {
    "ExecuteTime": {
     "end_time": "2020-12-01T06:07:42.276804Z",
     "start_time": "2020-12-01T06:07:42.266560Z"
    },
    "hidden": true
   },
   "outputs": [],
   "source": [
    "final_an_csv.head()"
   ]
  },
  {
   "cell_type": "code",
   "execution_count": null,
   "metadata": {
    "ExecuteTime": {
     "end_time": "2020-12-01T05:53:57.221256Z",
     "start_time": "2020-12-01T05:53:57.216788Z"
    },
    "hidden": true
   },
   "outputs": [],
   "source": [
    "row"
   ]
  },
  {
   "cell_type": "code",
   "execution_count": null,
   "metadata": {
    "ExecuteTime": {
     "end_time": "2020-12-01T05:58:46.011672Z",
     "start_time": "2020-12-01T05:58:45.993288Z"
    },
    "hidden": true
   },
   "outputs": [],
   "source": [
    "row = final_an_csv.shape[0]\n",
    "n = 0\n",
    "list_begin = []\n",
    "list_end = []\n",
    "list_act = []\n",
    "for row in range(int(row/2)):\n",
    "    list_begin.append(final_an_csv[\"time\"][n])\n",
    "    list_act.append(final_an_csv[\"activities\"][n])\n",
    "    list_end.append(final_an_csv[\"time\"][n+1])\n",
    "    n +=2"
   ]
  },
  {
   "cell_type": "code",
   "execution_count": null,
   "metadata": {
    "ExecuteTime": {
     "end_time": "2020-12-01T05:59:22.070957Z",
     "start_time": "2020-12-01T05:59:22.066031Z"
    },
    "hidden": true
   },
   "outputs": [],
   "source": [
    "new_df = {\"activitiy\" : list_act, \"start\" : list_begin, \"end\" : list_end}\n",
    "test_final_an = pd.DataFrame(new_df)"
   ]
  },
  {
   "cell_type": "code",
   "execution_count": null,
   "metadata": {
    "ExecuteTime": {
     "end_time": "2020-12-01T06:04:07.738202Z",
     "start_time": "2020-12-01T06:04:07.731040Z"
    },
    "hidden": true
   },
   "outputs": [],
   "source": [
    "test_final_an[\"start_real\"] = test_final_an[\"start\"].apply(convert_to_realtime)\n",
    "test_final_an[\"end_real\"] = test_final_an[\"end\"].apply(convert_to_realtime)"
   ]
  },
  {
   "cell_type": "markdown",
   "metadata": {
    "hidden": true
   },
   "source": [
    "Create bin for each 2seconds"
   ]
  },
  {
   "cell_type": "code",
   "execution_count": null,
   "metadata": {
    "ExecuteTime": {
     "end_time": "2020-12-01T06:46:53.527404Z",
     "start_time": "2020-12-01T06:46:53.523688Z"
    },
    "hidden": true
   },
   "outputs": [],
   "source": [
    "\n",
    "test_final_an[\"start_2s\"] = test_final_an[\"start\"]//200000"
   ]
  },
  {
   "cell_type": "markdown",
   "metadata": {
    "hidden": true
   },
   "source": [
    "Bin them separately them merge sensor to an (using interval 2s as index)"
   ]
  },
  {
   "cell_type": "code",
   "execution_count": null,
   "metadata": {
    "ExecuteTime": {
     "end_time": "2020-12-01T06:49:39.057146Z",
     "start_time": "2020-12-01T06:49:39.035298Z"
    },
    "hidden": true,
    "scrolled": true
   },
   "outputs": [],
   "source": [
    "test_final_an.head(50)"
   ]
  },
  {
   "cell_type": "code",
   "execution_count": null,
   "metadata": {
    "ExecuteTime": {
     "end_time": "2020-12-01T06:11:14.309747Z",
     "start_time": "2020-12-01T06:11:14.252389Z"
    },
    "hidden": true
   },
   "outputs": [],
   "source": [
    "lower = test_final_an[\"start\"][0]\n",
    "upper = lower + 200000\n",
    "temp_df = test_final_an[test_final_an[\"start\"] > lower]"
   ]
  },
  {
   "cell_type": "code",
   "execution_count": null,
   "metadata": {
    "ExecuteTime": {
     "end_time": "2020-12-01T06:08:14.166144Z",
     "start_time": "2020-12-01T06:08:14.160687Z"
    },
    "hidden": true
   },
   "outputs": [],
   "source": [
    "convert_to_realtime(200000)"
   ]
  },
  {
   "cell_type": "markdown",
   "metadata": {
    "hidden": true
   },
   "source": [
    "Take "
   ]
  },
  {
   "cell_type": "code",
   "execution_count": null,
   "metadata": {
    "ExecuteTime": {
     "end_time": "2020-12-01T03:33:04.396673Z",
     "start_time": "2020-12-01T03:33:04.382772Z"
    },
    "hidden": true
   },
   "outputs": [],
   "source": [
    "final_df = pd.DataFrame([], columns=[\"Activity\",\"Start\",\"End\",\"Acc_Time_stamp\",\"Acc_X\",\"Acc_Y\",\"Acc_Z\"])\n",
    "final_df"
   ]
  },
  {
   "cell_type": "code",
   "execution_count": null,
   "metadata": {
    "ExecuteTime": {
     "end_time": "2020-12-01T05:22:41.866941Z",
     "start_time": "2020-12-01T05:22:41.763745Z"
    },
    "hidden": true,
    "scrolled": true
   },
   "outputs": [],
   "source": [
    "fall_json = pd.read_json(fall_path)\n",
    "fall_json.head()"
   ]
  },
  {
   "cell_type": "code",
   "execution_count": null,
   "metadata": {
    "ExecuteTime": {
     "end_time": "2020-12-01T06:53:45.615446Z",
     "start_time": "2020-12-01T06:53:45.585945Z"
    },
    "hidden": true
   },
   "outputs": [],
   "source": [
    "fall_acc = np.array(fall_json.dt[\"a\"])\n",
    "fall_df = pd.DataFrame(fall_acc, columns=[\"time_stamp\", \"sensor_time_stamp\",\"X\",\"Y\",\"Z\"])\n",
    "fall_df"
   ]
  },
  {
   "cell_type": "markdown",
   "metadata": {
    "heading_collapsed": true
   },
   "source": [
    "### Prepare Annotation dataframe"
   ]
  },
  {
   "cell_type": "code",
   "execution_count": 18,
   "metadata": {
    "ExecuteTime": {
     "end_time": "2020-12-02T00:47:35.684481Z",
     "start_time": "2020-12-02T00:47:35.608663Z"
    },
    "hidden": true
   },
   "outputs": [
    {
     "data": {
      "text/html": [
       "<div>\n",
       "<style scoped>\n",
       "    .dataframe tbody tr th:only-of-type {\n",
       "        vertical-align: middle;\n",
       "    }\n",
       "\n",
       "    .dataframe tbody tr th {\n",
       "        vertical-align: top;\n",
       "    }\n",
       "\n",
       "    .dataframe thead th {\n",
       "        text-align: right;\n",
       "    }\n",
       "</style>\n",
       "<table border=\"1\" class=\"dataframe\">\n",
       "  <thead>\n",
       "    <tr style=\"text-align: right;\">\n",
       "      <th></th>\n",
       "      <th>time</th>\n",
       "      <th>filename</th>\n",
       "      <th>real_filename</th>\n",
       "    </tr>\n",
       "  </thead>\n",
       "  <tbody>\n",
       "    <tr>\n",
       "      <th>0</th>\n",
       "      <td>2020-08-05 22:21:03</td>\n",
       "      <td>data/raw/2020-08-05-asa/a_2020-08-05-W6Ex5DZKn...</td>\n",
       "      <td>a_2020-08-05-W6Ex5DZKnuMe8eiFIsbSutgVLV72.json</td>\n",
       "    </tr>\n",
       "  </tbody>\n",
       "</table>\n",
       "</div>"
      ],
      "text/plain": [
       "                  time                                           filename  \\\n",
       "0  2020-08-05 22:21:03  data/raw/2020-08-05-asa/a_2020-08-05-W6Ex5DZKn...   \n",
       "\n",
       "                                    real_filename  \n",
       "0  a_2020-08-05-W6Ex5DZKnuMe8eiFIsbSutgVLV72.json  "
      ]
     },
     "execution_count": 18,
     "metadata": {},
     "output_type": "execute_result"
    }
   ],
   "source": [
    "anno_basepath = \"../raw_data/full_data/\" # using for iterate path\n",
    "anno_csvpath = \"../raw_data/sample/annotations.csv\"\n",
    "an_csv = pd.read_csv(anno_csvpath)\n",
    "an_csv[\"real_filename\"] = an_csv[\"filename\"].apply(an_filename)\n",
    "an_csv # make real file name for iterate path"
   ]
  },
  {
   "cell_type": "code",
   "execution_count": 19,
   "metadata": {
    "ExecuteTime": {
     "end_time": "2020-12-02T00:47:36.190246Z",
     "start_time": "2020-12-02T00:47:36.089488Z"
    },
    "hidden": true
   },
   "outputs": [],
   "source": [
    "an_df = pd.read_json(\"../raw_data/sample/annot/\" + an_csv[\"real_filename\"][0])"
   ]
  },
  {
   "cell_type": "code",
   "execution_count": 20,
   "metadata": {
    "ExecuteTime": {
     "end_time": "2020-12-02T00:47:36.722600Z",
     "start_time": "2020-12-02T00:47:36.709790Z"
    },
    "hidden": true
   },
   "outputs": [],
   "source": [
    "an_df[\"activities\"] = an_df[\"dt\"].apply(key)\n",
    "an_df[\"process\"] = an_df[\"dt\"].apply(process)\n",
    "an_df[\"time\"] = an_df[\"dt\"].apply(value)\n",
    "an_df = an_df[an_df.columns[-3:]]"
   ]
  },
  {
   "cell_type": "code",
   "execution_count": 21,
   "metadata": {
    "ExecuteTime": {
     "end_time": "2020-12-02T00:47:37.251796Z",
     "start_time": "2020-12-02T00:47:37.237559Z"
    },
    "hidden": true
   },
   "outputs": [],
   "source": [
    "row = an_df.shape[0]\n",
    "n = 0\n",
    "list_begin = []\n",
    "list_end = []\n",
    "list_act = []\n",
    "for row in range(int(row/2)):\n",
    "    list_begin.append(an_df[\"time\"][n])\n",
    "    list_act.append(an_df[\"activities\"][n])\n",
    "    list_end.append(an_df[\"time\"][n+1])\n",
    "    n +=2"
   ]
  },
  {
   "cell_type": "code",
   "execution_count": 27,
   "metadata": {
    "ExecuteTime": {
     "end_time": "2020-12-02T00:47:50.486754Z",
     "start_time": "2020-12-02T00:47:50.482294Z"
    },
    "hidden": true
   },
   "outputs": [],
   "source": [
    "an_dict_clean = {\"activitiy\" : list_act, \"start\" : list_begin, \"end\" : list_end}\n",
    "an_df_clean = pd.DataFrame(an_dict_clean)"
   ]
  },
  {
   "cell_type": "code",
   "execution_count": 29,
   "metadata": {
    "ExecuteTime": {
     "end_time": "2020-12-02T00:48:19.897912Z",
     "start_time": "2020-12-02T00:48:19.879062Z"
    },
    "hidden": true,
    "scrolled": true
   },
   "outputs": [
    {
     "data": {
      "text/html": [
       "<div>\n",
       "<style scoped>\n",
       "    .dataframe tbody tr th:only-of-type {\n",
       "        vertical-align: middle;\n",
       "    }\n",
       "\n",
       "    .dataframe tbody tr th {\n",
       "        vertical-align: top;\n",
       "    }\n",
       "\n",
       "    .dataframe thead th {\n",
       "        text-align: right;\n",
       "    }\n",
       "</style>\n",
       "<table border=\"1\" class=\"dataframe\">\n",
       "  <thead>\n",
       "    <tr style=\"text-align: right;\">\n",
       "      <th></th>\n",
       "      <th>activitiy</th>\n",
       "      <th>start</th>\n",
       "      <th>end</th>\n",
       "    </tr>\n",
       "  </thead>\n",
       "  <tbody>\n",
       "    <tr>\n",
       "      <th>0</th>\n",
       "      <td>down_stairs</td>\n",
       "      <td>1596618985598</td>\n",
       "      <td>1596618989833</td>\n",
       "    </tr>\n",
       "    <tr>\n",
       "      <th>1</th>\n",
       "      <td>down_stairs</td>\n",
       "      <td>1596618995255</td>\n",
       "      <td>1596618997833</td>\n",
       "    </tr>\n",
       "    <tr>\n",
       "      <th>2</th>\n",
       "      <td>down_stairs</td>\n",
       "      <td>1596619066247</td>\n",
       "      <td>1596619069306</td>\n",
       "    </tr>\n",
       "    <tr>\n",
       "      <th>3</th>\n",
       "      <td>down_stairs</td>\n",
       "      <td>1596619073407</td>\n",
       "      <td>1596619075856</td>\n",
       "    </tr>\n",
       "    <tr>\n",
       "      <th>4</th>\n",
       "      <td>down_stairs</td>\n",
       "      <td>1596619079973</td>\n",
       "      <td>1596619082796</td>\n",
       "    </tr>\n",
       "    <tr>\n",
       "      <th>5</th>\n",
       "      <td>down_stairs</td>\n",
       "      <td>1596619087171</td>\n",
       "      <td>1596619089546</td>\n",
       "    </tr>\n",
       "    <tr>\n",
       "      <th>6</th>\n",
       "      <td>down_stairs</td>\n",
       "      <td>1596619093869</td>\n",
       "      <td>1596619096286</td>\n",
       "    </tr>\n",
       "    <tr>\n",
       "      <th>7</th>\n",
       "      <td>down_stairs</td>\n",
       "      <td>1596619100704</td>\n",
       "      <td>1596619103493</td>\n",
       "    </tr>\n",
       "    <tr>\n",
       "      <th>8</th>\n",
       "      <td>down_stairs</td>\n",
       "      <td>1596619108255</td>\n",
       "      <td>1596619110616</td>\n",
       "    </tr>\n",
       "    <tr>\n",
       "      <th>9</th>\n",
       "      <td>down_stairs</td>\n",
       "      <td>1596619115194</td>\n",
       "      <td>1596619117830</td>\n",
       "    </tr>\n",
       "    <tr>\n",
       "      <th>10</th>\n",
       "      <td>down_stairs</td>\n",
       "      <td>1596619121755</td>\n",
       "      <td>1596619125109</td>\n",
       "    </tr>\n",
       "    <tr>\n",
       "      <th>11</th>\n",
       "      <td>down_stairs</td>\n",
       "      <td>1596619129955</td>\n",
       "      <td>1596619132675</td>\n",
       "    </tr>\n",
       "    <tr>\n",
       "      <th>12</th>\n",
       "      <td>down_stairs</td>\n",
       "      <td>1596619136640</td>\n",
       "      <td>1596619139462</td>\n",
       "    </tr>\n",
       "    <tr>\n",
       "      <th>13</th>\n",
       "      <td>down_stairs</td>\n",
       "      <td>1596619145136</td>\n",
       "      <td>1596619148111</td>\n",
       "    </tr>\n",
       "    <tr>\n",
       "      <th>14</th>\n",
       "      <td>down_stairs</td>\n",
       "      <td>1596619153335</td>\n",
       "      <td>1596619155575</td>\n",
       "    </tr>\n",
       "    <tr>\n",
       "      <th>15</th>\n",
       "      <td>down_stairs</td>\n",
       "      <td>1596619159764</td>\n",
       "      <td>1596619162551</td>\n",
       "    </tr>\n",
       "    <tr>\n",
       "      <th>16</th>\n",
       "      <td>down_stairs</td>\n",
       "      <td>1596619167346</td>\n",
       "      <td>1596619170703</td>\n",
       "    </tr>\n",
       "    <tr>\n",
       "      <th>17</th>\n",
       "      <td>down_stairs</td>\n",
       "      <td>1596619175487</td>\n",
       "      <td>1596619178353</td>\n",
       "    </tr>\n",
       "    <tr>\n",
       "      <th>18</th>\n",
       "      <td>climb_stairs</td>\n",
       "      <td>1596620308708</td>\n",
       "      <td>1596620311059</td>\n",
       "    </tr>\n",
       "    <tr>\n",
       "      <th>19</th>\n",
       "      <td>climb_stairs</td>\n",
       "      <td>1596620362117</td>\n",
       "      <td>1596620365730</td>\n",
       "    </tr>\n",
       "    <tr>\n",
       "      <th>20</th>\n",
       "      <td>climb_stairs</td>\n",
       "      <td>1596620369895</td>\n",
       "      <td>1596620372621</td>\n",
       "    </tr>\n",
       "    <tr>\n",
       "      <th>21</th>\n",
       "      <td>climb_stairs</td>\n",
       "      <td>1596620376593</td>\n",
       "      <td>1596620379950</td>\n",
       "    </tr>\n",
       "    <tr>\n",
       "      <th>22</th>\n",
       "      <td>climb_stairs</td>\n",
       "      <td>1596620383917</td>\n",
       "      <td>1596620387438</td>\n",
       "    </tr>\n",
       "    <tr>\n",
       "      <th>23</th>\n",
       "      <td>climb_stairs</td>\n",
       "      <td>1596620391201</td>\n",
       "      <td>1596620394550</td>\n",
       "    </tr>\n",
       "    <tr>\n",
       "      <th>24</th>\n",
       "      <td>climb_stairs</td>\n",
       "      <td>1596620398515</td>\n",
       "      <td>1596620401908</td>\n",
       "    </tr>\n",
       "    <tr>\n",
       "      <th>25</th>\n",
       "      <td>climb_stairs</td>\n",
       "      <td>1596620405829</td>\n",
       "      <td>1596620408895</td>\n",
       "    </tr>\n",
       "    <tr>\n",
       "      <th>26</th>\n",
       "      <td>climb_stairs</td>\n",
       "      <td>1596620413359</td>\n",
       "      <td>1596620416171</td>\n",
       "    </tr>\n",
       "    <tr>\n",
       "      <th>27</th>\n",
       "      <td>climb_stairs</td>\n",
       "      <td>1596620416568</td>\n",
       "      <td>1596620417338</td>\n",
       "    </tr>\n",
       "    <tr>\n",
       "      <th>28</th>\n",
       "      <td>climb_stairs</td>\n",
       "      <td>1596620420535</td>\n",
       "      <td>1596620423718</td>\n",
       "    </tr>\n",
       "    <tr>\n",
       "      <th>29</th>\n",
       "      <td>climb_stairs</td>\n",
       "      <td>1596620427704</td>\n",
       "      <td>1596620430838</td>\n",
       "    </tr>\n",
       "    <tr>\n",
       "      <th>...</th>\n",
       "      <td>...</td>\n",
       "      <td>...</td>\n",
       "      <td>...</td>\n",
       "    </tr>\n",
       "    <tr>\n",
       "      <th>127</th>\n",
       "      <td>climb_stairs</td>\n",
       "      <td>1596632496559</td>\n",
       "      <td>1596632499868</td>\n",
       "    </tr>\n",
       "    <tr>\n",
       "      <th>128</th>\n",
       "      <td>climb_stairs</td>\n",
       "      <td>1596632504654</td>\n",
       "      <td>1596632507851</td>\n",
       "    </tr>\n",
       "    <tr>\n",
       "      <th>129</th>\n",
       "      <td>climb_stairs</td>\n",
       "      <td>1596632512630</td>\n",
       "      <td>1596632515663</td>\n",
       "    </tr>\n",
       "    <tr>\n",
       "      <th>130</th>\n",
       "      <td>climb_stairs</td>\n",
       "      <td>1596632520303</td>\n",
       "      <td>1596632523722</td>\n",
       "    </tr>\n",
       "    <tr>\n",
       "      <th>131</th>\n",
       "      <td>climb_stairs</td>\n",
       "      <td>1596632528345</td>\n",
       "      <td>1596632531624</td>\n",
       "    </tr>\n",
       "    <tr>\n",
       "      <th>132</th>\n",
       "      <td>climb_stairs</td>\n",
       "      <td>1596632536348</td>\n",
       "      <td>1596632539583</td>\n",
       "    </tr>\n",
       "    <tr>\n",
       "      <th>133</th>\n",
       "      <td>climb_stairs</td>\n",
       "      <td>1596632544075</td>\n",
       "      <td>1596632547338</td>\n",
       "    </tr>\n",
       "    <tr>\n",
       "      <th>134</th>\n",
       "      <td>climb_stairs</td>\n",
       "      <td>1596632552110</td>\n",
       "      <td>1596632554813</td>\n",
       "    </tr>\n",
       "    <tr>\n",
       "      <th>135</th>\n",
       "      <td>climb_stairs</td>\n",
       "      <td>1596632559407</td>\n",
       "      <td>1596632562448</td>\n",
       "    </tr>\n",
       "    <tr>\n",
       "      <th>136</th>\n",
       "      <td>climb_stairs</td>\n",
       "      <td>1596632567054</td>\n",
       "      <td>1596632569999</td>\n",
       "    </tr>\n",
       "    <tr>\n",
       "      <th>137</th>\n",
       "      <td>climb_stairs</td>\n",
       "      <td>1596632574450</td>\n",
       "      <td>1596632577717</td>\n",
       "    </tr>\n",
       "    <tr>\n",
       "      <th>138</th>\n",
       "      <td>climb_stairs</td>\n",
       "      <td>1596632582391</td>\n",
       "      <td>1596632586079</td>\n",
       "    </tr>\n",
       "    <tr>\n",
       "      <th>139</th>\n",
       "      <td>climb_stairs</td>\n",
       "      <td>1596632590754</td>\n",
       "      <td>1596632593641</td>\n",
       "    </tr>\n",
       "    <tr>\n",
       "      <th>140</th>\n",
       "      <td>climb_stairs</td>\n",
       "      <td>1596632597984</td>\n",
       "      <td>1596632601185</td>\n",
       "    </tr>\n",
       "    <tr>\n",
       "      <th>141</th>\n",
       "      <td>climb_stairs</td>\n",
       "      <td>1596632605627</td>\n",
       "      <td>1596632608662</td>\n",
       "    </tr>\n",
       "    <tr>\n",
       "      <th>142</th>\n",
       "      <td>climb_stairs</td>\n",
       "      <td>1596632613092</td>\n",
       "      <td>1596632616235</td>\n",
       "    </tr>\n",
       "    <tr>\n",
       "      <th>143</th>\n",
       "      <td>climb_stairs</td>\n",
       "      <td>1596632620898</td>\n",
       "      <td>1596632623847</td>\n",
       "    </tr>\n",
       "    <tr>\n",
       "      <th>144</th>\n",
       "      <td>climb_stairs</td>\n",
       "      <td>1596632628552</td>\n",
       "      <td>1596632631498</td>\n",
       "    </tr>\n",
       "    <tr>\n",
       "      <th>145</th>\n",
       "      <td>climb_stairs</td>\n",
       "      <td>1596632636503</td>\n",
       "      <td>1596632639385</td>\n",
       "    </tr>\n",
       "    <tr>\n",
       "      <th>146</th>\n",
       "      <td>climb_stairs</td>\n",
       "      <td>1596632644093</td>\n",
       "      <td>1596632647350</td>\n",
       "    </tr>\n",
       "    <tr>\n",
       "      <th>147</th>\n",
       "      <td>climb_stairs</td>\n",
       "      <td>1596632651833</td>\n",
       "      <td>1596632654922</td>\n",
       "    </tr>\n",
       "    <tr>\n",
       "      <th>148</th>\n",
       "      <td>climb_stairs</td>\n",
       "      <td>1596632660050</td>\n",
       "      <td>1596632663131</td>\n",
       "    </tr>\n",
       "    <tr>\n",
       "      <th>149</th>\n",
       "      <td>down_stairs</td>\n",
       "      <td>1596632670653</td>\n",
       "      <td>1596632674407</td>\n",
       "    </tr>\n",
       "    <tr>\n",
       "      <th>150</th>\n",
       "      <td>down_stairs</td>\n",
       "      <td>1596632679891</td>\n",
       "      <td>1596632682812</td>\n",
       "    </tr>\n",
       "    <tr>\n",
       "      <th>151</th>\n",
       "      <td>down_stairs</td>\n",
       "      <td>1596632687620</td>\n",
       "      <td>1596632690787</td>\n",
       "    </tr>\n",
       "    <tr>\n",
       "      <th>152</th>\n",
       "      <td>down_stairs</td>\n",
       "      <td>1596632695554</td>\n",
       "      <td>1596632698177</td>\n",
       "    </tr>\n",
       "    <tr>\n",
       "      <th>153</th>\n",
       "      <td>down_stairs</td>\n",
       "      <td>1596632703511</td>\n",
       "      <td>1596632706062</td>\n",
       "    </tr>\n",
       "    <tr>\n",
       "      <th>154</th>\n",
       "      <td>down_stairs</td>\n",
       "      <td>1596632710643</td>\n",
       "      <td>1596632713264</td>\n",
       "    </tr>\n",
       "    <tr>\n",
       "      <th>155</th>\n",
       "      <td>down_stairs</td>\n",
       "      <td>1596632718206</td>\n",
       "      <td>1596632721354</td>\n",
       "    </tr>\n",
       "    <tr>\n",
       "      <th>156</th>\n",
       "      <td>down_stairs</td>\n",
       "      <td>1596632725640</td>\n",
       "      <td>1596632728797</td>\n",
       "    </tr>\n",
       "  </tbody>\n",
       "</table>\n",
       "<p>157 rows × 3 columns</p>\n",
       "</div>"
      ],
      "text/plain": [
       "        activitiy          start            end\n",
       "0     down_stairs  1596618985598  1596618989833\n",
       "1     down_stairs  1596618995255  1596618997833\n",
       "2     down_stairs  1596619066247  1596619069306\n",
       "3     down_stairs  1596619073407  1596619075856\n",
       "4     down_stairs  1596619079973  1596619082796\n",
       "5     down_stairs  1596619087171  1596619089546\n",
       "6     down_stairs  1596619093869  1596619096286\n",
       "7     down_stairs  1596619100704  1596619103493\n",
       "8     down_stairs  1596619108255  1596619110616\n",
       "9     down_stairs  1596619115194  1596619117830\n",
       "10    down_stairs  1596619121755  1596619125109\n",
       "11    down_stairs  1596619129955  1596619132675\n",
       "12    down_stairs  1596619136640  1596619139462\n",
       "13    down_stairs  1596619145136  1596619148111\n",
       "14    down_stairs  1596619153335  1596619155575\n",
       "15    down_stairs  1596619159764  1596619162551\n",
       "16    down_stairs  1596619167346  1596619170703\n",
       "17    down_stairs  1596619175487  1596619178353\n",
       "18   climb_stairs  1596620308708  1596620311059\n",
       "19   climb_stairs  1596620362117  1596620365730\n",
       "20   climb_stairs  1596620369895  1596620372621\n",
       "21   climb_stairs  1596620376593  1596620379950\n",
       "22   climb_stairs  1596620383917  1596620387438\n",
       "23   climb_stairs  1596620391201  1596620394550\n",
       "24   climb_stairs  1596620398515  1596620401908\n",
       "25   climb_stairs  1596620405829  1596620408895\n",
       "26   climb_stairs  1596620413359  1596620416171\n",
       "27   climb_stairs  1596620416568  1596620417338\n",
       "28   climb_stairs  1596620420535  1596620423718\n",
       "29   climb_stairs  1596620427704  1596620430838\n",
       "..            ...            ...            ...\n",
       "127  climb_stairs  1596632496559  1596632499868\n",
       "128  climb_stairs  1596632504654  1596632507851\n",
       "129  climb_stairs  1596632512630  1596632515663\n",
       "130  climb_stairs  1596632520303  1596632523722\n",
       "131  climb_stairs  1596632528345  1596632531624\n",
       "132  climb_stairs  1596632536348  1596632539583\n",
       "133  climb_stairs  1596632544075  1596632547338\n",
       "134  climb_stairs  1596632552110  1596632554813\n",
       "135  climb_stairs  1596632559407  1596632562448\n",
       "136  climb_stairs  1596632567054  1596632569999\n",
       "137  climb_stairs  1596632574450  1596632577717\n",
       "138  climb_stairs  1596632582391  1596632586079\n",
       "139  climb_stairs  1596632590754  1596632593641\n",
       "140  climb_stairs  1596632597984  1596632601185\n",
       "141  climb_stairs  1596632605627  1596632608662\n",
       "142  climb_stairs  1596632613092  1596632616235\n",
       "143  climb_stairs  1596632620898  1596632623847\n",
       "144  climb_stairs  1596632628552  1596632631498\n",
       "145  climb_stairs  1596632636503  1596632639385\n",
       "146  climb_stairs  1596632644093  1596632647350\n",
       "147  climb_stairs  1596632651833  1596632654922\n",
       "148  climb_stairs  1596632660050  1596632663131\n",
       "149   down_stairs  1596632670653  1596632674407\n",
       "150   down_stairs  1596632679891  1596632682812\n",
       "151   down_stairs  1596632687620  1596632690787\n",
       "152   down_stairs  1596632695554  1596632698177\n",
       "153   down_stairs  1596632703511  1596632706062\n",
       "154   down_stairs  1596632710643  1596632713264\n",
       "155   down_stairs  1596632718206  1596632721354\n",
       "156   down_stairs  1596632725640  1596632728797\n",
       "\n",
       "[157 rows x 3 columns]"
      ]
     },
     "execution_count": 29,
     "metadata": {},
     "output_type": "execute_result"
    }
   ],
   "source": [
    "an_df_clean"
   ]
  },
  {
   "cell_type": "code",
   "execution_count": 23,
   "metadata": {
    "ExecuteTime": {
     "end_time": "2020-12-02T00:47:38.912469Z",
     "start_time": "2020-12-02T00:47:38.715196Z"
    },
    "hidden": true
   },
   "outputs": [],
   "source": [
    "an_df_clean[\"interval_2s_bin\"] = an_df_clean[\"end\"]//200000"
   ]
  },
  {
   "cell_type": "code",
   "execution_count": 24,
   "metadata": {
    "ExecuteTime": {
     "end_time": "2020-12-02T00:47:40.234549Z",
     "start_time": "2020-12-02T00:47:40.187079Z"
    },
    "hidden": true
   },
   "outputs": [],
   "source": [
    "an_df_clean = an_df_clean.drop([\"start\",\"end\"],axis = 1)"
   ]
  },
  {
   "cell_type": "code",
   "execution_count": 25,
   "metadata": {
    "ExecuteTime": {
     "end_time": "2020-12-02T00:47:40.855978Z",
     "start_time": "2020-12-02T00:47:40.677625Z"
    },
    "hidden": true
   },
   "outputs": [],
   "source": [
    "an_df_clean = an_df_clean.groupby(['interval_2s_bin']).agg(lambda x:x.value_counts().index[0])"
   ]
  },
  {
   "cell_type": "code",
   "execution_count": 26,
   "metadata": {
    "ExecuteTime": {
     "end_time": "2020-12-02T00:47:41.350272Z",
     "start_time": "2020-12-02T00:47:41.338792Z"
    },
    "hidden": true,
    "scrolled": false
   },
   "outputs": [
    {
     "data": {
      "text/html": [
       "<div>\n",
       "<style scoped>\n",
       "    .dataframe tbody tr th:only-of-type {\n",
       "        vertical-align: middle;\n",
       "    }\n",
       "\n",
       "    .dataframe tbody tr th {\n",
       "        vertical-align: top;\n",
       "    }\n",
       "\n",
       "    .dataframe thead th {\n",
       "        text-align: right;\n",
       "    }\n",
       "</style>\n",
       "<table border=\"1\" class=\"dataframe\">\n",
       "  <thead>\n",
       "    <tr style=\"text-align: right;\">\n",
       "      <th></th>\n",
       "      <th>activitiy</th>\n",
       "    </tr>\n",
       "    <tr>\n",
       "      <th>interval_2s_bin</th>\n",
       "      <th></th>\n",
       "    </tr>\n",
       "  </thead>\n",
       "  <tbody>\n",
       "    <tr>\n",
       "      <th>7983094</th>\n",
       "      <td>down_stairs</td>\n",
       "    </tr>\n",
       "    <tr>\n",
       "      <th>7983095</th>\n",
       "      <td>down_stairs</td>\n",
       "    </tr>\n",
       "    <tr>\n",
       "      <th>7983101</th>\n",
       "      <td>climb_stairs</td>\n",
       "    </tr>\n",
       "    <tr>\n",
       "      <th>7983102</th>\n",
       "      <td>climb_stairs</td>\n",
       "    </tr>\n",
       "    <tr>\n",
       "      <th>7983158</th>\n",
       "      <td>down_stairs</td>\n",
       "    </tr>\n",
       "  </tbody>\n",
       "</table>\n",
       "</div>"
      ],
      "text/plain": [
       "                    activitiy\n",
       "interval_2s_bin              \n",
       "7983094           down_stairs\n",
       "7983095           down_stairs\n",
       "7983101          climb_stairs\n",
       "7983102          climb_stairs\n",
       "7983158           down_stairs"
      ]
     },
     "execution_count": 26,
     "metadata": {},
     "output_type": "execute_result"
    }
   ],
   "source": [
    "an_df_clean.head()"
   ]
  },
  {
   "cell_type": "markdown",
   "metadata": {
    "heading_collapsed": true
   },
   "source": [
    "### Prepare Sensor dataframe"
   ]
  },
  {
   "cell_type": "code",
   "execution_count": null,
   "metadata": {
    "ExecuteTime": {
     "end_time": "2020-12-01T14:41:15.365349Z",
     "start_time": "2020-12-01T14:41:15.269390Z"
    },
    "hidden": true
   },
   "outputs": [],
   "source": [
    "sensor_csvpath = \"../raw_data/sample/sensors.csv\"\n",
    "sen_csv = pd.read_csv(sensor_csvpath)\n",
    "sen_csv[\"real_filename\"] = sen_csv[\"filename\"].apply(sen_filename)\n",
    "sen_csv.head()"
   ]
  },
  {
   "cell_type": "code",
   "execution_count": null,
   "metadata": {
    "ExecuteTime": {
     "end_time": "2020-12-01T14:51:34.998172Z",
     "start_time": "2020-12-01T14:51:34.995754Z"
    },
    "hidden": true
   },
   "outputs": [],
   "source": [
    "sen_path_base = \"../raw_data/sample/sens/\""
   ]
  },
  {
   "cell_type": "code",
   "execution_count": null,
   "metadata": {
    "ExecuteTime": {
     "end_time": "2020-12-01T15:18:26.379318Z",
     "start_time": "2020-12-01T15:18:26.375339Z"
    },
    "hidden": true
   },
   "outputs": [],
   "source": [
    "sample_path = sen_path_base + sen_csv[\"real_filename\"][4];sample_path"
   ]
  },
  {
   "cell_type": "code",
   "execution_count": null,
   "metadata": {
    "ExecuteTime": {
     "end_time": "2020-12-01T15:18:27.049520Z",
     "start_time": "2020-12-01T15:18:27.004698Z"
    },
    "hidden": true,
    "scrolled": true
   },
   "outputs": [],
   "source": [
    "sen_json = pd.read_json(sample_path)\n",
    "sen_json.head()"
   ]
  },
  {
   "cell_type": "code",
   "execution_count": null,
   "metadata": {
    "ExecuteTime": {
     "end_time": "2020-12-01T15:18:27.909649Z",
     "start_time": "2020-12-01T15:18:27.905101Z"
    },
    "hidden": true
   },
   "outputs": [],
   "source": [
    "sen_acc = np.array(sen_json.dt[\"a\"])\n",
    "acc_df = pd.DataFrame(sen_acc, columns=[\"time_stamp\", \"sensor_time_stamp\",\"X\",\"Y\",\"Z\"])"
   ]
  },
  {
   "cell_type": "code",
   "execution_count": null,
   "metadata": {
    "ExecuteTime": {
     "end_time": "2020-12-01T15:18:28.921414Z",
     "start_time": "2020-12-01T15:18:28.917563Z"
    },
    "hidden": true
   },
   "outputs": [],
   "source": [
    "acc_df[\"interval_2s_bin\"] = acc_df[\"time_stamp\"].astype(int)//200000"
   ]
  },
  {
   "cell_type": "code",
   "execution_count": null,
   "metadata": {
    "ExecuteTime": {
     "end_time": "2020-12-01T15:18:29.370311Z",
     "start_time": "2020-12-01T15:18:29.366962Z"
    },
    "hidden": true
   },
   "outputs": [],
   "source": [
    "acc_df.set_index(\"interval_2s_bin\", inplace=True)"
   ]
  },
  {
   "cell_type": "code",
   "execution_count": null,
   "metadata": {
    "ExecuteTime": {
     "end_time": "2020-12-01T15:18:30.012932Z",
     "start_time": "2020-12-01T15:18:30.009278Z"
    },
    "hidden": true
   },
   "outputs": [],
   "source": [
    "acc_df.drop([\"time_stamp\",\"sensor_time_stamp\"],axis = 1, inplace=True)"
   ]
  },
  {
   "cell_type": "code",
   "execution_count": null,
   "metadata": {
    "ExecuteTime": {
     "end_time": "2020-12-01T15:18:31.636706Z",
     "start_time": "2020-12-01T15:18:31.628775Z"
    },
    "hidden": true,
    "scrolled": false
   },
   "outputs": [],
   "source": [
    "acc_df.head()"
   ]
  },
  {
   "cell_type": "code",
   "execution_count": null,
   "metadata": {
    "ExecuteTime": {
     "end_time": "2020-12-01T15:20:53.576140Z",
     "start_time": "2020-12-01T15:20:53.568816Z"
    },
    "hidden": true
   },
   "outputs": [],
   "source": [
    "all_jason_df = pd.DataFrame(columns=[\"time_stamp\",\"sensor_time_stamp\",\"X\",\"Y\",\"Z\"])"
   ]
  },
  {
   "cell_type": "code",
   "execution_count": null,
   "metadata": {
    "ExecuteTime": {
     "end_time": "2020-12-01T15:20:54.022741Z",
     "start_time": "2020-12-01T15:20:53.613153Z"
    },
    "hidden": true
   },
   "outputs": [],
   "source": [
    "all_jason_df"
   ]
  },
  {
   "cell_type": "code",
   "execution_count": null,
   "metadata": {
    "ExecuteTime": {
     "end_time": "2020-12-01T15:21:40.266364Z",
     "start_time": "2020-12-01T15:20:54.955852Z"
    },
    "hidden": true
   },
   "outputs": [],
   "source": [
    "# 0 has 0 values\n",
    "for sen_jsonpath in sen_csv[\"real_filename\"][1:]:\n",
    "    sensor_path = sen_path_base + sen_jsonpath\n",
    "    sen_json = pd.read_json(sensor_path)\n",
    "    if sen_json.dt[\"a\"] == []:\n",
    "        continue\n",
    "    sen_acc = np.array(sen_json.dt[\"a\"])\n",
    "    acc_df = pd.DataFrame(sen_acc, columns=[\"time_stamp\", \"sensor_time_stamp\",\"X\",\"Y\",\"Z\"])\n",
    "    all_jason_df = pd.concat([all_jason_df,acc_df])"
   ]
  },
  {
   "cell_type": "code",
   "execution_count": null,
   "metadata": {
    "ExecuteTime": {
     "end_time": "2020-12-01T15:21:47.379160Z",
     "start_time": "2020-12-01T15:21:47.370405Z"
    },
    "hidden": true
   },
   "outputs": [],
   "source": [
    "all_jason_df[\"interval_2s_bin\"] = all_jason_df[\"time_stamp\"].astype(int)//200000"
   ]
  },
  {
   "cell_type": "code",
   "execution_count": null,
   "metadata": {
    "ExecuteTime": {
     "end_time": "2020-12-01T15:21:48.273756Z",
     "start_time": "2020-12-01T15:21:48.270101Z"
    },
    "hidden": true
   },
   "outputs": [],
   "source": [
    "all_jason_df.shape"
   ]
  },
  {
   "cell_type": "code",
   "execution_count": null,
   "metadata": {
    "ExecuteTime": {
     "end_time": "2020-12-01T15:21:48.878433Z",
     "start_time": "2020-12-01T15:21:48.866299Z"
    },
    "hidden": true,
    "scrolled": true
   },
   "outputs": [],
   "source": [
    "all_jason_df.head(10)"
   ]
  },
  {
   "cell_type": "code",
   "execution_count": null,
   "metadata": {
    "ExecuteTime": {
     "end_time": "2020-12-01T15:21:51.161900Z",
     "start_time": "2020-12-01T15:21:51.150042Z"
    },
    "hidden": true
   },
   "outputs": [],
   "source": [
    "all_jason_df.tail(10)"
   ]
  },
  {
   "cell_type": "code",
   "execution_count": null,
   "metadata": {
    "ExecuteTime": {
     "end_time": "2020-12-01T15:23:00.253868Z",
     "start_time": "2020-12-01T15:23:00.248447Z"
    },
    "hidden": true
   },
   "outputs": [],
   "source": [
    "all_jason_df[\"interval_2s_bin\"].unique() # Sensor"
   ]
  },
  {
   "cell_type": "code",
   "execution_count": null,
   "metadata": {
    "ExecuteTime": {
     "end_time": "2020-12-01T15:04:10.031933Z",
     "start_time": "2020-12-01T15:04:10.027723Z"
    },
    "hidden": true
   },
   "outputs": [],
   "source": [
    "an_df_clean.index #annotation"
   ]
  },
  {
   "cell_type": "code",
   "execution_count": null,
   "metadata": {
    "ExecuteTime": {
     "end_time": "2020-12-01T15:04:24.454220Z",
     "start_time": "2020-12-01T15:04:24.450338Z"
    },
    "hidden": true
   },
   "outputs": [],
   "source": [
    "7983094 in an_df_clean.index"
   ]
  },
  {
   "cell_type": "code",
   "execution_count": null,
   "metadata": {
    "ExecuteTime": {
     "end_time": "2020-12-01T15:22:13.613778Z",
     "start_time": "2020-12-01T15:22:13.605053Z"
    },
    "hidden": true
   },
   "outputs": [],
   "source": [
    "final_df = all_jason_df.copy()"
   ]
  },
  {
   "cell_type": "code",
   "execution_count": null,
   "metadata": {
    "ExecuteTime": {
     "end_time": "2020-12-01T15:06:58.775610Z",
     "start_time": "2020-12-01T15:06:58.450997Z"
    },
    "hidden": true
   },
   "outputs": [],
   "source": [
    "final_df[\"in_bin\"] = final_df[\"interval_2s_bin\"].apply(lambda x : x in an_df_clean.index)"
   ]
  },
  {
   "cell_type": "code",
   "execution_count": null,
   "metadata": {
    "ExecuteTime": {
     "end_time": "2020-12-01T15:07:42.307141Z",
     "start_time": "2020-12-01T15:07:42.281854Z"
    },
    "hidden": true
   },
   "outputs": [],
   "source": [
    "final_df[\"interval_2s_bin\"].unique()"
   ]
  },
  {
   "cell_type": "markdown",
   "metadata": {},
   "source": [
    "### Q and A\n",
    "\n",
    "\n",
    "- The special requirement : Wed 12/2\n",
    "- How to upload model OwO : Wed 12/2"
   ]
  },
  {
   "cell_type": "markdown",
   "metadata": {},
   "source": [
    "- Function for clean the data (sensor) / check if the Null / focus on ACC for now >> Ready to merge\n",
    "\n",
    "- Function to Create a Activity , Start , End (2s) >> Ready to merge\n",
    "\n",
    "- Function for merging dataframe (an and sen)\n",
    "\n",
    "- Function for reading all the data and apply the above function\n"
   ]
  },
  {
   "cell_type": "markdown",
   "metadata": {},
   "source": [
    "- Supervise learning >>> label has to be accurate\n",
    "- Sensor assign to one label\n",
    "\n",
    "- "
   ]
  }
 ],
 "metadata": {
  "kernelspec": {
   "display_name": "Python 3",
   "language": "python",
   "name": "python3"
  },
  "language_info": {
   "codemirror_mode": {
    "name": "ipython",
    "version": 3
   },
   "file_extension": ".py",
   "mimetype": "text/x-python",
   "name": "python",
   "nbconvert_exporter": "python",
   "pygments_lexer": "ipython3",
   "version": "3.7.7"
  },
  "toc": {
   "base_numbering": 1,
   "nav_menu": {},
   "number_sections": true,
   "sideBar": true,
   "skip_h1_title": false,
   "title_cell": "Table of Contents",
   "title_sidebar": "Contents",
   "toc_cell": false,
   "toc_position": {},
   "toc_section_display": true,
   "toc_window_display": false
  },
  "varInspector": {
   "cols": {
    "lenName": 16,
    "lenType": 16,
    "lenVar": 40
   },
   "kernels_config": {
    "python": {
     "delete_cmd_postfix": "",
     "delete_cmd_prefix": "del ",
     "library": "var_list.py",
     "varRefreshCmd": "print(var_dic_list())"
    },
    "r": {
     "delete_cmd_postfix": ") ",
     "delete_cmd_prefix": "rm(",
     "library": "var_list.r",
     "varRefreshCmd": "cat(var_dic_list()) "
    }
   },
   "types_to_exclude": [
    "module",
    "function",
    "builtin_function_or_method",
    "instance",
    "_Feature"
   ],
   "window_display": false
  }
 },
 "nbformat": 4,
 "nbformat_minor": 4
}
