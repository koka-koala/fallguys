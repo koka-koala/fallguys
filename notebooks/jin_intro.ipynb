{
 "cells": [
  {
   "cell_type": "code",
   "execution_count": 1,
   "metadata": {
    "ExecuteTime": {
     "end_time": "2020-11-30T08:02:07.697231Z",
     "start_time": "2020-11-30T08:02:06.698231Z"
    }
   },
   "outputs": [],
   "source": [
    "import pandas as pd\n",
    "import numpy as np"
   ]
  },
  {
   "cell_type": "markdown",
   "metadata": {},
   "source": [
    "Short explanations about the data.\n",
    "There are 2 types of json files,\n",
    "* 1 starting with \"a_....\" which contains the type of activity and it's timestamp (amount of microseconds since 1st January 1970)\n",
    "* 1 starting with \"s_....\" which contains the sensors data\n",
    "I made a diagram. And I also share with you a sample data of a \"a_\" file and a \"s_\" one."
   ]
  },
  {
   "cell_type": "code",
   "execution_count": 2,
   "metadata": {
    "ExecuteTime": {
     "end_time": "2020-11-30T08:02:07.718147Z",
     "start_time": "2020-11-30T08:02:07.715904Z"
    }
   },
   "outputs": [],
   "source": [
    "sensor_csvpath = \"../raw_data/sensors.csv\"\n",
    "anno_csvpath = \"../raw_data/annotations.csv\""
   ]
  },
  {
   "cell_type": "code",
   "execution_count": 3,
   "metadata": {
    "ExecuteTime": {
     "end_time": "2020-11-30T08:02:09.508639Z",
     "start_time": "2020-11-30T08:02:09.412722Z"
    }
   },
   "outputs": [
    {
     "data": {
      "text/html": [
       "<div>\n",
       "<style scoped>\n",
       "    .dataframe tbody tr th:only-of-type {\n",
       "        vertical-align: middle;\n",
       "    }\n",
       "\n",
       "    .dataframe tbody tr th {\n",
       "        vertical-align: top;\n",
       "    }\n",
       "\n",
       "    .dataframe thead th {\n",
       "        text-align: right;\n",
       "    }\n",
       "</style>\n",
       "<table border=\"1\" class=\"dataframe\">\n",
       "  <thead>\n",
       "    <tr style=\"text-align: right;\">\n",
       "      <th></th>\n",
       "      <th>time</th>\n",
       "      <th>filename</th>\n",
       "    </tr>\n",
       "  </thead>\n",
       "  <tbody>\n",
       "    <tr>\n",
       "      <th>0</th>\n",
       "      <td>2020-08-05 22:21:03</td>\n",
       "      <td>data/raw/2020-08-05-asa/a_2020-08-05-W6Ex5DZKn...</td>\n",
       "    </tr>\n",
       "  </tbody>\n",
       "</table>\n",
       "</div>"
      ],
      "text/plain": [
       "                  time                                           filename\n",
       "0  2020-08-05 22:21:03  data/raw/2020-08-05-asa/a_2020-08-05-W6Ex5DZKn..."
      ]
     },
     "execution_count": 3,
     "metadata": {},
     "output_type": "execute_result"
    }
   ],
   "source": [
    "an_csv = pd.read_csv(anno_csvpath)\n",
    "an_csv"
   ]
  },
  {
   "cell_type": "code",
   "execution_count": 4,
   "metadata": {
    "ExecuteTime": {
     "end_time": "2020-11-30T08:02:13.600698Z",
     "start_time": "2020-11-30T08:02:13.598073Z"
    }
   },
   "outputs": [],
   "source": [
    "def an_filename(name):\n",
    "    '''Get the real file name not the path from csv file'''\n",
    "    filename = \"a_\" + name.split(\"a_\")[1]\n",
    "    return filename"
   ]
  },
  {
   "cell_type": "code",
   "execution_count": 5,
   "metadata": {
    "ExecuteTime": {
     "end_time": "2020-11-30T08:02:14.074055Z",
     "start_time": "2020-11-30T08:02:14.070441Z"
    }
   },
   "outputs": [],
   "source": [
    "an_csv[\"real_filename\"] = an_csv[\"filename\"].apply(an_filename)"
   ]
  },
  {
   "cell_type": "code",
   "execution_count": 6,
   "metadata": {
    "ExecuteTime": {
     "end_time": "2020-11-30T08:02:18.175295Z",
     "start_time": "2020-11-30T08:02:18.168010Z"
    }
   },
   "outputs": [
    {
     "data": {
      "text/html": [
       "<div>\n",
       "<style scoped>\n",
       "    .dataframe tbody tr th:only-of-type {\n",
       "        vertical-align: middle;\n",
       "    }\n",
       "\n",
       "    .dataframe tbody tr th {\n",
       "        vertical-align: top;\n",
       "    }\n",
       "\n",
       "    .dataframe thead th {\n",
       "        text-align: right;\n",
       "    }\n",
       "</style>\n",
       "<table border=\"1\" class=\"dataframe\">\n",
       "  <thead>\n",
       "    <tr style=\"text-align: right;\">\n",
       "      <th></th>\n",
       "      <th>time</th>\n",
       "      <th>filename</th>\n",
       "      <th>real_filename</th>\n",
       "    </tr>\n",
       "  </thead>\n",
       "  <tbody>\n",
       "    <tr>\n",
       "      <th>0</th>\n",
       "      <td>2020-08-05 22:21:03</td>\n",
       "      <td>data/raw/2020-08-05-asa/a_2020-08-05-W6Ex5DZKn...</td>\n",
       "      <td>a_2020-08-05-W6Ex5DZKnuMe8eiFIsbSutgVLV72.json</td>\n",
       "    </tr>\n",
       "  </tbody>\n",
       "</table>\n",
       "</div>"
      ],
      "text/plain": [
       "                  time                                           filename  \\\n",
       "0  2020-08-05 22:21:03  data/raw/2020-08-05-asa/a_2020-08-05-W6Ex5DZKn...   \n",
       "\n",
       "                                    real_filename  \n",
       "0  a_2020-08-05-W6Ex5DZKnuMe8eiFIsbSutgVLV72.json  "
      ]
     },
     "execution_count": 6,
     "metadata": {},
     "output_type": "execute_result"
    }
   ],
   "source": [
    "an_csv"
   ]
  },
  {
   "cell_type": "code",
   "execution_count": 8,
   "metadata": {
    "ExecuteTime": {
     "end_time": "2020-11-30T08:03:20.047283Z",
     "start_time": "2020-11-30T08:03:20.044054Z"
    }
   },
   "outputs": [],
   "source": [
    "def sen_filename(name):\n",
    "    '''Get the real file name not the path from csv file'''\n",
    "    filename = \"s_\" + name.split(\"s_\")[1]\n",
    "    return filename"
   ]
  },
  {
   "cell_type": "code",
   "execution_count": 9,
   "metadata": {
    "ExecuteTime": {
     "end_time": "2020-11-30T08:03:20.257437Z",
     "start_time": "2020-11-30T08:03:20.243993Z"
    }
   },
   "outputs": [
    {
     "data": {
      "text/html": [
       "<div>\n",
       "<style scoped>\n",
       "    .dataframe tbody tr th:only-of-type {\n",
       "        vertical-align: middle;\n",
       "    }\n",
       "\n",
       "    .dataframe tbody tr th {\n",
       "        vertical-align: top;\n",
       "    }\n",
       "\n",
       "    .dataframe thead th {\n",
       "        text-align: right;\n",
       "    }\n",
       "</style>\n",
       "<table border=\"1\" class=\"dataframe\">\n",
       "  <thead>\n",
       "    <tr style=\"text-align: right;\">\n",
       "      <th></th>\n",
       "      <th>time</th>\n",
       "      <th>filename</th>\n",
       "      <th>real_filename</th>\n",
       "    </tr>\n",
       "  </thead>\n",
       "  <tbody>\n",
       "    <tr>\n",
       "      <th>0</th>\n",
       "      <td>2020-08-05 22:21:01</td>\n",
       "      <td>data/raw/2020-08-05-asa/s_2020-08-05-159661889...</td>\n",
       "      <td>s_2020-08-05-1596618899641-ASUS_X013DB-W6Ex5DZ...</td>\n",
       "    </tr>\n",
       "    <tr>\n",
       "      <th>1</th>\n",
       "      <td>2020-08-05 22:21:01</td>\n",
       "      <td>data/raw/2020-08-05-asa/s_2020-08-05-159661890...</td>\n",
       "      <td>s_2020-08-05-1596618902316-SHV40-W6Ex5DZKnuMe8...</td>\n",
       "    </tr>\n",
       "    <tr>\n",
       "      <th>2</th>\n",
       "      <td>2020-08-05 22:21:01</td>\n",
       "      <td>data/raw/2020-08-05-asa/s_2020-08-05-159661890...</td>\n",
       "      <td>s_2020-08-05-1596618909689-ASUS_X013DB-W6Ex5DZ...</td>\n",
       "    </tr>\n",
       "    <tr>\n",
       "      <th>3</th>\n",
       "      <td>2020-08-05 22:21:01</td>\n",
       "      <td>data/raw/2020-08-05-asa/s_2020-08-05-159661891...</td>\n",
       "      <td>s_2020-08-05-1596618912434-SHV40-W6Ex5DZKnuMe8...</td>\n",
       "    </tr>\n",
       "    <tr>\n",
       "      <th>4</th>\n",
       "      <td>2020-08-05 22:21:01</td>\n",
       "      <td>data/raw/2020-08-05-asa/s_2020-08-05-159661891...</td>\n",
       "      <td>s_2020-08-05-1596618919758-ASUS_X013DB-W6Ex5DZ...</td>\n",
       "    </tr>\n",
       "  </tbody>\n",
       "</table>\n",
       "</div>"
      ],
      "text/plain": [
       "                  time                                           filename  \\\n",
       "0  2020-08-05 22:21:01  data/raw/2020-08-05-asa/s_2020-08-05-159661889...   \n",
       "1  2020-08-05 22:21:01  data/raw/2020-08-05-asa/s_2020-08-05-159661890...   \n",
       "2  2020-08-05 22:21:01  data/raw/2020-08-05-asa/s_2020-08-05-159661890...   \n",
       "3  2020-08-05 22:21:01  data/raw/2020-08-05-asa/s_2020-08-05-159661891...   \n",
       "4  2020-08-05 22:21:01  data/raw/2020-08-05-asa/s_2020-08-05-159661891...   \n",
       "\n",
       "                                       real_filename  \n",
       "0  s_2020-08-05-1596618899641-ASUS_X013DB-W6Ex5DZ...  \n",
       "1  s_2020-08-05-1596618902316-SHV40-W6Ex5DZKnuMe8...  \n",
       "2  s_2020-08-05-1596618909689-ASUS_X013DB-W6Ex5DZ...  \n",
       "3  s_2020-08-05-1596618912434-SHV40-W6Ex5DZKnuMe8...  \n",
       "4  s_2020-08-05-1596618919758-ASUS_X013DB-W6Ex5DZ...  "
      ]
     },
     "execution_count": 9,
     "metadata": {},
     "output_type": "execute_result"
    }
   ],
   "source": [
    "sen_csv = pd.read_csv(sensor_csvpath)\n",
    "sen_csv[\"real_filename\"] = sen_csv[\"filename\"].apply(sen_filename)\n",
    "sen_csv.head()"
   ]
  },
  {
   "cell_type": "code",
   "execution_count": null,
   "metadata": {},
   "outputs": [],
   "source": []
  },
  {
   "cell_type": "code",
   "execution_count": 18,
   "metadata": {
    "ExecuteTime": {
     "end_time": "2020-11-30T08:08:05.707714Z",
     "start_time": "2020-11-30T08:08:05.704820Z"
    }
   },
   "outputs": [],
   "source": [
    "def key(X):\n",
    "    key, value = list(X.items())[0]\n",
    "    return key.strip(\"()\")"
   ]
  },
  {
   "cell_type": "code",
   "execution_count": 19,
   "metadata": {
    "ExecuteTime": {
     "end_time": "2020-11-30T08:08:06.424047Z",
     "start_time": "2020-11-30T08:08:06.412154Z"
    }
   },
   "outputs": [],
   "source": [
    "anno_jsonpath = \"../raw_data/annot/a_2020-08-05-W6Ex5DZKnuMe8eiFIsbSutgVLV72.json\"\n",
    "an_json = pd.read_json(anno_jsonpath)\n",
    "an_json[\"activities\"] = an_json[\"dt\"].apply(key)"
   ]
  },
  {
   "cell_type": "code",
   "execution_count": 20,
   "metadata": {
    "ExecuteTime": {
     "end_time": "2020-11-30T08:08:07.123109Z",
     "start_time": "2020-11-30T08:08:07.109056Z"
    }
   },
   "outputs": [
    {
     "data": {
      "text/html": [
       "<div>\n",
       "<style scoped>\n",
       "    .dataframe tbody tr th:only-of-type {\n",
       "        vertical-align: middle;\n",
       "    }\n",
       "\n",
       "    .dataframe tbody tr th {\n",
       "        vertical-align: top;\n",
       "    }\n",
       "\n",
       "    .dataframe thead th {\n",
       "        text-align: right;\n",
       "    }\n",
       "</style>\n",
       "<table border=\"1\" class=\"dataframe\">\n",
       "  <thead>\n",
       "    <tr style=\"text-align: right;\">\n",
       "      <th></th>\n",
       "      <th>dt</th>\n",
       "      <th>os</th>\n",
       "      <th>p</th>\n",
       "      <th>pf</th>\n",
       "      <th>uid</th>\n",
       "      <th>v</th>\n",
       "      <th>activities</th>\n",
       "    </tr>\n",
       "  </thead>\n",
       "  <tbody>\n",
       "    <tr>\n",
       "      <th>0</th>\n",
       "      <td>{'down_stairs': [{'Begin': 1596618985598}]}</td>\n",
       "      <td>26</td>\n",
       "      <td>SHV40</td>\n",
       "      <td>1</td>\n",
       "      <td>W6Ex5DZKnuMe8eiFIsbSutgVLV72</td>\n",
       "      <td>1</td>\n",
       "      <td>down_stairs</td>\n",
       "    </tr>\n",
       "    <tr>\n",
       "      <th>1</th>\n",
       "      <td>{'down_stairs': [{'End': 1596618989833}]}</td>\n",
       "      <td>26</td>\n",
       "      <td>SHV40</td>\n",
       "      <td>1</td>\n",
       "      <td>W6Ex5DZKnuMe8eiFIsbSutgVLV72</td>\n",
       "      <td>1</td>\n",
       "      <td>down_stairs</td>\n",
       "    </tr>\n",
       "    <tr>\n",
       "      <th>2</th>\n",
       "      <td>{'down_stairs': [{'Begin': 1596618995255}]}</td>\n",
       "      <td>26</td>\n",
       "      <td>SHV40</td>\n",
       "      <td>1</td>\n",
       "      <td>W6Ex5DZKnuMe8eiFIsbSutgVLV72</td>\n",
       "      <td>1</td>\n",
       "      <td>down_stairs</td>\n",
       "    </tr>\n",
       "    <tr>\n",
       "      <th>3</th>\n",
       "      <td>{'down_stairs': [{'End': 1596618997833}]}</td>\n",
       "      <td>26</td>\n",
       "      <td>SHV40</td>\n",
       "      <td>1</td>\n",
       "      <td>W6Ex5DZKnuMe8eiFIsbSutgVLV72</td>\n",
       "      <td>1</td>\n",
       "      <td>down_stairs</td>\n",
       "    </tr>\n",
       "    <tr>\n",
       "      <th>4</th>\n",
       "      <td>{'down_stairs': [{'Begin': 1596619066247}]}</td>\n",
       "      <td>26</td>\n",
       "      <td>SHV40</td>\n",
       "      <td>1</td>\n",
       "      <td>W6Ex5DZKnuMe8eiFIsbSutgVLV72</td>\n",
       "      <td>1</td>\n",
       "      <td>down_stairs</td>\n",
       "    </tr>\n",
       "  </tbody>\n",
       "</table>\n",
       "</div>"
      ],
      "text/plain": [
       "                                            dt  os      p  pf  \\\n",
       "0  {'down_stairs': [{'Begin': 1596618985598}]}  26  SHV40   1   \n",
       "1    {'down_stairs': [{'End': 1596618989833}]}  26  SHV40   1   \n",
       "2  {'down_stairs': [{'Begin': 1596618995255}]}  26  SHV40   1   \n",
       "3    {'down_stairs': [{'End': 1596618997833}]}  26  SHV40   1   \n",
       "4  {'down_stairs': [{'Begin': 1596619066247}]}  26  SHV40   1   \n",
       "\n",
       "                            uid  v   activities  \n",
       "0  W6Ex5DZKnuMe8eiFIsbSutgVLV72  1  down_stairs  \n",
       "1  W6Ex5DZKnuMe8eiFIsbSutgVLV72  1  down_stairs  \n",
       "2  W6Ex5DZKnuMe8eiFIsbSutgVLV72  1  down_stairs  \n",
       "3  W6Ex5DZKnuMe8eiFIsbSutgVLV72  1  down_stairs  \n",
       "4  W6Ex5DZKnuMe8eiFIsbSutgVLV72  1  down_stairs  "
      ]
     },
     "execution_count": 20,
     "metadata": {},
     "output_type": "execute_result"
    }
   ],
   "source": [
    "an_json.head()"
   ]
  },
  {
   "cell_type": "code",
   "execution_count": 21,
   "metadata": {
    "ExecuteTime": {
     "end_time": "2020-11-30T08:08:33.580963Z",
     "start_time": "2020-11-30T08:08:33.495968Z"
    }
   },
   "outputs": [
    {
     "data": {
      "text/html": [
       "<div>\n",
       "<style scoped>\n",
       "    .dataframe tbody tr th:only-of-type {\n",
       "        vertical-align: middle;\n",
       "    }\n",
       "\n",
       "    .dataframe tbody tr th {\n",
       "        vertical-align: top;\n",
       "    }\n",
       "\n",
       "    .dataframe thead th {\n",
       "        text-align: right;\n",
       "    }\n",
       "</style>\n",
       "<table border=\"1\" class=\"dataframe\">\n",
       "  <thead>\n",
       "    <tr style=\"text-align: right;\">\n",
       "      <th></th>\n",
       "      <th>dt</th>\n",
       "      <th>os</th>\n",
       "      <th>pm</th>\n",
       "      <th>p</th>\n",
       "      <th>uid</th>\n",
       "      <th>v</th>\n",
       "    </tr>\n",
       "  </thead>\n",
       "  <tbody>\n",
       "    <tr>\n",
       "      <th>a</th>\n",
       "      <td>[[1596618912439.9998, 864412474877.0, 1.177947...</td>\n",
       "      <td>26</td>\n",
       "      <td>SHV40</td>\n",
       "      <td>0</td>\n",
       "      <td>W6Ex5DZKnuMe8eiFIsbSutgVLV72</td>\n",
       "      <td>1</td>\n",
       "    </tr>\n",
       "    <tr>\n",
       "      <th>g</th>\n",
       "      <td>[[1596618912441.0, 864413379825.0, 0.021991148...</td>\n",
       "      <td>26</td>\n",
       "      <td>SHV40</td>\n",
       "      <td>0</td>\n",
       "      <td>W6Ex5DZKnuMe8eiFIsbSutgVLV72</td>\n",
       "      <td>1</td>\n",
       "    </tr>\n",
       "    <tr>\n",
       "      <th>p</th>\n",
       "      <td>[]</td>\n",
       "      <td>26</td>\n",
       "      <td>SHV40</td>\n",
       "      <td>0</td>\n",
       "      <td>W6Ex5DZKnuMe8eiFIsbSutgVLV72</td>\n",
       "      <td>1</td>\n",
       "    </tr>\n",
       "  </tbody>\n",
       "</table>\n",
       "</div>"
      ],
      "text/plain": [
       "                                                  dt  os     pm  p  \\\n",
       "a  [[1596618912439.9998, 864412474877.0, 1.177947...  26  SHV40  0   \n",
       "g  [[1596618912441.0, 864413379825.0, 0.021991148...  26  SHV40  0   \n",
       "p                                                 []  26  SHV40  0   \n",
       "\n",
       "                            uid  v  \n",
       "a  W6Ex5DZKnuMe8eiFIsbSutgVLV72  1  \n",
       "g  W6Ex5DZKnuMe8eiFIsbSutgVLV72  1  \n",
       "p  W6Ex5DZKnuMe8eiFIsbSutgVLV72  1  "
      ]
     },
     "execution_count": 21,
     "metadata": {},
     "output_type": "execute_result"
    }
   ],
   "source": [
    "sen_jsonpath = \"../raw_data/sens/s_2020-08-05-1596618922655-SHV40-W6Ex5DZKnuMe8eiFIsbSutgVLV72.json\"\n",
    "sen_json = pd.read_json(sen_jsonpath)\n",
    "sen_json.head()"
   ]
  },
  {
   "cell_type": "code",
   "execution_count": 25,
   "metadata": {
    "ExecuteTime": {
     "end_time": "2020-11-30T08:09:38.117353Z",
     "start_time": "2020-11-30T08:09:38.103625Z"
    }
   },
   "outputs": [
    {
     "data": {
      "text/html": [
       "<div>\n",
       "<style scoped>\n",
       "    .dataframe tbody tr th:only-of-type {\n",
       "        vertical-align: middle;\n",
       "    }\n",
       "\n",
       "    .dataframe tbody tr th {\n",
       "        vertical-align: top;\n",
       "    }\n",
       "\n",
       "    .dataframe thead th {\n",
       "        text-align: right;\n",
       "    }\n",
       "</style>\n",
       "<table border=\"1\" class=\"dataframe\">\n",
       "  <thead>\n",
       "    <tr style=\"text-align: right;\">\n",
       "      <th></th>\n",
       "      <th>time_stamp</th>\n",
       "      <th>sensor_time_stamp</th>\n",
       "      <th>X</th>\n",
       "      <th>Y</th>\n",
       "      <th>Z</th>\n",
       "    </tr>\n",
       "  </thead>\n",
       "  <tbody>\n",
       "    <tr>\n",
       "      <th>0</th>\n",
       "      <td>1.596619e+12</td>\n",
       "      <td>8.644125e+11</td>\n",
       "      <td>1.177947</td>\n",
       "      <td>2.901772</td>\n",
       "      <td>9.040505</td>\n",
       "    </tr>\n",
       "    <tr>\n",
       "      <th>1</th>\n",
       "      <td>1.596619e+12</td>\n",
       "      <td>8.644323e+11</td>\n",
       "      <td>1.359907</td>\n",
       "      <td>2.873042</td>\n",
       "      <td>9.212888</td>\n",
       "    </tr>\n",
       "    <tr>\n",
       "      <th>2</th>\n",
       "      <td>1.596619e+12</td>\n",
       "      <td>8.644523e+11</td>\n",
       "      <td>1.359907</td>\n",
       "      <td>2.920926</td>\n",
       "      <td>9.117120</td>\n",
       "    </tr>\n",
       "    <tr>\n",
       "      <th>3</th>\n",
       "      <td>1.596619e+12</td>\n",
       "      <td>8.644725e+11</td>\n",
       "      <td>1.455675</td>\n",
       "      <td>2.987964</td>\n",
       "      <td>9.097966</td>\n",
       "    </tr>\n",
       "    <tr>\n",
       "      <th>4</th>\n",
       "      <td>1.596619e+12</td>\n",
       "      <td>8.644925e+11</td>\n",
       "      <td>1.446098</td>\n",
       "      <td>3.045424</td>\n",
       "      <td>9.184157</td>\n",
       "    </tr>\n",
       "    <tr>\n",
       "      <th>...</th>\n",
       "      <td>...</td>\n",
       "      <td>...</td>\n",
       "      <td>...</td>\n",
       "      <td>...</td>\n",
       "      <td>...</td>\n",
       "    </tr>\n",
       "    <tr>\n",
       "      <th>506</th>\n",
       "      <td>1.596619e+12</td>\n",
       "      <td>8.745336e+11</td>\n",
       "      <td>-3.409343</td>\n",
       "      <td>6.636727</td>\n",
       "      <td>4.951209</td>\n",
       "    </tr>\n",
       "    <tr>\n",
       "      <th>507</th>\n",
       "      <td>1.596619e+12</td>\n",
       "      <td>8.745536e+11</td>\n",
       "      <td>-2.777274</td>\n",
       "      <td>7.546524</td>\n",
       "      <td>5.544971</td>\n",
       "    </tr>\n",
       "    <tr>\n",
       "      <th>508</th>\n",
       "      <td>1.596619e+12</td>\n",
       "      <td>8.745725e+11</td>\n",
       "      <td>-3.236961</td>\n",
       "      <td>6.780379</td>\n",
       "      <td>7.220912</td>\n",
       "    </tr>\n",
       "    <tr>\n",
       "      <th>509</th>\n",
       "      <td>1.596619e+12</td>\n",
       "      <td>8.745925e+11</td>\n",
       "      <td>-4.070143</td>\n",
       "      <td>6.454768</td>\n",
       "      <td>8.456321</td>\n",
       "    </tr>\n",
       "    <tr>\n",
       "      <th>510</th>\n",
       "      <td>1.596619e+12</td>\n",
       "      <td>8.746136e+11</td>\n",
       "      <td>-2.011129</td>\n",
       "      <td>5.468357</td>\n",
       "      <td>8.954314</td>\n",
       "    </tr>\n",
       "  </tbody>\n",
       "</table>\n",
       "<p>511 rows × 5 columns</p>\n",
       "</div>"
      ],
      "text/plain": [
       "       time_stamp  sensor_time_stamp         X         Y         Z\n",
       "0    1.596619e+12       8.644125e+11  1.177947  2.901772  9.040505\n",
       "1    1.596619e+12       8.644323e+11  1.359907  2.873042  9.212888\n",
       "2    1.596619e+12       8.644523e+11  1.359907  2.920926  9.117120\n",
       "3    1.596619e+12       8.644725e+11  1.455675  2.987964  9.097966\n",
       "4    1.596619e+12       8.644925e+11  1.446098  3.045424  9.184157\n",
       "..            ...                ...       ...       ...       ...\n",
       "506  1.596619e+12       8.745336e+11 -3.409343  6.636727  4.951209\n",
       "507  1.596619e+12       8.745536e+11 -2.777274  7.546524  5.544971\n",
       "508  1.596619e+12       8.745725e+11 -3.236961  6.780379  7.220912\n",
       "509  1.596619e+12       8.745925e+11 -4.070143  6.454768  8.456321\n",
       "510  1.596619e+12       8.746136e+11 -2.011129  5.468357  8.954314\n",
       "\n",
       "[511 rows x 5 columns]"
      ]
     },
     "execution_count": 25,
     "metadata": {},
     "output_type": "execute_result"
    }
   ],
   "source": [
    "sen_acc = np.array(sen_json.dt[\"a\"])\n",
    "acc_df = pd.DataFrame(sen_acc, columns=[\"time_stamp\", \"sensor_time_stamp\",\"X\",\"Y\",\"Z\"])\n",
    "acc_df"
   ]
  },
  {
   "cell_type": "code",
   "execution_count": 24,
   "metadata": {
    "ExecuteTime": {
     "end_time": "2020-11-30T08:09:25.403535Z",
     "start_time": "2020-11-30T08:09:25.389776Z"
    }
   },
   "outputs": [
    {
     "data": {
      "text/html": [
       "<div>\n",
       "<style scoped>\n",
       "    .dataframe tbody tr th:only-of-type {\n",
       "        vertical-align: middle;\n",
       "    }\n",
       "\n",
       "    .dataframe tbody tr th {\n",
       "        vertical-align: top;\n",
       "    }\n",
       "\n",
       "    .dataframe thead th {\n",
       "        text-align: right;\n",
       "    }\n",
       "</style>\n",
       "<table border=\"1\" class=\"dataframe\">\n",
       "  <thead>\n",
       "    <tr style=\"text-align: right;\">\n",
       "      <th></th>\n",
       "      <th>time_stamp</th>\n",
       "      <th>sensor_time_stamp</th>\n",
       "      <th>X</th>\n",
       "      <th>Y</th>\n",
       "      <th>Z</th>\n",
       "    </tr>\n",
       "  </thead>\n",
       "  <tbody>\n",
       "    <tr>\n",
       "      <th>0</th>\n",
       "      <td>1.596619e+12</td>\n",
       "      <td>8.644134e+11</td>\n",
       "      <td>0.021991</td>\n",
       "      <td>-0.100182</td>\n",
       "      <td>0.162490</td>\n",
       "    </tr>\n",
       "    <tr>\n",
       "      <th>1</th>\n",
       "      <td>1.596619e+12</td>\n",
       "      <td>8.644334e+11</td>\n",
       "      <td>0.014661</td>\n",
       "      <td>-0.096517</td>\n",
       "      <td>0.125838</td>\n",
       "    </tr>\n",
       "    <tr>\n",
       "      <th>2</th>\n",
       "      <td>1.596619e+12</td>\n",
       "      <td>8.644534e+11</td>\n",
       "      <td>0.056200</td>\n",
       "      <td>-0.053756</td>\n",
       "      <td>0.107512</td>\n",
       "    </tr>\n",
       "    <tr>\n",
       "      <th>3</th>\n",
       "      <td>1.596619e+12</td>\n",
       "      <td>8.644734e+11</td>\n",
       "      <td>0.040317</td>\n",
       "      <td>-0.078191</td>\n",
       "      <td>0.073304</td>\n",
       "    </tr>\n",
       "    <tr>\n",
       "      <th>4</th>\n",
       "      <td>1.596619e+12</td>\n",
       "      <td>8.644934e+11</td>\n",
       "      <td>0.002443</td>\n",
       "      <td>-0.124617</td>\n",
       "      <td>0.013439</td>\n",
       "    </tr>\n",
       "    <tr>\n",
       "      <th>...</th>\n",
       "      <td>...</td>\n",
       "      <td>...</td>\n",
       "      <td>...</td>\n",
       "      <td>...</td>\n",
       "      <td>...</td>\n",
       "    </tr>\n",
       "    <tr>\n",
       "      <th>506</th>\n",
       "      <td>1.596619e+12</td>\n",
       "      <td>8.745336e+11</td>\n",
       "      <td>-3.265686</td>\n",
       "      <td>-6.438519</td>\n",
       "      <td>-2.492330</td>\n",
       "    </tr>\n",
       "    <tr>\n",
       "      <th>507</th>\n",
       "      <td>1.596619e+12</td>\n",
       "      <td>8.745537e+11</td>\n",
       "      <td>-3.183830</td>\n",
       "      <td>-5.924171</td>\n",
       "      <td>-2.419026</td>\n",
       "    </tr>\n",
       "    <tr>\n",
       "      <th>508</th>\n",
       "      <td>1.596619e+12</td>\n",
       "      <td>8.745734e+11</td>\n",
       "      <td>-3.106861</td>\n",
       "      <td>-5.485570</td>\n",
       "      <td>-2.034181</td>\n",
       "    </tr>\n",
       "    <tr>\n",
       "      <th>509</th>\n",
       "      <td>1.596619e+12</td>\n",
       "      <td>8.745934e+11</td>\n",
       "      <td>-2.713463</td>\n",
       "      <td>-5.021312</td>\n",
       "      <td>-1.521055</td>\n",
       "    </tr>\n",
       "    <tr>\n",
       "      <th>510</th>\n",
       "      <td>1.596619e+12</td>\n",
       "      <td>8.746137e+11</td>\n",
       "      <td>-2.208889</td>\n",
       "      <td>-4.302935</td>\n",
       "      <td>-1.106888</td>\n",
       "    </tr>\n",
       "  </tbody>\n",
       "</table>\n",
       "<p>511 rows × 5 columns</p>\n",
       "</div>"
      ],
      "text/plain": [
       "       time_stamp  sensor_time_stamp         X         Y         Z\n",
       "0    1.596619e+12       8.644134e+11  0.021991 -0.100182  0.162490\n",
       "1    1.596619e+12       8.644334e+11  0.014661 -0.096517  0.125838\n",
       "2    1.596619e+12       8.644534e+11  0.056200 -0.053756  0.107512\n",
       "3    1.596619e+12       8.644734e+11  0.040317 -0.078191  0.073304\n",
       "4    1.596619e+12       8.644934e+11  0.002443 -0.124617  0.013439\n",
       "..            ...                ...       ...       ...       ...\n",
       "506  1.596619e+12       8.745336e+11 -3.265686 -6.438519 -2.492330\n",
       "507  1.596619e+12       8.745537e+11 -3.183830 -5.924171 -2.419026\n",
       "508  1.596619e+12       8.745734e+11 -3.106861 -5.485570 -2.034181\n",
       "509  1.596619e+12       8.745934e+11 -2.713463 -5.021312 -1.521055\n",
       "510  1.596619e+12       8.746137e+11 -2.208889 -4.302935 -1.106888\n",
       "\n",
       "[511 rows x 5 columns]"
      ]
     },
     "execution_count": 24,
     "metadata": {},
     "output_type": "execute_result"
    }
   ],
   "source": [
    "sen_gyro = np.array(sen_json.dt[\"g\"])\n",
    "gyro_df = pd.DataFrame(sen_gyro, columns=[\"time_stamp\", \"sensor_time_stamp\",\"X\",\"Y\",\"Z\"])\n",
    "gyro_df"
   ]
  },
  {
   "cell_type": "code",
   "execution_count": 30,
   "metadata": {
    "ExecuteTime": {
     "end_time": "2020-11-30T08:11:57.594801Z",
     "start_time": "2020-11-30T08:11:57.592070Z"
    }
   },
   "outputs": [],
   "source": [
    "test_timegyro = (gyro_df[\"time_stamp\"][0]/(100000))"
   ]
  },
  {
   "cell_type": "code",
   "execution_count": 31,
   "metadata": {
    "ExecuteTime": {
     "end_time": "2020-11-30T08:12:01.038799Z",
     "start_time": "2020-11-30T08:12:01.035639Z"
    }
   },
   "outputs": [],
   "source": [
    "def convert(seconds): \n",
    "    seconds = seconds % (24 * 3600) \n",
    "    hour = seconds // 3600\n",
    "    seconds %= 3600\n",
    "    minutes = seconds // 60\n",
    "    seconds %= 60\n",
    "      \n",
    "    return \"%d:%02d:%02d\" % (hour, minutes, seconds)"
   ]
  },
  {
   "cell_type": "code",
   "execution_count": 34,
   "metadata": {
    "ExecuteTime": {
     "end_time": "2020-11-30T08:12:34.114080Z",
     "start_time": "2020-11-30T08:12:34.110582Z"
    }
   },
   "outputs": [
    {
     "data": {
      "text/plain": [
       "'19:03:09'"
      ]
     },
     "execution_count": 34,
     "metadata": {},
     "output_type": "execute_result"
    }
   ],
   "source": [
    "convert(test_timegyro)\n",
    "#a string"
   ]
  },
  {
   "cell_type": "code",
   "execution_count": null,
   "metadata": {},
   "outputs": [],
   "source": []
  }
 ],
 "metadata": {
  "kernelspec": {
   "display_name": "Python 3",
   "language": "python",
   "name": "python3"
  },
  "language_info": {
   "codemirror_mode": {
    "name": "ipython",
    "version": 3
   },
   "file_extension": ".py",
   "mimetype": "text/x-python",
   "name": "python",
   "nbconvert_exporter": "python",
   "pygments_lexer": "ipython3",
   "version": "3.7.7"
  },
  "toc": {
   "base_numbering": 1,
   "nav_menu": {},
   "number_sections": true,
   "sideBar": true,
   "skip_h1_title": false,
   "title_cell": "Table of Contents",
   "title_sidebar": "Contents",
   "toc_cell": false,
   "toc_position": {},
   "toc_section_display": true,
   "toc_window_display": false
  },
  "varInspector": {
   "cols": {
    "lenName": 16,
    "lenType": 16,
    "lenVar": 40
   },
   "kernels_config": {
    "python": {
     "delete_cmd_postfix": "",
     "delete_cmd_prefix": "del ",
     "library": "var_list.py",
     "varRefreshCmd": "print(var_dic_list())"
    },
    "r": {
     "delete_cmd_postfix": ") ",
     "delete_cmd_prefix": "rm(",
     "library": "var_list.r",
     "varRefreshCmd": "cat(var_dic_list()) "
    }
   },
   "types_to_exclude": [
    "module",
    "function",
    "builtin_function_or_method",
    "instance",
    "_Feature"
   ],
   "window_display": false
  }
 },
 "nbformat": 4,
 "nbformat_minor": 4
}
