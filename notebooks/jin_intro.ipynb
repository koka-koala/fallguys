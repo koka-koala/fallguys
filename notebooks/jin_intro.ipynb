{
 "cells": [
  {
   "cell_type": "code",
   "execution_count": 1,
   "metadata": {
    "ExecuteTime": {
     "end_time": "2020-12-02T07:27:55.082274Z",
     "start_time": "2020-12-02T07:27:39.623971Z"
    }
   },
   "outputs": [],
   "source": [
    "import pandas as pd\n",
    "import numpy as np\n",
    "import matplotlib.pyplot as plt"
   ]
  },
  {
   "cell_type": "markdown",
   "metadata": {
    "heading_collapsed": true
   },
   "source": [
    "### Function"
   ]
  },
  {
   "cell_type": "code",
   "execution_count": 2,
   "metadata": {
    "ExecuteTime": {
     "end_time": "2020-12-02T07:27:55.109671Z",
     "start_time": "2020-12-02T07:27:55.105934Z"
    },
    "hidden": true
   },
   "outputs": [],
   "source": [
    "def an_filename(name):\n",
    "    '''Get the real file name not the path from csv file'''\n",
    "    filename = \"a_\" + name.split(\"a_\")[1]\n",
    "    return filename\n",
    "\n",
    "def sen_filename(name):\n",
    "    '''Get the real file name not the path from csv file'''\n",
    "    filename = \"s_\" + name.split(\"s_\")[1]\n",
    "    return filename"
   ]
  },
  {
   "cell_type": "code",
   "execution_count": 3,
   "metadata": {
    "ExecuteTime": {
     "end_time": "2020-12-02T07:27:55.149135Z",
     "start_time": "2020-12-02T07:27:55.130140Z"
    },
    "hidden": true
   },
   "outputs": [],
   "source": [
    "def convert(seconds): \n",
    "    milli = (seconds % 1) * 100\n",
    "    seconds = seconds % (24 * 3600) \n",
    "    hour = seconds // 3600\n",
    "    seconds %= 3600\n",
    "    minutes = seconds // 60\n",
    "    seconds %= 60\n",
    "      \n",
    "    return \"%d:%02d:%02d:%02d\" % (hour, minutes, seconds, milli)"
   ]
  },
  {
   "cell_type": "code",
   "execution_count": 4,
   "metadata": {
    "ExecuteTime": {
     "end_time": "2020-12-02T07:27:55.176472Z",
     "start_time": "2020-12-02T07:27:55.171687Z"
    },
    "hidden": true
   },
   "outputs": [],
   "source": [
    "def key(X):\n",
    "    key, value = list(X.items())[0]\n",
    "    return key.strip(\"()\")\n",
    "\n",
    "def value(X):\n",
    "    key, value = list(X.items())[0]\n",
    "    key2, value2 = list(value[0].items())[0]\n",
    "    return value2\n",
    "\n",
    "def process(X):\n",
    "    key, value = list(X.items())[0]\n",
    "    key2, value2 = list(value[0].items())[0]\n",
    "    return key2"
   ]
  },
  {
   "cell_type": "markdown",
   "metadata": {
    "heading_collapsed": true
   },
   "source": [
    "### Prepare Annotation dataframe"
   ]
  },
  {
   "cell_type": "code",
   "execution_count": 5,
   "metadata": {
    "ExecuteTime": {
     "end_time": "2020-12-02T07:28:30.117315Z",
     "start_time": "2020-12-02T07:28:29.393719Z"
    },
    "hidden": true
   },
   "outputs": [
    {
     "data": {
      "text/html": [
       "<div>\n",
       "<style scoped>\n",
       "    .dataframe tbody tr th:only-of-type {\n",
       "        vertical-align: middle;\n",
       "    }\n",
       "\n",
       "    .dataframe tbody tr th {\n",
       "        vertical-align: top;\n",
       "    }\n",
       "\n",
       "    .dataframe thead th {\n",
       "        text-align: right;\n",
       "    }\n",
       "</style>\n",
       "<table border=\"1\" class=\"dataframe\">\n",
       "  <thead>\n",
       "    <tr style=\"text-align: right;\">\n",
       "      <th></th>\n",
       "      <th>time</th>\n",
       "      <th>filename</th>\n",
       "      <th>real_filename</th>\n",
       "    </tr>\n",
       "  </thead>\n",
       "  <tbody>\n",
       "    <tr>\n",
       "      <th>0</th>\n",
       "      <td>2020-08-05 22:21:03</td>\n",
       "      <td>data/raw/2020-08-05-asa/a_2020-08-05-W6Ex5DZKn...</td>\n",
       "      <td>a_2020-08-05-W6Ex5DZKnuMe8eiFIsbSutgVLV72.json</td>\n",
       "    </tr>\n",
       "  </tbody>\n",
       "</table>\n",
       "</div>"
      ],
      "text/plain": [
       "                  time                                           filename  \\\n",
       "0  2020-08-05 22:21:03  data/raw/2020-08-05-asa/a_2020-08-05-W6Ex5DZKn...   \n",
       "\n",
       "                                    real_filename  \n",
       "0  a_2020-08-05-W6Ex5DZKnuMe8eiFIsbSutgVLV72.json  "
      ]
     },
     "execution_count": 5,
     "metadata": {},
     "output_type": "execute_result"
    }
   ],
   "source": [
    "anno_basepath = \"../raw_data/full_data/\" # using for iterate path\n",
    "anno_csvpath = \"../raw_data/sample/annotations.csv\"\n",
    "an_csv = pd.read_csv(anno_csvpath)\n",
    "an_csv[\"real_filename\"] = an_csv[\"filename\"].apply(an_filename)\n",
    "an_csv # make real file name for iterate path"
   ]
  },
  {
   "cell_type": "code",
   "execution_count": 6,
   "metadata": {
    "ExecuteTime": {
     "end_time": "2020-12-02T07:28:47.495102Z",
     "start_time": "2020-12-02T07:28:30.162262Z"
    },
    "hidden": true
   },
   "outputs": [],
   "source": [
    "an_df = pd.read_json(\"../raw_data/sample/annot/\" + an_csv[\"real_filename\"][0])"
   ]
  },
  {
   "cell_type": "code",
   "execution_count": 7,
   "metadata": {
    "ExecuteTime": {
     "end_time": "2020-12-02T07:28:47.670685Z",
     "start_time": "2020-12-02T07:28:47.658269Z"
    },
    "hidden": true
   },
   "outputs": [],
   "source": [
    "an_df[\"activities\"] = an_df[\"dt\"].apply(key)\n",
    "an_df[\"process\"] = an_df[\"dt\"].apply(process)\n",
    "an_df[\"time\"] = an_df[\"dt\"].apply(value)\n",
    "an_df = an_df[an_df.columns[-3:]]"
   ]
  },
  {
   "cell_type": "code",
   "execution_count": 8,
   "metadata": {
    "ExecuteTime": {
     "end_time": "2020-12-02T07:28:47.753039Z",
     "start_time": "2020-12-02T07:28:47.737217Z"
    },
    "hidden": true
   },
   "outputs": [],
   "source": [
    "row = an_df.shape[0]\n",
    "n = 0\n",
    "list_begin = []\n",
    "list_end = []\n",
    "list_act = []\n",
    "for row in range(int(row/2)):\n",
    "    list_begin.append(an_df[\"time\"][n])\n",
    "    list_act.append(an_df[\"activities\"][n])\n",
    "    list_end.append(an_df[\"time\"][n+1])\n",
    "    n +=2"
   ]
  },
  {
   "cell_type": "code",
   "execution_count": 9,
   "metadata": {
    "ExecuteTime": {
     "end_time": "2020-12-02T07:28:47.833636Z",
     "start_time": "2020-12-02T07:28:47.827892Z"
    },
    "hidden": true
   },
   "outputs": [],
   "source": [
    "an_dict_clean = {\"activitiy\" : list_act, \"start\" : list_begin, \"end\" : list_end}\n",
    "an_df_clean = pd.DataFrame(an_dict_clean)"
   ]
  },
  {
   "cell_type": "code",
   "execution_count": 10,
   "metadata": {
    "ExecuteTime": {
     "end_time": "2020-12-02T07:28:47.943130Z",
     "start_time": "2020-12-02T07:28:47.931790Z"
    },
    "hidden": true,
    "scrolled": true
   },
   "outputs": [
    {
     "data": {
      "text/html": [
       "<div>\n",
       "<style scoped>\n",
       "    .dataframe tbody tr th:only-of-type {\n",
       "        vertical-align: middle;\n",
       "    }\n",
       "\n",
       "    .dataframe tbody tr th {\n",
       "        vertical-align: top;\n",
       "    }\n",
       "\n",
       "    .dataframe thead th {\n",
       "        text-align: right;\n",
       "    }\n",
       "</style>\n",
       "<table border=\"1\" class=\"dataframe\">\n",
       "  <thead>\n",
       "    <tr style=\"text-align: right;\">\n",
       "      <th></th>\n",
       "      <th>activitiy</th>\n",
       "      <th>start</th>\n",
       "      <th>end</th>\n",
       "    </tr>\n",
       "  </thead>\n",
       "  <tbody>\n",
       "    <tr>\n",
       "      <th>0</th>\n",
       "      <td>down_stairs</td>\n",
       "      <td>1596618985598</td>\n",
       "      <td>1596618989833</td>\n",
       "    </tr>\n",
       "    <tr>\n",
       "      <th>1</th>\n",
       "      <td>down_stairs</td>\n",
       "      <td>1596618995255</td>\n",
       "      <td>1596618997833</td>\n",
       "    </tr>\n",
       "    <tr>\n",
       "      <th>2</th>\n",
       "      <td>down_stairs</td>\n",
       "      <td>1596619066247</td>\n",
       "      <td>1596619069306</td>\n",
       "    </tr>\n",
       "    <tr>\n",
       "      <th>3</th>\n",
       "      <td>down_stairs</td>\n",
       "      <td>1596619073407</td>\n",
       "      <td>1596619075856</td>\n",
       "    </tr>\n",
       "    <tr>\n",
       "      <th>4</th>\n",
       "      <td>down_stairs</td>\n",
       "      <td>1596619079973</td>\n",
       "      <td>1596619082796</td>\n",
       "    </tr>\n",
       "  </tbody>\n",
       "</table>\n",
       "</div>"
      ],
      "text/plain": [
       "     activitiy          start            end\n",
       "0  down_stairs  1596618985598  1596618989833\n",
       "1  down_stairs  1596618995255  1596618997833\n",
       "2  down_stairs  1596619066247  1596619069306\n",
       "3  down_stairs  1596619073407  1596619075856\n",
       "4  down_stairs  1596619079973  1596619082796"
      ]
     },
     "execution_count": 10,
     "metadata": {},
     "output_type": "execute_result"
    }
   ],
   "source": [
    "an_df_clean.head()"
   ]
  },
  {
   "cell_type": "code",
   "execution_count": 11,
   "metadata": {
    "ExecuteTime": {
     "end_time": "2020-12-02T07:28:48.070580Z",
     "start_time": "2020-12-02T07:28:48.055003Z"
    },
    "hidden": true
   },
   "outputs": [],
   "source": [
    "batch = []\n",
    "batch_no = 0\n",
    "start = []\n",
    "end = []\n",
    "activitiy = []\n",
    "for row in range(an_df_clean.shape[0]):\n",
    "    start_an = an_df_clean.loc[row, \"start\"]\n",
    "    end_an = start_an + 2000\n",
    "    if end_an > an_df_clean.loc[row, \"end\"]:\n",
    "        continue\n",
    "    start.append(start_an)\n",
    "    end.append(end_an)\n",
    "    activitiy.append(an_df_clean.loc[row, \"activitiy\"])\n",
    "    batch.append(batch_no)\n",
    "    batch_no += 1\n",
    "    start_an += 2000"
   ]
  },
  {
   "cell_type": "code",
   "execution_count": 12,
   "metadata": {
    "ExecuteTime": {
     "end_time": "2020-12-02T07:28:48.173775Z",
     "start_time": "2020-12-02T07:28:48.167669Z"
    },
    "hidden": true
   },
   "outputs": [],
   "source": [
    "an_dict_clean = {\"activitiy\" : activitiy, \"start\" : start, \"end\" : end, \"batch\" : batch}\n",
    "an_df_clean = pd.DataFrame(an_dict_clean)"
   ]
  },
  {
   "cell_type": "code",
   "execution_count": 14,
   "metadata": {
    "ExecuteTime": {
     "end_time": "2020-12-02T07:29:15.567079Z",
     "start_time": "2020-12-02T07:29:15.552978Z"
    },
    "hidden": true
   },
   "outputs": [
    {
     "data": {
      "text/html": [
       "<div>\n",
       "<style scoped>\n",
       "    .dataframe tbody tr th:only-of-type {\n",
       "        vertical-align: middle;\n",
       "    }\n",
       "\n",
       "    .dataframe tbody tr th {\n",
       "        vertical-align: top;\n",
       "    }\n",
       "\n",
       "    .dataframe thead th {\n",
       "        text-align: right;\n",
       "    }\n",
       "</style>\n",
       "<table border=\"1\" class=\"dataframe\">\n",
       "  <thead>\n",
       "    <tr style=\"text-align: right;\">\n",
       "      <th></th>\n",
       "      <th>activitiy</th>\n",
       "      <th>start</th>\n",
       "      <th>end</th>\n",
       "      <th>batch</th>\n",
       "    </tr>\n",
       "  </thead>\n",
       "  <tbody>\n",
       "    <tr>\n",
       "      <th>0</th>\n",
       "      <td>down_stairs</td>\n",
       "      <td>1596618985598</td>\n",
       "      <td>1596618987598</td>\n",
       "      <td>0</td>\n",
       "    </tr>\n",
       "    <tr>\n",
       "      <th>1</th>\n",
       "      <td>down_stairs</td>\n",
       "      <td>1596618995255</td>\n",
       "      <td>1596618997255</td>\n",
       "      <td>1</td>\n",
       "    </tr>\n",
       "    <tr>\n",
       "      <th>2</th>\n",
       "      <td>down_stairs</td>\n",
       "      <td>1596619066247</td>\n",
       "      <td>1596619068247</td>\n",
       "      <td>2</td>\n",
       "    </tr>\n",
       "    <tr>\n",
       "      <th>3</th>\n",
       "      <td>down_stairs</td>\n",
       "      <td>1596619073407</td>\n",
       "      <td>1596619075407</td>\n",
       "      <td>3</td>\n",
       "    </tr>\n",
       "    <tr>\n",
       "      <th>4</th>\n",
       "      <td>down_stairs</td>\n",
       "      <td>1596619079973</td>\n",
       "      <td>1596619081973</td>\n",
       "      <td>4</td>\n",
       "    </tr>\n",
       "  </tbody>\n",
       "</table>\n",
       "</div>"
      ],
      "text/plain": [
       "     activitiy          start            end  batch\n",
       "0  down_stairs  1596618985598  1596618987598      0\n",
       "1  down_stairs  1596618995255  1596618997255      1\n",
       "2  down_stairs  1596619066247  1596619068247      2\n",
       "3  down_stairs  1596619073407  1596619075407      3\n",
       "4  down_stairs  1596619079973  1596619081973      4"
      ]
     },
     "execution_count": 14,
     "metadata": {},
     "output_type": "execute_result"
    }
   ],
   "source": [
    "an_df_clean.head()"
   ]
  },
  {
   "cell_type": "markdown",
   "metadata": {},
   "source": [
    "### Prepare Sensor dataframe"
   ]
  },
  {
   "cell_type": "code",
   "execution_count": 15,
   "metadata": {
    "ExecuteTime": {
     "end_time": "2020-12-02T07:29:25.025287Z",
     "start_time": "2020-12-02T07:29:24.666298Z"
    }
   },
   "outputs": [
    {
     "data": {
      "text/html": [
       "<div>\n",
       "<style scoped>\n",
       "    .dataframe tbody tr th:only-of-type {\n",
       "        vertical-align: middle;\n",
       "    }\n",
       "\n",
       "    .dataframe tbody tr th {\n",
       "        vertical-align: top;\n",
       "    }\n",
       "\n",
       "    .dataframe thead th {\n",
       "        text-align: right;\n",
       "    }\n",
       "</style>\n",
       "<table border=\"1\" class=\"dataframe\">\n",
       "  <thead>\n",
       "    <tr style=\"text-align: right;\">\n",
       "      <th></th>\n",
       "      <th>time</th>\n",
       "      <th>filename</th>\n",
       "      <th>real_filename</th>\n",
       "    </tr>\n",
       "  </thead>\n",
       "  <tbody>\n",
       "    <tr>\n",
       "      <th>0</th>\n",
       "      <td>2020-08-05 22:21:01</td>\n",
       "      <td>data/raw/2020-08-05-asa/s_2020-08-05-159661889...</td>\n",
       "      <td>s_2020-08-05-1596618899641-ASUS_X013DB-W6Ex5DZ...</td>\n",
       "    </tr>\n",
       "    <tr>\n",
       "      <th>1</th>\n",
       "      <td>2020-08-05 22:21:01</td>\n",
       "      <td>data/raw/2020-08-05-asa/s_2020-08-05-159661890...</td>\n",
       "      <td>s_2020-08-05-1596618902316-SHV40-W6Ex5DZKnuMe8...</td>\n",
       "    </tr>\n",
       "    <tr>\n",
       "      <th>2</th>\n",
       "      <td>2020-08-05 22:21:01</td>\n",
       "      <td>data/raw/2020-08-05-asa/s_2020-08-05-159661890...</td>\n",
       "      <td>s_2020-08-05-1596618909689-ASUS_X013DB-W6Ex5DZ...</td>\n",
       "    </tr>\n",
       "    <tr>\n",
       "      <th>3</th>\n",
       "      <td>2020-08-05 22:21:01</td>\n",
       "      <td>data/raw/2020-08-05-asa/s_2020-08-05-159661891...</td>\n",
       "      <td>s_2020-08-05-1596618912434-SHV40-W6Ex5DZKnuMe8...</td>\n",
       "    </tr>\n",
       "    <tr>\n",
       "      <th>4</th>\n",
       "      <td>2020-08-05 22:21:01</td>\n",
       "      <td>data/raw/2020-08-05-asa/s_2020-08-05-159661891...</td>\n",
       "      <td>s_2020-08-05-1596618919758-ASUS_X013DB-W6Ex5DZ...</td>\n",
       "    </tr>\n",
       "  </tbody>\n",
       "</table>\n",
       "</div>"
      ],
      "text/plain": [
       "                  time                                           filename  \\\n",
       "0  2020-08-05 22:21:01  data/raw/2020-08-05-asa/s_2020-08-05-159661889...   \n",
       "1  2020-08-05 22:21:01  data/raw/2020-08-05-asa/s_2020-08-05-159661890...   \n",
       "2  2020-08-05 22:21:01  data/raw/2020-08-05-asa/s_2020-08-05-159661890...   \n",
       "3  2020-08-05 22:21:01  data/raw/2020-08-05-asa/s_2020-08-05-159661891...   \n",
       "4  2020-08-05 22:21:01  data/raw/2020-08-05-asa/s_2020-08-05-159661891...   \n",
       "\n",
       "                                       real_filename  \n",
       "0  s_2020-08-05-1596618899641-ASUS_X013DB-W6Ex5DZ...  \n",
       "1  s_2020-08-05-1596618902316-SHV40-W6Ex5DZKnuMe8...  \n",
       "2  s_2020-08-05-1596618909689-ASUS_X013DB-W6Ex5DZ...  \n",
       "3  s_2020-08-05-1596618912434-SHV40-W6Ex5DZKnuMe8...  \n",
       "4  s_2020-08-05-1596618919758-ASUS_X013DB-W6Ex5DZ...  "
      ]
     },
     "execution_count": 15,
     "metadata": {},
     "output_type": "execute_result"
    }
   ],
   "source": [
    "sensor_csvpath = \"../raw_data/sample/sensors.csv\"\n",
    "sen_csv = pd.read_csv(sensor_csvpath)\n",
    "sen_csv[\"real_filename\"] = sen_csv[\"filename\"].apply(sen_filename)\n",
    "sen_csv.head()"
   ]
  },
  {
   "cell_type": "code",
   "execution_count": 16,
   "metadata": {
    "ExecuteTime": {
     "end_time": "2020-12-02T07:29:25.157850Z",
     "start_time": "2020-12-02T07:29:25.154722Z"
    }
   },
   "outputs": [],
   "source": [
    "sen_path_base = \"../raw_data/sample/sens/\""
   ]
  },
  {
   "cell_type": "code",
   "execution_count": 17,
   "metadata": {
    "ExecuteTime": {
     "end_time": "2020-12-02T07:29:26.853632Z",
     "start_time": "2020-12-02T07:29:26.848821Z"
    }
   },
   "outputs": [
    {
     "data": {
      "text/plain": [
       "'../raw_data/sample/sens/s_2020-08-05-1596619151947-ASUS_X013DB-W6Ex5DZKnuMe8eiFIsbSutgVLV72.json'"
      ]
     },
     "execution_count": 17,
     "metadata": {},
     "output_type": "execute_result"
    }
   ],
   "source": [
    "sample_path = sen_path_base + sen_csv[\"real_filename\"][50];sample_path"
   ]
  },
  {
   "cell_type": "code",
   "execution_count": 18,
   "metadata": {
    "ExecuteTime": {
     "end_time": "2020-12-02T07:29:27.245090Z",
     "start_time": "2020-12-02T07:29:27.073240Z"
    },
    "scrolled": true
   },
   "outputs": [
    {
     "data": {
      "text/html": [
       "<div>\n",
       "<style scoped>\n",
       "    .dataframe tbody tr th:only-of-type {\n",
       "        vertical-align: middle;\n",
       "    }\n",
       "\n",
       "    .dataframe tbody tr th {\n",
       "        vertical-align: top;\n",
       "    }\n",
       "\n",
       "    .dataframe thead th {\n",
       "        text-align: right;\n",
       "    }\n",
       "</style>\n",
       "<table border=\"1\" class=\"dataframe\">\n",
       "  <thead>\n",
       "    <tr style=\"text-align: right;\">\n",
       "      <th></th>\n",
       "      <th>dt</th>\n",
       "      <th>os</th>\n",
       "      <th>pm</th>\n",
       "      <th>p</th>\n",
       "      <th>uid</th>\n",
       "      <th>v</th>\n",
       "    </tr>\n",
       "  </thead>\n",
       "  <tbody>\n",
       "    <tr>\n",
       "      <th>a</th>\n",
       "      <td>[[1596619141863.0, 1077989232403.0, 0.72761535...</td>\n",
       "      <td>22</td>\n",
       "      <td>ASUS_X013DB</td>\n",
       "      <td>0</td>\n",
       "      <td>W6Ex5DZKnuMe8eiFIsbSutgVLV72</td>\n",
       "      <td>1</td>\n",
       "    </tr>\n",
       "    <tr>\n",
       "      <th>g</th>\n",
       "      <td>[]</td>\n",
       "      <td>22</td>\n",
       "      <td>ASUS_X013DB</td>\n",
       "      <td>0</td>\n",
       "      <td>W6Ex5DZKnuMe8eiFIsbSutgVLV72</td>\n",
       "      <td>1</td>\n",
       "    </tr>\n",
       "    <tr>\n",
       "      <th>p</th>\n",
       "      <td>[]</td>\n",
       "      <td>22</td>\n",
       "      <td>ASUS_X013DB</td>\n",
       "      <td>0</td>\n",
       "      <td>W6Ex5DZKnuMe8eiFIsbSutgVLV72</td>\n",
       "      <td>1</td>\n",
       "    </tr>\n",
       "  </tbody>\n",
       "</table>\n",
       "</div>"
      ],
      "text/plain": [
       "                                                  dt  os           pm  p  \\\n",
       "a  [[1596619141863.0, 1077989232403.0, 0.72761535...  22  ASUS_X013DB  0   \n",
       "g                                                 []  22  ASUS_X013DB  0   \n",
       "p                                                 []  22  ASUS_X013DB  0   \n",
       "\n",
       "                            uid  v  \n",
       "a  W6Ex5DZKnuMe8eiFIsbSutgVLV72  1  \n",
       "g  W6Ex5DZKnuMe8eiFIsbSutgVLV72  1  \n",
       "p  W6Ex5DZKnuMe8eiFIsbSutgVLV72  1  "
      ]
     },
     "execution_count": 18,
     "metadata": {},
     "output_type": "execute_result"
    }
   ],
   "source": [
    "sen_json = pd.read_json(sample_path)\n",
    "sen_json.head()"
   ]
  },
  {
   "cell_type": "code",
   "execution_count": 19,
   "metadata": {
    "ExecuteTime": {
     "end_time": "2020-12-02T07:29:27.423779Z",
     "start_time": "2020-12-02T07:29:27.418812Z"
    }
   },
   "outputs": [],
   "source": [
    "sen_acc = np.array(sen_json.dt[\"a\"])\n",
    "acc_df = pd.DataFrame(sen_acc, columns=[\"time_stamp\", \"sensor_time_stamp\",\"X\",\"Y\",\"Z\"])"
   ]
  },
  {
   "cell_type": "code",
   "execution_count": 20,
   "metadata": {
    "ExecuteTime": {
     "end_time": "2020-12-02T07:29:28.903026Z",
     "start_time": "2020-12-02T07:29:28.895704Z"
    }
   },
   "outputs": [],
   "source": [
    "def check_between(time_stamp):\n",
    "    for i in range(an_df_clean.shape[0]):\n",
    "        if an_df_clean.loc[i,\"start\"] < time_stamp and time_stamp < an_df_clean.loc[i,\"end\"]:\n",
    "            return an_df_clean.loc[i,\"activitiy\"] + \" \" + str(an_df_clean.loc[i,\"batch\"])   \n",
    "    return None"
   ]
  },
  {
   "cell_type": "code",
   "execution_count": 21,
   "metadata": {
    "ExecuteTime": {
     "end_time": "2020-12-02T07:30:08.735686Z",
     "start_time": "2020-12-02T07:29:29.160789Z"
    }
   },
   "outputs": [],
   "source": [
    "#All file in the folder\n",
    "all_jason_df = pd.DataFrame(columns=[\"time_stamp\",\"sensor_time_stamp\",\"X\",\"Y\",\"Z\"])\n",
    "for sen_jsonpath in sen_csv[\"real_filename\"]:\n",
    "    sensor_path = sen_path_base + sen_jsonpath\n",
    "    sen_json = pd.read_json(sensor_path)\n",
    "    if sen_json.dt[\"a\"] == []:\n",
    "        continue\n",
    "    sen_acc = np.array(sen_json.dt[\"a\"])\n",
    "    acc_df = pd.DataFrame(sen_acc, columns=[\"time_stamp\", \"sensor_time_stamp\",\"X\",\"Y\",\"Z\"])\n",
    "    all_jason_df = pd.concat([all_jason_df,acc_df])"
   ]
  },
  {
   "cell_type": "code",
   "execution_count": 22,
   "metadata": {
    "ExecuteTime": {
     "end_time": "2020-12-02T07:40:25.198940Z",
     "start_time": "2020-12-02T07:30:12.400505Z"
    }
   },
   "outputs": [],
   "source": [
    "all_jason_df[\"activity\"] = all_jason_df[\"time_stamp\"].apply(check_between)"
   ]
  },
  {
   "cell_type": "code",
   "execution_count": 24,
   "metadata": {
    "ExecuteTime": {
     "end_time": "2020-12-02T07:41:07.342436Z",
     "start_time": "2020-12-02T07:41:07.314970Z"
    },
    "scrolled": false
   },
   "outputs": [
    {
     "data": {
      "text/plain": [
       "time_stamp                0\n",
       "sensor_time_stamp         0\n",
       "X                         0\n",
       "Y                         0\n",
       "Z                         0\n",
       "activity             240089\n",
       "dtype: int64"
      ]
     },
     "execution_count": 24,
     "metadata": {},
     "output_type": "execute_result"
    }
   ],
   "source": [
    "all_jason_df.isnull().sum()"
   ]
  },
  {
   "cell_type": "code",
   "execution_count": 25,
   "metadata": {
    "ExecuteTime": {
     "end_time": "2020-12-02T07:41:28.160291Z",
     "start_time": "2020-12-02T07:41:26.002051Z"
    }
   },
   "outputs": [],
   "source": [
    "all_jason_df.drop(\"sensor_time_stamp\",axis = 1,inplace=True)\n",
    "all_jason_df.to_csv(\"sample.csv\", index=False)"
   ]
  },
  {
   "cell_type": "markdown",
   "metadata": {},
   "source": [
    "### Fall data"
   ]
  },
  {
   "cell_type": "code",
   "execution_count": null,
   "metadata": {
    "ExecuteTime": {
     "end_time": "2020-12-02T06:27:45.872975Z",
     "start_time": "2020-12-02T06:27:45.862483Z"
    }
   },
   "outputs": [],
   "source": [
    "fall_path = \"../raw_data/20201130-sg9-y-fall/a_2020-11-30-W6Ex5DZKnuMe8eiFIsbSutgVLV72.json\"\n",
    "fall_an = pd.read_json(fall_path)"
   ]
  },
  {
   "cell_type": "code",
   "execution_count": null,
   "metadata": {
    "ExecuteTime": {
     "end_time": "2020-12-02T06:31:49.684781Z",
     "start_time": "2020-12-02T06:31:49.675528Z"
    }
   },
   "outputs": [],
   "source": [
    "fall_df"
   ]
  },
  {
   "cell_type": "code",
   "execution_count": null,
   "metadata": {
    "ExecuteTime": {
     "end_time": "2020-12-02T06:29:00.888013Z",
     "start_time": "2020-12-02T06:29:00.879111Z"
    }
   },
   "outputs": [],
   "source": [
    "fall_an[\"activities\"] = fall_an[\"dt\"].apply(key)\n",
    "fall_an[\"process\"] = fall_an[\"dt\"].apply(process)\n",
    "fall_an[\"time\"] = fall_an[\"dt\"].apply(value)\n",
    "fall_an = fall_an[fall_an.columns[-3:]]"
   ]
  },
  {
   "cell_type": "code",
   "execution_count": null,
   "metadata": {
    "ExecuteTime": {
     "end_time": "2020-12-02T06:29:57.898350Z",
     "start_time": "2020-12-02T06:29:57.893491Z"
    }
   },
   "outputs": [],
   "source": [
    "row = fall_an.shape[0]\n",
    "n = 0\n",
    "list_begin = []\n",
    "list_end = []\n",
    "list_act = []\n",
    "for row in range(int(row/2)):\n",
    "    list_begin.append(fall_an[\"time\"][n])\n",
    "    list_act.append(fall_an[\"activities\"][n])\n",
    "    list_end.append(fall_an[\"time\"][n+1])\n",
    "    n +=2"
   ]
  },
  {
   "cell_type": "code",
   "execution_count": null,
   "metadata": {
    "ExecuteTime": {
     "end_time": "2020-12-02T06:30:40.087113Z",
     "start_time": "2020-12-02T06:30:40.082201Z"
    }
   },
   "outputs": [],
   "source": [
    "fall_clean = {\"activitiy\" : list_act, \"start\" : list_begin, \"end\" : list_end}\n",
    "fall_df = pd.DataFrame(fall_clean)"
   ]
  },
  {
   "cell_type": "code",
   "execution_count": null,
   "metadata": {
    "ExecuteTime": {
     "end_time": "2020-12-02T06:31:28.395134Z",
     "start_time": "2020-12-02T06:31:28.391114Z"
    }
   },
   "outputs": [],
   "source": [
    "fall_df[\"diff_time\"] = (fall_df[\"end\"] - fall_df[\"start\"])//2000 "
   ]
  },
  {
   "cell_type": "markdown",
   "metadata": {},
   "source": [
    "Fall data is different we are not using 2s bin otherwise it going to get dropped ! OwO"
   ]
  },
  {
   "cell_type": "code",
   "execution_count": null,
   "metadata": {},
   "outputs": [],
   "source": []
  }
 ],
 "metadata": {
  "kernelspec": {
   "display_name": "Python 3",
   "language": "python",
   "name": "python3"
  },
  "language_info": {
   "codemirror_mode": {
    "name": "ipython",
    "version": 3
   },
   "file_extension": ".py",
   "mimetype": "text/x-python",
   "name": "python",
   "nbconvert_exporter": "python",
   "pygments_lexer": "ipython3",
   "version": "3.7.7"
  },
  "toc": {
   "base_numbering": 1,
   "nav_menu": {},
   "number_sections": true,
   "sideBar": true,
   "skip_h1_title": false,
   "title_cell": "Table of Contents",
   "title_sidebar": "Contents",
   "toc_cell": false,
   "toc_position": {},
   "toc_section_display": true,
   "toc_window_display": false
  },
  "varInspector": {
   "cols": {
    "lenName": 16,
    "lenType": 16,
    "lenVar": 40
   },
   "kernels_config": {
    "python": {
     "delete_cmd_postfix": "",
     "delete_cmd_prefix": "del ",
     "library": "var_list.py",
     "varRefreshCmd": "print(var_dic_list())"
    },
    "r": {
     "delete_cmd_postfix": ") ",
     "delete_cmd_prefix": "rm(",
     "library": "var_list.r",
     "varRefreshCmd": "cat(var_dic_list()) "
    }
   },
   "types_to_exclude": [
    "module",
    "function",
    "builtin_function_or_method",
    "instance",
    "_Feature"
   ],
   "window_display": false
  }
 },
 "nbformat": 4,
 "nbformat_minor": 4
}
