{
 "cells": [
  {
   "cell_type": "code",
   "execution_count": 1,
   "metadata": {
    "ExecuteTime": {
     "end_time": "2020-12-01T03:19:28.927182Z",
     "start_time": "2020-12-01T03:19:24.008346Z"
    }
   },
   "outputs": [],
   "source": [
    "import pandas as pd\n",
    "import numpy as np\n",
    "import matplotlib.pyplot as plt"
   ]
  },
  {
   "cell_type": "markdown",
   "metadata": {},
   "source": [
    "Short explanations about the data.\n",
    "There are 2 types of json files,\n",
    "* 1 starting with \"a_....\" which contains the type of activity and it's timestamp (amount of microseconds since 1st January 1970)\n",
    "* 1 starting with \"s_....\" which contains the sensors data\n",
    "I made a diagram. And I also share with you a sample data of a \"a_\" file and a \"s_\" one."
   ]
  },
  {
   "cell_type": "code",
   "execution_count": 2,
   "metadata": {
    "ExecuteTime": {
     "end_time": "2020-12-01T03:19:30.182902Z",
     "start_time": "2020-12-01T03:19:30.176292Z"
    }
   },
   "outputs": [],
   "source": [
    "sensor_csvpath = \"../raw_data/sample/sensors.csv\"\n",
    "anno_csvpath = \"../raw_data/sample/annotations.csv\""
   ]
  },
  {
   "cell_type": "code",
   "execution_count": 3,
   "metadata": {
    "ExecuteTime": {
     "end_time": "2020-12-01T03:19:33.459463Z",
     "start_time": "2020-12-01T03:19:32.826521Z"
    }
   },
   "outputs": [
    {
     "data": {
      "text/html": [
       "<div>\n",
       "<style scoped>\n",
       "    .dataframe tbody tr th:only-of-type {\n",
       "        vertical-align: middle;\n",
       "    }\n",
       "\n",
       "    .dataframe tbody tr th {\n",
       "        vertical-align: top;\n",
       "    }\n",
       "\n",
       "    .dataframe thead th {\n",
       "        text-align: right;\n",
       "    }\n",
       "</style>\n",
       "<table border=\"1\" class=\"dataframe\">\n",
       "  <thead>\n",
       "    <tr style=\"text-align: right;\">\n",
       "      <th></th>\n",
       "      <th>time</th>\n",
       "      <th>filename</th>\n",
       "    </tr>\n",
       "  </thead>\n",
       "  <tbody>\n",
       "    <tr>\n",
       "      <th>0</th>\n",
       "      <td>2020-08-05 22:21:03</td>\n",
       "      <td>data/raw/2020-08-05-asa/a_2020-08-05-W6Ex5DZKn...</td>\n",
       "    </tr>\n",
       "  </tbody>\n",
       "</table>\n",
       "</div>"
      ],
      "text/plain": [
       "                  time                                           filename\n",
       "0  2020-08-05 22:21:03  data/raw/2020-08-05-asa/a_2020-08-05-W6Ex5DZKn..."
      ]
     },
     "execution_count": 3,
     "metadata": {},
     "output_type": "execute_result"
    }
   ],
   "source": [
    "an_csv = pd.read_csv(anno_csvpath)\n",
    "an_csv"
   ]
  },
  {
   "cell_type": "code",
   "execution_count": 4,
   "metadata": {
    "ExecuteTime": {
     "end_time": "2020-12-01T03:20:40.160750Z",
     "start_time": "2020-12-01T03:20:40.153133Z"
    }
   },
   "outputs": [],
   "source": [
    "def an_filename(name):\n",
    "    '''Get the real file name not the path from csv file'''\n",
    "    filename = \"a_\" + name.split(\"a_\")[1]\n",
    "    return filename"
   ]
  },
  {
   "cell_type": "code",
   "execution_count": 5,
   "metadata": {
    "ExecuteTime": {
     "end_time": "2020-12-01T03:20:40.331386Z",
     "start_time": "2020-12-01T03:20:40.324615Z"
    }
   },
   "outputs": [],
   "source": [
    "an_csv[\"real_filename\"] = an_csv[\"filename\"].apply(an_filename)"
   ]
  },
  {
   "cell_type": "code",
   "execution_count": 6,
   "metadata": {
    "ExecuteTime": {
     "end_time": "2020-12-01T03:20:41.049202Z",
     "start_time": "2020-12-01T03:20:41.041209Z"
    }
   },
   "outputs": [
    {
     "data": {
      "text/html": [
       "<div>\n",
       "<style scoped>\n",
       "    .dataframe tbody tr th:only-of-type {\n",
       "        vertical-align: middle;\n",
       "    }\n",
       "\n",
       "    .dataframe tbody tr th {\n",
       "        vertical-align: top;\n",
       "    }\n",
       "\n",
       "    .dataframe thead th {\n",
       "        text-align: right;\n",
       "    }\n",
       "</style>\n",
       "<table border=\"1\" class=\"dataframe\">\n",
       "  <thead>\n",
       "    <tr style=\"text-align: right;\">\n",
       "      <th></th>\n",
       "      <th>time</th>\n",
       "      <th>filename</th>\n",
       "      <th>real_filename</th>\n",
       "    </tr>\n",
       "  </thead>\n",
       "  <tbody>\n",
       "    <tr>\n",
       "      <th>0</th>\n",
       "      <td>2020-08-05 22:21:03</td>\n",
       "      <td>data/raw/2020-08-05-asa/a_2020-08-05-W6Ex5DZKn...</td>\n",
       "      <td>a_2020-08-05-W6Ex5DZKnuMe8eiFIsbSutgVLV72.json</td>\n",
       "    </tr>\n",
       "  </tbody>\n",
       "</table>\n",
       "</div>"
      ],
      "text/plain": [
       "                  time                                           filename  \\\n",
       "0  2020-08-05 22:21:03  data/raw/2020-08-05-asa/a_2020-08-05-W6Ex5DZKn...   \n",
       "\n",
       "                                    real_filename  \n",
       "0  a_2020-08-05-W6Ex5DZKnuMe8eiFIsbSutgVLV72.json  "
      ]
     },
     "execution_count": 6,
     "metadata": {},
     "output_type": "execute_result"
    }
   ],
   "source": [
    "an_csv"
   ]
  },
  {
   "cell_type": "code",
   "execution_count": 7,
   "metadata": {
    "ExecuteTime": {
     "end_time": "2020-12-01T03:20:46.460365Z",
     "start_time": "2020-12-01T03:20:46.456315Z"
    }
   },
   "outputs": [],
   "source": [
    "def sen_filename(name):\n",
    "    '''Get the real file name not the path from csv file'''\n",
    "    filename = \"s_\" + name.split(\"s_\")[1]\n",
    "    return filename"
   ]
  },
  {
   "cell_type": "code",
   "execution_count": 38,
   "metadata": {
    "ExecuteTime": {
     "end_time": "2020-12-01T03:36:18.290657Z",
     "start_time": "2020-12-01T03:36:18.227910Z"
    }
   },
   "outputs": [
    {
     "data": {
      "text/html": [
       "<div>\n",
       "<style scoped>\n",
       "    .dataframe tbody tr th:only-of-type {\n",
       "        vertical-align: middle;\n",
       "    }\n",
       "\n",
       "    .dataframe tbody tr th {\n",
       "        vertical-align: top;\n",
       "    }\n",
       "\n",
       "    .dataframe thead th {\n",
       "        text-align: right;\n",
       "    }\n",
       "</style>\n",
       "<table border=\"1\" class=\"dataframe\">\n",
       "  <thead>\n",
       "    <tr style=\"text-align: right;\">\n",
       "      <th></th>\n",
       "      <th>time</th>\n",
       "      <th>filename</th>\n",
       "      <th>real_filename</th>\n",
       "    </tr>\n",
       "  </thead>\n",
       "  <tbody>\n",
       "    <tr>\n",
       "      <th>0</th>\n",
       "      <td>2020-08-05 22:21:01</td>\n",
       "      <td>data/raw/2020-08-05-asa/s_2020-08-05-159661889...</td>\n",
       "      <td>s_2020-08-05-1596618899641-ASUS_X013DB-W6Ex5DZ...</td>\n",
       "    </tr>\n",
       "    <tr>\n",
       "      <th>1</th>\n",
       "      <td>2020-08-05 22:21:01</td>\n",
       "      <td>data/raw/2020-08-05-asa/s_2020-08-05-159661890...</td>\n",
       "      <td>s_2020-08-05-1596618902316-SHV40-W6Ex5DZKnuMe8...</td>\n",
       "    </tr>\n",
       "    <tr>\n",
       "      <th>2</th>\n",
       "      <td>2020-08-05 22:21:01</td>\n",
       "      <td>data/raw/2020-08-05-asa/s_2020-08-05-159661890...</td>\n",
       "      <td>s_2020-08-05-1596618909689-ASUS_X013DB-W6Ex5DZ...</td>\n",
       "    </tr>\n",
       "    <tr>\n",
       "      <th>3</th>\n",
       "      <td>2020-08-05 22:21:01</td>\n",
       "      <td>data/raw/2020-08-05-asa/s_2020-08-05-159661891...</td>\n",
       "      <td>s_2020-08-05-1596618912434-SHV40-W6Ex5DZKnuMe8...</td>\n",
       "    </tr>\n",
       "    <tr>\n",
       "      <th>4</th>\n",
       "      <td>2020-08-05 22:21:01</td>\n",
       "      <td>data/raw/2020-08-05-asa/s_2020-08-05-159661891...</td>\n",
       "      <td>s_2020-08-05-1596618919758-ASUS_X013DB-W6Ex5DZ...</td>\n",
       "    </tr>\n",
       "  </tbody>\n",
       "</table>\n",
       "</div>"
      ],
      "text/plain": [
       "                  time                                           filename  \\\n",
       "0  2020-08-05 22:21:01  data/raw/2020-08-05-asa/s_2020-08-05-159661889...   \n",
       "1  2020-08-05 22:21:01  data/raw/2020-08-05-asa/s_2020-08-05-159661890...   \n",
       "2  2020-08-05 22:21:01  data/raw/2020-08-05-asa/s_2020-08-05-159661890...   \n",
       "3  2020-08-05 22:21:01  data/raw/2020-08-05-asa/s_2020-08-05-159661891...   \n",
       "4  2020-08-05 22:21:01  data/raw/2020-08-05-asa/s_2020-08-05-159661891...   \n",
       "\n",
       "                                       real_filename  \n",
       "0  s_2020-08-05-1596618899641-ASUS_X013DB-W6Ex5DZ...  \n",
       "1  s_2020-08-05-1596618902316-SHV40-W6Ex5DZKnuMe8...  \n",
       "2  s_2020-08-05-1596618909689-ASUS_X013DB-W6Ex5DZ...  \n",
       "3  s_2020-08-05-1596618912434-SHV40-W6Ex5DZKnuMe8...  \n",
       "4  s_2020-08-05-1596618919758-ASUS_X013DB-W6Ex5DZ...  "
      ]
     },
     "execution_count": 38,
     "metadata": {},
     "output_type": "execute_result"
    }
   ],
   "source": [
    "sen_csv = pd.read_csv(sensor_csvpath)\n",
    "sen_csv[\"real_filename\"] = sen_csv[\"filename\"].apply(sen_filename)\n",
    "sen_csv.head()"
   ]
  },
  {
   "cell_type": "code",
   "execution_count": 9,
   "metadata": {
    "ExecuteTime": {
     "end_time": "2020-12-01T03:21:01.971413Z",
     "start_time": "2020-12-01T03:21:01.967074Z"
    }
   },
   "outputs": [],
   "source": [
    "def key(X):\n",
    "    key, value = list(X.items())[0]\n",
    "    return key.strip(\"()\")"
   ]
  },
  {
   "cell_type": "code",
   "execution_count": 10,
   "metadata": {
    "ExecuteTime": {
     "end_time": "2020-12-01T03:21:02.190203Z",
     "start_time": "2020-12-01T03:21:02.185246Z"
    }
   },
   "outputs": [],
   "source": [
    "def value(X):\n",
    "    key, value = list(X.items())[0]\n",
    "    key2, value2 = list(value[0].items())[0]\n",
    "    return value2"
   ]
  },
  {
   "cell_type": "code",
   "execution_count": 11,
   "metadata": {
    "ExecuteTime": {
     "end_time": "2020-12-01T03:21:02.439996Z",
     "start_time": "2020-12-01T03:21:02.435834Z"
    }
   },
   "outputs": [],
   "source": [
    "def process(X):\n",
    "    key, value = list(X.items())[0]\n",
    "    key2, value2 = list(value[0].items())[0]\n",
    "    return key2"
   ]
  },
  {
   "cell_type": "code",
   "execution_count": 13,
   "metadata": {
    "ExecuteTime": {
     "end_time": "2020-12-01T03:21:48.754482Z",
     "start_time": "2020-12-01T03:21:39.451921Z"
    }
   },
   "outputs": [
    {
     "data": {
      "text/html": [
       "<div>\n",
       "<style scoped>\n",
       "    .dataframe tbody tr th:only-of-type {\n",
       "        vertical-align: middle;\n",
       "    }\n",
       "\n",
       "    .dataframe tbody tr th {\n",
       "        vertical-align: top;\n",
       "    }\n",
       "\n",
       "    .dataframe thead th {\n",
       "        text-align: right;\n",
       "    }\n",
       "</style>\n",
       "<table border=\"1\" class=\"dataframe\">\n",
       "  <thead>\n",
       "    <tr style=\"text-align: right;\">\n",
       "      <th></th>\n",
       "      <th>dt</th>\n",
       "      <th>os</th>\n",
       "      <th>p</th>\n",
       "      <th>pf</th>\n",
       "      <th>uid</th>\n",
       "      <th>v</th>\n",
       "    </tr>\n",
       "  </thead>\n",
       "  <tbody>\n",
       "    <tr>\n",
       "      <th>0</th>\n",
       "      <td>{'down_stairs': [{'Begin': 1596618985598}]}</td>\n",
       "      <td>26</td>\n",
       "      <td>SHV40</td>\n",
       "      <td>1</td>\n",
       "      <td>W6Ex5DZKnuMe8eiFIsbSutgVLV72</td>\n",
       "      <td>1</td>\n",
       "    </tr>\n",
       "    <tr>\n",
       "      <th>1</th>\n",
       "      <td>{'down_stairs': [{'End': 1596618989833}]}</td>\n",
       "      <td>26</td>\n",
       "      <td>SHV40</td>\n",
       "      <td>1</td>\n",
       "      <td>W6Ex5DZKnuMe8eiFIsbSutgVLV72</td>\n",
       "      <td>1</td>\n",
       "    </tr>\n",
       "    <tr>\n",
       "      <th>2</th>\n",
       "      <td>{'down_stairs': [{'Begin': 1596618995255}]}</td>\n",
       "      <td>26</td>\n",
       "      <td>SHV40</td>\n",
       "      <td>1</td>\n",
       "      <td>W6Ex5DZKnuMe8eiFIsbSutgVLV72</td>\n",
       "      <td>1</td>\n",
       "    </tr>\n",
       "    <tr>\n",
       "      <th>3</th>\n",
       "      <td>{'down_stairs': [{'End': 1596618997833}]}</td>\n",
       "      <td>26</td>\n",
       "      <td>SHV40</td>\n",
       "      <td>1</td>\n",
       "      <td>W6Ex5DZKnuMe8eiFIsbSutgVLV72</td>\n",
       "      <td>1</td>\n",
       "    </tr>\n",
       "    <tr>\n",
       "      <th>4</th>\n",
       "      <td>{'down_stairs': [{'Begin': 1596619066247}]}</td>\n",
       "      <td>26</td>\n",
       "      <td>SHV40</td>\n",
       "      <td>1</td>\n",
       "      <td>W6Ex5DZKnuMe8eiFIsbSutgVLV72</td>\n",
       "      <td>1</td>\n",
       "    </tr>\n",
       "  </tbody>\n",
       "</table>\n",
       "</div>"
      ],
      "text/plain": [
       "                                            dt  os      p  pf  \\\n",
       "0  {'down_stairs': [{'Begin': 1596618985598}]}  26  SHV40   1   \n",
       "1    {'down_stairs': [{'End': 1596618989833}]}  26  SHV40   1   \n",
       "2  {'down_stairs': [{'Begin': 1596618995255}]}  26  SHV40   1   \n",
       "3    {'down_stairs': [{'End': 1596618997833}]}  26  SHV40   1   \n",
       "4  {'down_stairs': [{'Begin': 1596619066247}]}  26  SHV40   1   \n",
       "\n",
       "                            uid  v  \n",
       "0  W6Ex5DZKnuMe8eiFIsbSutgVLV72  1  \n",
       "1  W6Ex5DZKnuMe8eiFIsbSutgVLV72  1  \n",
       "2  W6Ex5DZKnuMe8eiFIsbSutgVLV72  1  \n",
       "3  W6Ex5DZKnuMe8eiFIsbSutgVLV72  1  \n",
       "4  W6Ex5DZKnuMe8eiFIsbSutgVLV72  1  "
      ]
     },
     "execution_count": 13,
     "metadata": {},
     "output_type": "execute_result"
    }
   ],
   "source": [
    "anno_jsonpath = \"../raw_data/sample/annot/a_2020-08-05-W6Ex5DZKnuMe8eiFIsbSutgVLV72.json\"\n",
    "an_json = pd.read_json(anno_jsonpath)\n",
    "an_json.head()"
   ]
  },
  {
   "cell_type": "code",
   "execution_count": 39,
   "metadata": {
    "ExecuteTime": {
     "end_time": "2020-12-01T03:39:53.163444Z",
     "start_time": "2020-12-01T03:39:53.154142Z"
    }
   },
   "outputs": [],
   "source": [
    "an_json[\"activities\"] = an_json[\"dt\"].apply(key)\n",
    "an_json[\"process\"] = an_json[\"dt\"].apply(process)\n",
    "an_json[\"time\"] = an_json[\"dt\"].apply(value)\n",
    "an_json[\"real_time\"] = an_json[\"time\"].apply(convert_to_realtime)"
   ]
  },
  {
   "cell_type": "code",
   "execution_count": 40,
   "metadata": {
    "ExecuteTime": {
     "end_time": "2020-12-01T03:39:54.019055Z",
     "start_time": "2020-12-01T03:39:53.996039Z"
    },
    "scrolled": true
   },
   "outputs": [
    {
     "data": {
      "text/html": [
       "<div>\n",
       "<style scoped>\n",
       "    .dataframe tbody tr th:only-of-type {\n",
       "        vertical-align: middle;\n",
       "    }\n",
       "\n",
       "    .dataframe tbody tr th {\n",
       "        vertical-align: top;\n",
       "    }\n",
       "\n",
       "    .dataframe thead th {\n",
       "        text-align: right;\n",
       "    }\n",
       "</style>\n",
       "<table border=\"1\" class=\"dataframe\">\n",
       "  <thead>\n",
       "    <tr style=\"text-align: right;\">\n",
       "      <th></th>\n",
       "      <th>dt</th>\n",
       "      <th>os</th>\n",
       "      <th>p</th>\n",
       "      <th>pf</th>\n",
       "      <th>uid</th>\n",
       "      <th>v</th>\n",
       "      <th>activities</th>\n",
       "      <th>process</th>\n",
       "      <th>time</th>\n",
       "      <th>real_time</th>\n",
       "    </tr>\n",
       "  </thead>\n",
       "  <tbody>\n",
       "    <tr>\n",
       "      <th>0</th>\n",
       "      <td>{'down_stairs': [{'Begin': 1596618985598}]}</td>\n",
       "      <td>26</td>\n",
       "      <td>SHV40</td>\n",
       "      <td>1</td>\n",
       "      <td>W6Ex5DZKnuMe8eiFIsbSutgVLV72</td>\n",
       "      <td>1</td>\n",
       "      <td>down_stairs</td>\n",
       "      <td>Begin</td>\n",
       "      <td>1596618985598</td>\n",
       "      <td>19:03:09:85</td>\n",
       "    </tr>\n",
       "    <tr>\n",
       "      <th>1</th>\n",
       "      <td>{'down_stairs': [{'End': 1596618989833}]}</td>\n",
       "      <td>26</td>\n",
       "      <td>SHV40</td>\n",
       "      <td>1</td>\n",
       "      <td>W6Ex5DZKnuMe8eiFIsbSutgVLV72</td>\n",
       "      <td>1</td>\n",
       "      <td>down_stairs</td>\n",
       "      <td>End</td>\n",
       "      <td>1596618989833</td>\n",
       "      <td>19:03:09:89</td>\n",
       "    </tr>\n",
       "    <tr>\n",
       "      <th>2</th>\n",
       "      <td>{'down_stairs': [{'Begin': 1596618995255}]}</td>\n",
       "      <td>26</td>\n",
       "      <td>SHV40</td>\n",
       "      <td>1</td>\n",
       "      <td>W6Ex5DZKnuMe8eiFIsbSutgVLV72</td>\n",
       "      <td>1</td>\n",
       "      <td>down_stairs</td>\n",
       "      <td>Begin</td>\n",
       "      <td>1596618995255</td>\n",
       "      <td>19:03:09:95</td>\n",
       "    </tr>\n",
       "    <tr>\n",
       "      <th>3</th>\n",
       "      <td>{'down_stairs': [{'End': 1596618997833}]}</td>\n",
       "      <td>26</td>\n",
       "      <td>SHV40</td>\n",
       "      <td>1</td>\n",
       "      <td>W6Ex5DZKnuMe8eiFIsbSutgVLV72</td>\n",
       "      <td>1</td>\n",
       "      <td>down_stairs</td>\n",
       "      <td>End</td>\n",
       "      <td>1596618997833</td>\n",
       "      <td>19:03:09:97</td>\n",
       "    </tr>\n",
       "    <tr>\n",
       "      <th>4</th>\n",
       "      <td>{'down_stairs': [{'Begin': 1596619066247}]}</td>\n",
       "      <td>26</td>\n",
       "      <td>SHV40</td>\n",
       "      <td>1</td>\n",
       "      <td>W6Ex5DZKnuMe8eiFIsbSutgVLV72</td>\n",
       "      <td>1</td>\n",
       "      <td>down_stairs</td>\n",
       "      <td>Begin</td>\n",
       "      <td>1596619066247</td>\n",
       "      <td>19:03:10:66</td>\n",
       "    </tr>\n",
       "  </tbody>\n",
       "</table>\n",
       "</div>"
      ],
      "text/plain": [
       "                                            dt  os      p  pf  \\\n",
       "0  {'down_stairs': [{'Begin': 1596618985598}]}  26  SHV40   1   \n",
       "1    {'down_stairs': [{'End': 1596618989833}]}  26  SHV40   1   \n",
       "2  {'down_stairs': [{'Begin': 1596618995255}]}  26  SHV40   1   \n",
       "3    {'down_stairs': [{'End': 1596618997833}]}  26  SHV40   1   \n",
       "4  {'down_stairs': [{'Begin': 1596619066247}]}  26  SHV40   1   \n",
       "\n",
       "                            uid  v   activities process           time  \\\n",
       "0  W6Ex5DZKnuMe8eiFIsbSutgVLV72  1  down_stairs   Begin  1596618985598   \n",
       "1  W6Ex5DZKnuMe8eiFIsbSutgVLV72  1  down_stairs     End  1596618989833   \n",
       "2  W6Ex5DZKnuMe8eiFIsbSutgVLV72  1  down_stairs   Begin  1596618995255   \n",
       "3  W6Ex5DZKnuMe8eiFIsbSutgVLV72  1  down_stairs     End  1596618997833   \n",
       "4  W6Ex5DZKnuMe8eiFIsbSutgVLV72  1  down_stairs   Begin  1596619066247   \n",
       "\n",
       "     real_time  \n",
       "0  19:03:09:85  \n",
       "1  19:03:09:89  \n",
       "2  19:03:09:95  \n",
       "3  19:03:09:97  \n",
       "4  19:03:10:66  "
      ]
     },
     "execution_count": 40,
     "metadata": {},
     "output_type": "execute_result"
    }
   ],
   "source": [
    "an_json.head()"
   ]
  },
  {
   "cell_type": "code",
   "execution_count": 41,
   "metadata": {
    "ExecuteTime": {
     "end_time": "2020-12-01T03:40:03.386595Z",
     "start_time": "2020-12-01T03:40:03.380539Z"
    }
   },
   "outputs": [],
   "source": [
    "final_an_csv = an_json[an_json.columns[-4:]]"
   ]
  },
  {
   "cell_type": "code",
   "execution_count": null,
   "metadata": {
    "ExecuteTime": {
     "end_time": "2020-12-01T01:36:06.304412Z",
     "start_time": "2020-12-01T01:36:04.875291Z"
    }
   },
   "outputs": [],
   "source": [
    "# final_an_csv.to_csv(\"clean_an.csv\",index=False)"
   ]
  },
  {
   "cell_type": "code",
   "execution_count": 27,
   "metadata": {
    "ExecuteTime": {
     "end_time": "2020-12-01T03:28:27.663048Z",
     "start_time": "2020-12-01T03:28:27.437103Z"
    }
   },
   "outputs": [
    {
     "data": {
      "text/html": [
       "<div>\n",
       "<style scoped>\n",
       "    .dataframe tbody tr th:only-of-type {\n",
       "        vertical-align: middle;\n",
       "    }\n",
       "\n",
       "    .dataframe tbody tr th {\n",
       "        vertical-align: top;\n",
       "    }\n",
       "\n",
       "    .dataframe thead th {\n",
       "        text-align: right;\n",
       "    }\n",
       "</style>\n",
       "<table border=\"1\" class=\"dataframe\">\n",
       "  <thead>\n",
       "    <tr style=\"text-align: right;\">\n",
       "      <th></th>\n",
       "      <th>dt</th>\n",
       "      <th>os</th>\n",
       "      <th>pm</th>\n",
       "      <th>p</th>\n",
       "      <th>uid</th>\n",
       "      <th>v</th>\n",
       "    </tr>\n",
       "  </thead>\n",
       "  <tbody>\n",
       "    <tr>\n",
       "      <th>a</th>\n",
       "      <td>[[1596618912439.9998, 864412474877.0, 1.177947...</td>\n",
       "      <td>26</td>\n",
       "      <td>SHV40</td>\n",
       "      <td>0</td>\n",
       "      <td>W6Ex5DZKnuMe8eiFIsbSutgVLV72</td>\n",
       "      <td>1</td>\n",
       "    </tr>\n",
       "    <tr>\n",
       "      <th>g</th>\n",
       "      <td>[[1596618912441.0, 864413379825.0, 0.021991148...</td>\n",
       "      <td>26</td>\n",
       "      <td>SHV40</td>\n",
       "      <td>0</td>\n",
       "      <td>W6Ex5DZKnuMe8eiFIsbSutgVLV72</td>\n",
       "      <td>1</td>\n",
       "    </tr>\n",
       "    <tr>\n",
       "      <th>p</th>\n",
       "      <td>[]</td>\n",
       "      <td>26</td>\n",
       "      <td>SHV40</td>\n",
       "      <td>0</td>\n",
       "      <td>W6Ex5DZKnuMe8eiFIsbSutgVLV72</td>\n",
       "      <td>1</td>\n",
       "    </tr>\n",
       "  </tbody>\n",
       "</table>\n",
       "</div>"
      ],
      "text/plain": [
       "                                                  dt  os     pm  p  \\\n",
       "a  [[1596618912439.9998, 864412474877.0, 1.177947...  26  SHV40  0   \n",
       "g  [[1596618912441.0, 864413379825.0, 0.021991148...  26  SHV40  0   \n",
       "p                                                 []  26  SHV40  0   \n",
       "\n",
       "                            uid  v  \n",
       "a  W6Ex5DZKnuMe8eiFIsbSutgVLV72  1  \n",
       "g  W6Ex5DZKnuMe8eiFIsbSutgVLV72  1  \n",
       "p  W6Ex5DZKnuMe8eiFIsbSutgVLV72  1  "
      ]
     },
     "execution_count": 27,
     "metadata": {},
     "output_type": "execute_result"
    }
   ],
   "source": [
    "sen_jsonpath = \"../raw_data/sample/sens/s_2020-08-05-1596618922655-SHV40-W6Ex5DZKnuMe8eiFIsbSutgVLV72.json\"\n",
    "sen_json = pd.read_json(sen_jsonpath)\n",
    "sen_json.head()"
   ]
  },
  {
   "cell_type": "code",
   "execution_count": 29,
   "metadata": {
    "ExecuteTime": {
     "end_time": "2020-12-01T03:28:59.035056Z",
     "start_time": "2020-12-01T03:28:59.021525Z"
    }
   },
   "outputs": [
    {
     "data": {
      "text/html": [
       "<div>\n",
       "<style scoped>\n",
       "    .dataframe tbody tr th:only-of-type {\n",
       "        vertical-align: middle;\n",
       "    }\n",
       "\n",
       "    .dataframe tbody tr th {\n",
       "        vertical-align: top;\n",
       "    }\n",
       "\n",
       "    .dataframe thead th {\n",
       "        text-align: right;\n",
       "    }\n",
       "</style>\n",
       "<table border=\"1\" class=\"dataframe\">\n",
       "  <thead>\n",
       "    <tr style=\"text-align: right;\">\n",
       "      <th></th>\n",
       "      <th>time_stamp</th>\n",
       "      <th>sensor_time_stamp</th>\n",
       "      <th>X</th>\n",
       "      <th>Y</th>\n",
       "      <th>Z</th>\n",
       "    </tr>\n",
       "  </thead>\n",
       "  <tbody>\n",
       "    <tr>\n",
       "      <th>0</th>\n",
       "      <td>1.596619e+12</td>\n",
       "      <td>8.644125e+11</td>\n",
       "      <td>1.177947</td>\n",
       "      <td>2.901772</td>\n",
       "      <td>9.040505</td>\n",
       "    </tr>\n",
       "    <tr>\n",
       "      <th>1</th>\n",
       "      <td>1.596619e+12</td>\n",
       "      <td>8.644323e+11</td>\n",
       "      <td>1.359907</td>\n",
       "      <td>2.873042</td>\n",
       "      <td>9.212888</td>\n",
       "    </tr>\n",
       "    <tr>\n",
       "      <th>2</th>\n",
       "      <td>1.596619e+12</td>\n",
       "      <td>8.644523e+11</td>\n",
       "      <td>1.359907</td>\n",
       "      <td>2.920926</td>\n",
       "      <td>9.117120</td>\n",
       "    </tr>\n",
       "    <tr>\n",
       "      <th>3</th>\n",
       "      <td>1.596619e+12</td>\n",
       "      <td>8.644725e+11</td>\n",
       "      <td>1.455675</td>\n",
       "      <td>2.987964</td>\n",
       "      <td>9.097966</td>\n",
       "    </tr>\n",
       "    <tr>\n",
       "      <th>4</th>\n",
       "      <td>1.596619e+12</td>\n",
       "      <td>8.644925e+11</td>\n",
       "      <td>1.446098</td>\n",
       "      <td>3.045424</td>\n",
       "      <td>9.184157</td>\n",
       "    </tr>\n",
       "  </tbody>\n",
       "</table>\n",
       "</div>"
      ],
      "text/plain": [
       "     time_stamp  sensor_time_stamp         X         Y         Z\n",
       "0  1.596619e+12       8.644125e+11  1.177947  2.901772  9.040505\n",
       "1  1.596619e+12       8.644323e+11  1.359907  2.873042  9.212888\n",
       "2  1.596619e+12       8.644523e+11  1.359907  2.920926  9.117120\n",
       "3  1.596619e+12       8.644725e+11  1.455675  2.987964  9.097966\n",
       "4  1.596619e+12       8.644925e+11  1.446098  3.045424  9.184157"
      ]
     },
     "execution_count": 29,
     "metadata": {},
     "output_type": "execute_result"
    }
   ],
   "source": [
    "sen_acc = np.array(sen_json.dt[\"a\"])\n",
    "acc_df = pd.DataFrame(sen_acc, columns=[\"time_stamp\", \"sensor_time_stamp\",\"X\",\"Y\",\"Z\"])\n",
    "acc_df.head()"
   ]
  },
  {
   "cell_type": "code",
   "execution_count": 31,
   "metadata": {
    "ExecuteTime": {
     "end_time": "2020-12-01T03:29:28.908531Z",
     "start_time": "2020-12-01T03:29:28.894787Z"
    }
   },
   "outputs": [
    {
     "data": {
      "text/html": [
       "<div>\n",
       "<style scoped>\n",
       "    .dataframe tbody tr th:only-of-type {\n",
       "        vertical-align: middle;\n",
       "    }\n",
       "\n",
       "    .dataframe tbody tr th {\n",
       "        vertical-align: top;\n",
       "    }\n",
       "\n",
       "    .dataframe thead th {\n",
       "        text-align: right;\n",
       "    }\n",
       "</style>\n",
       "<table border=\"1\" class=\"dataframe\">\n",
       "  <thead>\n",
       "    <tr style=\"text-align: right;\">\n",
       "      <th></th>\n",
       "      <th>time_stamp</th>\n",
       "      <th>sensor_time_stamp</th>\n",
       "      <th>X</th>\n",
       "      <th>Y</th>\n",
       "      <th>Z</th>\n",
       "    </tr>\n",
       "  </thead>\n",
       "  <tbody>\n",
       "    <tr>\n",
       "      <th>0</th>\n",
       "      <td>1.596619e+12</td>\n",
       "      <td>8.644134e+11</td>\n",
       "      <td>0.021991</td>\n",
       "      <td>-0.100182</td>\n",
       "      <td>0.162490</td>\n",
       "    </tr>\n",
       "    <tr>\n",
       "      <th>1</th>\n",
       "      <td>1.596619e+12</td>\n",
       "      <td>8.644334e+11</td>\n",
       "      <td>0.014661</td>\n",
       "      <td>-0.096517</td>\n",
       "      <td>0.125838</td>\n",
       "    </tr>\n",
       "    <tr>\n",
       "      <th>2</th>\n",
       "      <td>1.596619e+12</td>\n",
       "      <td>8.644534e+11</td>\n",
       "      <td>0.056200</td>\n",
       "      <td>-0.053756</td>\n",
       "      <td>0.107512</td>\n",
       "    </tr>\n",
       "    <tr>\n",
       "      <th>3</th>\n",
       "      <td>1.596619e+12</td>\n",
       "      <td>8.644734e+11</td>\n",
       "      <td>0.040317</td>\n",
       "      <td>-0.078191</td>\n",
       "      <td>0.073304</td>\n",
       "    </tr>\n",
       "    <tr>\n",
       "      <th>4</th>\n",
       "      <td>1.596619e+12</td>\n",
       "      <td>8.644934e+11</td>\n",
       "      <td>0.002443</td>\n",
       "      <td>-0.124617</td>\n",
       "      <td>0.013439</td>\n",
       "    </tr>\n",
       "  </tbody>\n",
       "</table>\n",
       "</div>"
      ],
      "text/plain": [
       "     time_stamp  sensor_time_stamp         X         Y         Z\n",
       "0  1.596619e+12       8.644134e+11  0.021991 -0.100182  0.162490\n",
       "1  1.596619e+12       8.644334e+11  0.014661 -0.096517  0.125838\n",
       "2  1.596619e+12       8.644534e+11  0.056200 -0.053756  0.107512\n",
       "3  1.596619e+12       8.644734e+11  0.040317 -0.078191  0.073304\n",
       "4  1.596619e+12       8.644934e+11  0.002443 -0.124617  0.013439"
      ]
     },
     "execution_count": 31,
     "metadata": {},
     "output_type": "execute_result"
    }
   ],
   "source": [
    "sen_gyro = np.array(sen_json.dt[\"g\"])\n",
    "gyro_df = pd.DataFrame(sen_gyro, columns=[\"time_stamp\", \"sensor_time_stamp\",\"X\",\"Y\",\"Z\"])\n",
    "gyro_df.head()"
   ]
  },
  {
   "cell_type": "code",
   "execution_count": null,
   "metadata": {
    "ExecuteTime": {
     "end_time": "2020-12-01T02:23:39.354737Z",
     "start_time": "2020-12-01T02:23:39.351236Z"
    }
   },
   "outputs": [],
   "source": [
    "def convert(seconds): \n",
    "    milli = (seconds % 1) * 100\n",
    "    seconds = seconds % (24 * 3600) \n",
    "    hour = seconds // 3600\n",
    "    seconds %= 3600\n",
    "    minutes = seconds // 60\n",
    "    seconds %= 60\n",
    "      \n",
    "    return \"%d:%02d:%02d:%02d\" % (hour, minutes, seconds, milli)"
   ]
  },
  {
   "cell_type": "code",
   "execution_count": 16,
   "metadata": {
    "ExecuteTime": {
     "end_time": "2020-12-01T03:23:38.337543Z",
     "start_time": "2020-12-01T03:23:38.331682Z"
    }
   },
   "outputs": [],
   "source": [
    "def convert_to_realtime(timestamp): \n",
    "    seconds = timestamp/100000\n",
    "    milli = (seconds % 1) * 100\n",
    "    seconds = seconds % (24 * 3600) \n",
    "    hour = seconds // 3600\n",
    "    seconds %= 3600\n",
    "    minutes = seconds // 60 \n",
    "    seconds %= 60 \n",
    "    return \"%d:%02d:%02d:%02d\" % (hour, minutes, seconds, milli) \n",
    "    #return \"%d:%02d:%02d\" % (hour, minutes, seconds)"
   ]
  },
  {
   "cell_type": "code",
   "execution_count": 32,
   "metadata": {
    "ExecuteTime": {
     "end_time": "2020-12-01T03:30:23.448320Z",
     "start_time": "2020-12-01T03:30:23.442621Z"
    }
   },
   "outputs": [],
   "source": [
    "gyro_df[\"real_time_stamp\"] = gyro_df[\"time_stamp\"].apply(convert_to_realtime)"
   ]
  },
  {
   "cell_type": "code",
   "execution_count": 44,
   "metadata": {
    "ExecuteTime": {
     "end_time": "2020-12-01T03:44:05.286100Z",
     "start_time": "2020-12-01T03:44:05.270462Z"
    }
   },
   "outputs": [
    {
     "data": {
      "text/html": [
       "<div>\n",
       "<style scoped>\n",
       "    .dataframe tbody tr th:only-of-type {\n",
       "        vertical-align: middle;\n",
       "    }\n",
       "\n",
       "    .dataframe tbody tr th {\n",
       "        vertical-align: top;\n",
       "    }\n",
       "\n",
       "    .dataframe thead th {\n",
       "        text-align: right;\n",
       "    }\n",
       "</style>\n",
       "<table border=\"1\" class=\"dataframe\">\n",
       "  <thead>\n",
       "    <tr style=\"text-align: right;\">\n",
       "      <th></th>\n",
       "      <th>time_stamp</th>\n",
       "      <th>sensor_time_stamp</th>\n",
       "      <th>X</th>\n",
       "      <th>Y</th>\n",
       "      <th>Z</th>\n",
       "      <th>real_time_stamp</th>\n",
       "    </tr>\n",
       "  </thead>\n",
       "  <tbody>\n",
       "    <tr>\n",
       "      <th>0</th>\n",
       "      <td>1.596619e+12</td>\n",
       "      <td>8.644134e+11</td>\n",
       "      <td>0.021991</td>\n",
       "      <td>-0.100182</td>\n",
       "      <td>0.162490</td>\n",
       "      <td>19:03:09:12</td>\n",
       "    </tr>\n",
       "    <tr>\n",
       "      <th>1</th>\n",
       "      <td>1.596619e+12</td>\n",
       "      <td>8.644334e+11</td>\n",
       "      <td>0.014661</td>\n",
       "      <td>-0.096517</td>\n",
       "      <td>0.125838</td>\n",
       "      <td>19:03:09:12</td>\n",
       "    </tr>\n",
       "    <tr>\n",
       "      <th>2</th>\n",
       "      <td>1.596619e+12</td>\n",
       "      <td>8.644534e+11</td>\n",
       "      <td>0.056200</td>\n",
       "      <td>-0.053756</td>\n",
       "      <td>0.107512</td>\n",
       "      <td>19:03:09:12</td>\n",
       "    </tr>\n",
       "    <tr>\n",
       "      <th>3</th>\n",
       "      <td>1.596619e+12</td>\n",
       "      <td>8.644734e+11</td>\n",
       "      <td>0.040317</td>\n",
       "      <td>-0.078191</td>\n",
       "      <td>0.073304</td>\n",
       "      <td>19:03:09:12</td>\n",
       "    </tr>\n",
       "    <tr>\n",
       "      <th>4</th>\n",
       "      <td>1.596619e+12</td>\n",
       "      <td>8.644934e+11</td>\n",
       "      <td>0.002443</td>\n",
       "      <td>-0.124617</td>\n",
       "      <td>0.013439</td>\n",
       "      <td>19:03:09:12</td>\n",
       "    </tr>\n",
       "  </tbody>\n",
       "</table>\n",
       "</div>"
      ],
      "text/plain": [
       "     time_stamp  sensor_time_stamp         X         Y         Z  \\\n",
       "0  1.596619e+12       8.644134e+11  0.021991 -0.100182  0.162490   \n",
       "1  1.596619e+12       8.644334e+11  0.014661 -0.096517  0.125838   \n",
       "2  1.596619e+12       8.644534e+11  0.056200 -0.053756  0.107512   \n",
       "3  1.596619e+12       8.644734e+11  0.040317 -0.078191  0.073304   \n",
       "4  1.596619e+12       8.644934e+11  0.002443 -0.124617  0.013439   \n",
       "\n",
       "  real_time_stamp  \n",
       "0     19:03:09:12  \n",
       "1     19:03:09:12  \n",
       "2     19:03:09:12  \n",
       "3     19:03:09:12  \n",
       "4     19:03:09:12  "
      ]
     },
     "execution_count": 44,
     "metadata": {},
     "output_type": "execute_result"
    }
   ],
   "source": [
    "gyro_df.head()"
   ]
  },
  {
   "cell_type": "code",
   "execution_count": 46,
   "metadata": {
    "ExecuteTime": {
     "end_time": "2020-12-01T03:45:35.747826Z",
     "start_time": "2020-12-01T03:45:35.732663Z"
    }
   },
   "outputs": [
    {
     "data": {
      "text/html": [
       "<div>\n",
       "<style scoped>\n",
       "    .dataframe tbody tr th:only-of-type {\n",
       "        vertical-align: middle;\n",
       "    }\n",
       "\n",
       "    .dataframe tbody tr th {\n",
       "        vertical-align: top;\n",
       "    }\n",
       "\n",
       "    .dataframe thead th {\n",
       "        text-align: right;\n",
       "    }\n",
       "</style>\n",
       "<table border=\"1\" class=\"dataframe\">\n",
       "  <thead>\n",
       "    <tr style=\"text-align: right;\">\n",
       "      <th></th>\n",
       "      <th>activities</th>\n",
       "      <th>process</th>\n",
       "      <th>time</th>\n",
       "      <th>real_time</th>\n",
       "    </tr>\n",
       "  </thead>\n",
       "  <tbody>\n",
       "    <tr>\n",
       "      <th>294</th>\n",
       "      <td>climb_stairs</td>\n",
       "      <td>Begin</td>\n",
       "      <td>1596632651833</td>\n",
       "      <td>19:05:26:51</td>\n",
       "    </tr>\n",
       "    <tr>\n",
       "      <th>295</th>\n",
       "      <td>climb_stairs</td>\n",
       "      <td>End</td>\n",
       "      <td>1596632654922</td>\n",
       "      <td>19:05:26:54</td>\n",
       "    </tr>\n",
       "    <tr>\n",
       "      <th>296</th>\n",
       "      <td>climb_stairs</td>\n",
       "      <td>Begin</td>\n",
       "      <td>1596632660050</td>\n",
       "      <td>19:05:26:60</td>\n",
       "    </tr>\n",
       "    <tr>\n",
       "      <th>297</th>\n",
       "      <td>climb_stairs</td>\n",
       "      <td>End</td>\n",
       "      <td>1596632663131</td>\n",
       "      <td>19:05:26:63</td>\n",
       "    </tr>\n",
       "    <tr>\n",
       "      <th>298</th>\n",
       "      <td>down_stairs</td>\n",
       "      <td>Begin</td>\n",
       "      <td>1596632670653</td>\n",
       "      <td>19:05:26:70</td>\n",
       "    </tr>\n",
       "    <tr>\n",
       "      <th>299</th>\n",
       "      <td>down_stairs</td>\n",
       "      <td>End</td>\n",
       "      <td>1596632674407</td>\n",
       "      <td>19:05:26:74</td>\n",
       "    </tr>\n",
       "    <tr>\n",
       "      <th>300</th>\n",
       "      <td>down_stairs</td>\n",
       "      <td>Begin</td>\n",
       "      <td>1596632679891</td>\n",
       "      <td>19:05:26:79</td>\n",
       "    </tr>\n",
       "    <tr>\n",
       "      <th>301</th>\n",
       "      <td>down_stairs</td>\n",
       "      <td>End</td>\n",
       "      <td>1596632682812</td>\n",
       "      <td>19:05:26:82</td>\n",
       "    </tr>\n",
       "    <tr>\n",
       "      <th>302</th>\n",
       "      <td>down_stairs</td>\n",
       "      <td>Begin</td>\n",
       "      <td>1596632687620</td>\n",
       "      <td>19:05:26:87</td>\n",
       "    </tr>\n",
       "    <tr>\n",
       "      <th>303</th>\n",
       "      <td>down_stairs</td>\n",
       "      <td>End</td>\n",
       "      <td>1596632690787</td>\n",
       "      <td>19:05:26:90</td>\n",
       "    </tr>\n",
       "    <tr>\n",
       "      <th>304</th>\n",
       "      <td>down_stairs</td>\n",
       "      <td>Begin</td>\n",
       "      <td>1596632695554</td>\n",
       "      <td>19:05:26:95</td>\n",
       "    </tr>\n",
       "    <tr>\n",
       "      <th>305</th>\n",
       "      <td>down_stairs</td>\n",
       "      <td>End</td>\n",
       "      <td>1596632698177</td>\n",
       "      <td>19:05:26:98</td>\n",
       "    </tr>\n",
       "    <tr>\n",
       "      <th>306</th>\n",
       "      <td>down_stairs</td>\n",
       "      <td>Begin</td>\n",
       "      <td>1596632703511</td>\n",
       "      <td>19:05:27:03</td>\n",
       "    </tr>\n",
       "    <tr>\n",
       "      <th>307</th>\n",
       "      <td>down_stairs</td>\n",
       "      <td>End</td>\n",
       "      <td>1596632706062</td>\n",
       "      <td>19:05:27:06</td>\n",
       "    </tr>\n",
       "    <tr>\n",
       "      <th>308</th>\n",
       "      <td>down_stairs</td>\n",
       "      <td>Begin</td>\n",
       "      <td>1596632710643</td>\n",
       "      <td>19:05:27:10</td>\n",
       "    </tr>\n",
       "    <tr>\n",
       "      <th>309</th>\n",
       "      <td>down_stairs</td>\n",
       "      <td>End</td>\n",
       "      <td>1596632713264</td>\n",
       "      <td>19:05:27:13</td>\n",
       "    </tr>\n",
       "    <tr>\n",
       "      <th>310</th>\n",
       "      <td>down_stairs</td>\n",
       "      <td>Begin</td>\n",
       "      <td>1596632718206</td>\n",
       "      <td>19:05:27:18</td>\n",
       "    </tr>\n",
       "    <tr>\n",
       "      <th>311</th>\n",
       "      <td>down_stairs</td>\n",
       "      <td>End</td>\n",
       "      <td>1596632721354</td>\n",
       "      <td>19:05:27:21</td>\n",
       "    </tr>\n",
       "    <tr>\n",
       "      <th>312</th>\n",
       "      <td>down_stairs</td>\n",
       "      <td>Begin</td>\n",
       "      <td>1596632725640</td>\n",
       "      <td>19:05:27:25</td>\n",
       "    </tr>\n",
       "    <tr>\n",
       "      <th>313</th>\n",
       "      <td>down_stairs</td>\n",
       "      <td>End</td>\n",
       "      <td>1596632728797</td>\n",
       "      <td>19:05:27:28</td>\n",
       "    </tr>\n",
       "  </tbody>\n",
       "</table>\n",
       "</div>"
      ],
      "text/plain": [
       "       activities process           time    real_time\n",
       "294  climb_stairs   Begin  1596632651833  19:05:26:51\n",
       "295  climb_stairs     End  1596632654922  19:05:26:54\n",
       "296  climb_stairs   Begin  1596632660050  19:05:26:60\n",
       "297  climb_stairs     End  1596632663131  19:05:26:63\n",
       "298   down_stairs   Begin  1596632670653  19:05:26:70\n",
       "299   down_stairs     End  1596632674407  19:05:26:74\n",
       "300   down_stairs   Begin  1596632679891  19:05:26:79\n",
       "301   down_stairs     End  1596632682812  19:05:26:82\n",
       "302   down_stairs   Begin  1596632687620  19:05:26:87\n",
       "303   down_stairs     End  1596632690787  19:05:26:90\n",
       "304   down_stairs   Begin  1596632695554  19:05:26:95\n",
       "305   down_stairs     End  1596632698177  19:05:26:98\n",
       "306   down_stairs   Begin  1596632703511  19:05:27:03\n",
       "307   down_stairs     End  1596632706062  19:05:27:06\n",
       "308   down_stairs   Begin  1596632710643  19:05:27:10\n",
       "309   down_stairs     End  1596632713264  19:05:27:13\n",
       "310   down_stairs   Begin  1596632718206  19:05:27:18\n",
       "311   down_stairs     End  1596632721354  19:05:27:21\n",
       "312   down_stairs   Begin  1596632725640  19:05:27:25\n",
       "313   down_stairs     End  1596632728797  19:05:27:28"
      ]
     },
     "execution_count": 46,
     "metadata": {},
     "output_type": "execute_result"
    }
   ],
   "source": [
    "final_an_csv.tail(20)"
   ]
  },
  {
   "cell_type": "markdown",
   "metadata": {},
   "source": [
    "### Q and A\n",
    "\n",
    "\n",
    "- How do we pick the data? Since we have multiple files for each second <<< No \n",
    "- The special requirement : Wed 12/2\n",
    "- How to upload model OwO : Wed 12/2"
   ]
  },
  {
   "cell_type": "markdown",
   "metadata": {},
   "source": [
    "Take "
   ]
  },
  {
   "cell_type": "code",
   "execution_count": 37,
   "metadata": {
    "ExecuteTime": {
     "end_time": "2020-12-01T03:33:04.396673Z",
     "start_time": "2020-12-01T03:33:04.382772Z"
    }
   },
   "outputs": [
    {
     "data": {
      "text/html": [
       "<div>\n",
       "<style scoped>\n",
       "    .dataframe tbody tr th:only-of-type {\n",
       "        vertical-align: middle;\n",
       "    }\n",
       "\n",
       "    .dataframe tbody tr th {\n",
       "        vertical-align: top;\n",
       "    }\n",
       "\n",
       "    .dataframe thead th {\n",
       "        text-align: right;\n",
       "    }\n",
       "</style>\n",
       "<table border=\"1\" class=\"dataframe\">\n",
       "  <thead>\n",
       "    <tr style=\"text-align: right;\">\n",
       "      <th></th>\n",
       "      <th>Activity</th>\n",
       "      <th>Start</th>\n",
       "      <th>End</th>\n",
       "      <th>Acc_Time_stamp</th>\n",
       "      <th>Acc_X</th>\n",
       "      <th>Acc_Y</th>\n",
       "      <th>Acc_Z</th>\n",
       "    </tr>\n",
       "  </thead>\n",
       "  <tbody>\n",
       "  </tbody>\n",
       "</table>\n",
       "</div>"
      ],
      "text/plain": [
       "Empty DataFrame\n",
       "Columns: [Activity, Start, End, Acc_Time_stamp, Acc_X, Acc_Y, Acc_Z]\n",
       "Index: []"
      ]
     },
     "execution_count": 37,
     "metadata": {},
     "output_type": "execute_result"
    }
   ],
   "source": [
    "final_df = pd.DataFrame([], columns=[\"Activity\",\"Start\",\"End\",\"Acc_Time_stamp\",\"Acc_X\",\"Acc_Y\",\"Acc_Z\"])\n",
    "final_df"
   ]
  },
  {
   "cell_type": "markdown",
   "metadata": {},
   "source": [
    "- Funtion for merging\n",
    "- Create a Activity , Start , End (2s) >>"
   ]
  }
 ],
 "metadata": {
  "kernelspec": {
   "display_name": "Python 3",
   "language": "python",
   "name": "python3"
  },
  "language_info": {
   "codemirror_mode": {
    "name": "ipython",
    "version": 3
   },
   "file_extension": ".py",
   "mimetype": "text/x-python",
   "name": "python",
   "nbconvert_exporter": "python",
   "pygments_lexer": "ipython3",
   "version": "3.7.7"
  },
  "toc": {
   "base_numbering": 1,
   "nav_menu": {},
   "number_sections": true,
   "sideBar": true,
   "skip_h1_title": false,
   "title_cell": "Table of Contents",
   "title_sidebar": "Contents",
   "toc_cell": false,
   "toc_position": {},
   "toc_section_display": true,
   "toc_window_display": false
  },
  "varInspector": {
   "cols": {
    "lenName": 16,
    "lenType": 16,
    "lenVar": 40
   },
   "kernels_config": {
    "python": {
     "delete_cmd_postfix": "",
     "delete_cmd_prefix": "del ",
     "library": "var_list.py",
     "varRefreshCmd": "print(var_dic_list())"
    },
    "r": {
     "delete_cmd_postfix": ") ",
     "delete_cmd_prefix": "rm(",
     "library": "var_list.r",
     "varRefreshCmd": "cat(var_dic_list()) "
    }
   },
   "types_to_exclude": [
    "module",
    "function",
    "builtin_function_or_method",
    "instance",
    "_Feature"
   ],
   "window_display": false
  }
 },
 "nbformat": 4,
 "nbformat_minor": 4
}
